{
 "cells": [
  {
   "cell_type": "code",
   "id": "initial_id",
   "metadata": {
    "collapsed": true,
    "ExecuteTime": {
     "end_time": "2025-05-09T11:25:57.653004Z",
     "start_time": "2025-05-09T11:25:57.545417Z"
    }
   },
   "source": [
    "import numpy as np\n",
    "\n",
    "data_train = np.load('../Train_data/Pretrain/chb-1.npy')  # 返回一个 NumPy 数组\n",
    "\n",
    "# 查看数据\n",
    "print(data_train.shape)  # 打印数组形状\n",
    "print(data_train.dtype)  # 打印数据类型\n",
    "print(data_train[:,5])    # 打印前5个数据（如果是1D数组）"
   ],
   "outputs": [
    {
     "name": "stdout",
     "output_type": "stream",
     "text": [
      "(22, 921600)\n",
      "float64\n",
      "[ 3.47544693e-01 -8.27045492e-01  8.63187874e-02 -1.95101031e-01\n",
      "  3.04014688e-03 -1.08366604e-01 -8.77858392e-01  3.93842715e-01\n",
      "  3.47829638e-01  9.58487792e-01 -5.61146986e-01 -3.61148965e+00\n",
      " -2.45797698e+00  2.53796236e+00  1.37286564e+00 -4.32230645e+00\n",
      "  3.85350031e-01 -1.93519733e+00 -8.60894112e-02 -6.06723078e-01\n",
      "  2.78544587e-01  9.32597388e-01]\n"
     ]
    }
   ],
   "execution_count": 1
  },
  {
   "metadata": {},
   "cell_type": "markdown",
   "source": "",
   "id": "7318c2faf26b8603"
  }
 ],
 "metadata": {
  "kernelspec": {
   "display_name": "Python 3",
   "language": "python",
   "name": "python3"
  },
  "language_info": {
   "codemirror_mode": {
    "name": "ipython",
    "version": 2
   },
   "file_extension": ".py",
   "mimetype": "text/x-python",
   "name": "python",
   "nbconvert_exporter": "python",
   "pygments_lexer": "ipython2",
   "version": "2.7.6"
  }
 },
 "nbformat": 4,
 "nbformat_minor": 5
}
