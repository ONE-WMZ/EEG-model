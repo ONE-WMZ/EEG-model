{
 "cells": [
  {
   "cell_type": "code",
   "id": "initial_id",
   "metadata": {
    "collapsed": true,
    "ExecuteTime": {
     "end_time": "2025-04-04T12:01:38.954430Z",
     "start_time": "2025-04-04T12:01:12.637888Z"
    }
   },
   "source": [
    "from data_set import train_set\n",
    "from data_set import train_file_path"
   ],
   "outputs": [],
   "execution_count": 1
  },
  {
   "metadata": {
    "ExecuteTime": {
     "end_time": "2025-04-04T12:01:38.970516Z",
     "start_time": "2025-04-04T12:01:38.954430Z"
    }
   },
   "cell_type": "code",
   "source": [
    "train_list = train_file_path()\n",
    "print(train_list)"
   ],
   "id": "fdc55e0a42c88364",
   "outputs": [
    {
     "name": "stdout",
     "output_type": "stream",
     "text": [
      "['F:/CHB_MIT/chb-mit-scalp-eeg-database-1.0.0/chb01/chb01_03.edf', 'F:/CHB_MIT/chb-mit-scalp-eeg-database-1.0.0/chb02/chb02_19.edf', 'F:/CHB_MIT/chb-mit-scalp-eeg-database-1.0.0/chb03/chb03_01.edf', 'F:/CHB_MIT/chb-mit-scalp-eeg-database-1.0.0/chb04/chb04_05.edf', 'F:/CHB_MIT/chb-mit-scalp-eeg-database-1.0.0/chb05/chb05_06.edf', 'F:/CHB_MIT/chb-mit-scalp-eeg-database-1.0.0/chb06/chb06_01.edf', 'F:/CHB_MIT/chb-mit-scalp-eeg-database-1.0.0/chb07/chb07_12.edf', 'F:/CHB_MIT/chb-mit-scalp-eeg-database-1.0.0/chb08/chb08_02.edf']\n"
     ]
    }
   ],
   "execution_count": 2
  },
  {
   "metadata": {
    "ExecuteTime": {
     "end_time": "2025-04-04T12:01:39.040196Z",
     "start_time": "2025-04-04T12:01:38.972782Z"
    }
   },
   "cell_type": "code",
   "source": [
    "from torch.utils.data import DataLoader\n",
    "\n",
    "dataloader = DataLoader(train_set, batch_size=1, shuffle=True)\n",
    "\n",
    "# 读取一个批次\n",
    "batch = next(iter(dataloader))\n",
    "print(batch.shape)  \n",
    "\n",
    "# 取批次中的第一个样本\n",
    "first_in_batch = batch[0]\n",
    "print(first_in_batch.shape) "
   ],
   "id": "2e571b855732d4ba",
   "outputs": [
    {
     "name": "stdout",
     "output_type": "stream",
     "text": [
      "torch.Size([8, 22, 512])\n",
      "torch.Size([1, 8, 22, 512])\n",
      "torch.Size([8, 22, 512])\n"
     ]
    }
   ],
   "execution_count": 3
  },
  {
   "metadata": {},
   "cell_type": "markdown",
   "source": "",
   "id": "b10b608498e75206"
  }
 ],
 "metadata": {
  "kernelspec": {
   "display_name": "Python 3",
   "language": "python",
   "name": "python3"
  },
  "language_info": {
   "codemirror_mode": {
    "name": "ipython",
    "version": 2
   },
   "file_extension": ".py",
   "mimetype": "text/x-python",
   "name": "python",
   "nbconvert_exporter": "python",
   "pygments_lexer": "ipython2",
   "version": "2.7.6"
  }
 },
 "nbformat": 4,
 "nbformat_minor": 5
}
