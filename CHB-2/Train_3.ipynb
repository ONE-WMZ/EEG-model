{
 "cells": [
  {
   "metadata": {},
   "cell_type": "markdown",
   "source": "#  LSTM+channel_attention",
   "id": "92ccbd015b685e88"
  },
  {
   "cell_type": "code",
   "id": "initial_id",
   "metadata": {
    "collapsed": true,
    "ExecuteTime": {
     "end_time": "2025-04-08T06:32:31.445264Z",
     "start_time": "2025-04-08T06:32:13.620004Z"
    }
   },
   "source": [
    "from LSTM_channel import BiLSTMWithAttention\n",
    "from data_set import train_set\n",
    "import torch\n",
    "import torch.nn as nn\n",
    "import numpy as np\n",
    "from Task_block import contrastive_loss\n",
    "from torch.utils.data import DataLoader\n",
    "from Task_block import task_1\n",
    "from tqdm import tqdm    # 进度条\n",
    "from torch.optim.lr_scheduler import CosineAnnealingLR"
   ],
   "outputs": [],
   "execution_count": 3
  },
  {
   "metadata": {
    "ExecuteTime": {
     "end_time": "2025-04-08T06:32:31.479213Z",
     "start_time": "2025-04-08T06:32:31.446486Z"
    }
   },
   "cell_type": "code",
   "source": [
    "device = torch.device('cuda' if torch.cuda.is_available() else 'cpu')\n",
    "print(f\"Using device: {device}\")"
   ],
   "id": "a2dda8cddff17eb7",
   "outputs": [
    {
     "name": "stdout",
     "output_type": "stream",
     "text": [
      "Using device: cuda\n"
     ]
    }
   ],
   "execution_count": 4
  },
  {
   "metadata": {
    "ExecuteTime": {
     "end_time": "2025-04-08T06:32:31.487183Z",
     "start_time": "2025-04-08T06:32:31.480354Z"
    }
   },
   "cell_type": "code",
   "source": [
    "train_data = train_set\n",
    "train_loader = DataLoader(dataset=train_data, batch_size=1, shuffle=True)"
   ],
   "id": "8528037365bd1964",
   "outputs": [],
   "execution_count": 5
  },
  {
   "metadata": {
    "ExecuteTime": {
     "end_time": "2025-04-08T06:32:31.680677Z",
     "start_time": "2025-04-08T06:32:31.488417Z"
    }
   },
   "cell_type": "code",
   "source": "train_model = BiLSTMWithAttention().to(device)",
   "id": "5d8fc14331bff554",
   "outputs": [],
   "execution_count": 6
  },
  {
   "metadata": {
    "ExecuteTime": {
     "end_time": "2025-04-08T06:51:56.047325Z",
     "start_time": "2025-04-08T06:46:56.110674Z"
    }
   },
   "cell_type": "code",
   "source": [
    "optimizer = torch.optim.Adam(train_model.parameters(), lr=1e-6)  # 优化器\n",
    "# scheduler = CosineAnnealingLR(optimizer, T_max=10)  # 100epoch完成一个余弦周期\n",
    "num_epochs = 20\n",
    "train_losses = []\n",
    "# 训练阶段\n",
    "train_model.train()\n",
    "for epoch in range(num_epochs):\n",
    "    train_loss = 0.0\n",
    "    # 创建进度条\n",
    "    progress = tqdm(train_loader, desc=f'Epoch {epoch+1}/{num_epochs}')\n",
    "    for x in progress:\n",
    "        # 前向传播\n",
    "        x1 = x.squeeze(0)  # 输入 (8, 22, 512)\n",
    "        x1 = x1.to(device)\n",
    "        x2 = task_1(x1).to(device)\n",
    "        output_1 = train_model(x1)\n",
    "        output_2 = train_model(x2)\n",
    "        loss = contrastive_loss(output_1, output_2).to(device)\n",
    "        # 反向传播和优化\n",
    "        optimizer.zero_grad()\n",
    "        loss.backward()\n",
    "        optimizer.step()\n",
    "        train_loss += loss.item()\n",
    "        # 更新进度条显示\n",
    "        progress.set_postfix(loss=loss.item())\n",
    "    # scheduler.step()  # 更新学习率\n",
    "    # 计算epoch平均损失\n",
    "    epoch_train_loss = train_loss / len(train_loader)\n",
    "    train_losses.append(epoch_train_loss)\n",
    "    print(f'Epoch {epoch+1} - Train Loss: {epoch_train_loss:.4f}')"
   ],
   "id": "c8f8b40b3043d0ac",
   "outputs": [
    {
     "name": "stderr",
     "output_type": "stream",
     "text": [
      "Epoch 1/20: 100%|██████████| 1800/1800 [00:15<00:00, 116.28it/s, loss=0.549]\n"
     ]
    },
    {
     "name": "stdout",
     "output_type": "stream",
     "text": [
      "Epoch 1 - Train Loss: 0.5456\n"
     ]
    },
    {
     "name": "stderr",
     "output_type": "stream",
     "text": [
      "Epoch 2/20: 100%|██████████| 1800/1800 [00:15<00:00, 118.75it/s, loss=0.545]\n"
     ]
    },
    {
     "name": "stdout",
     "output_type": "stream",
     "text": [
      "Epoch 2 - Train Loss: 0.5457\n"
     ]
    },
    {
     "name": "stderr",
     "output_type": "stream",
     "text": [
      "Epoch 3/20: 100%|██████████| 1800/1800 [00:15<00:00, 117.59it/s, loss=0.543]\n"
     ]
    },
    {
     "name": "stdout",
     "output_type": "stream",
     "text": [
      "Epoch 3 - Train Loss: 0.5456\n"
     ]
    },
    {
     "name": "stderr",
     "output_type": "stream",
     "text": [
      "Epoch 4/20: 100%|██████████| 1800/1800 [00:15<00:00, 115.46it/s, loss=0.547]\n"
     ]
    },
    {
     "name": "stdout",
     "output_type": "stream",
     "text": [
      "Epoch 4 - Train Loss: 0.5456\n"
     ]
    },
    {
     "name": "stderr",
     "output_type": "stream",
     "text": [
      "Epoch 5/20: 100%|██████████| 1800/1800 [00:14<00:00, 122.00it/s, loss=0.543]\n"
     ]
    },
    {
     "name": "stdout",
     "output_type": "stream",
     "text": [
      "Epoch 5 - Train Loss: 0.5456\n"
     ]
    },
    {
     "name": "stderr",
     "output_type": "stream",
     "text": [
      "Epoch 6/20: 100%|██████████| 1800/1800 [00:14<00:00, 121.70it/s, loss=0.544]\n"
     ]
    },
    {
     "name": "stdout",
     "output_type": "stream",
     "text": [
      "Epoch 6 - Train Loss: 0.5455\n"
     ]
    },
    {
     "name": "stderr",
     "output_type": "stream",
     "text": [
      "Epoch 7/20: 100%|██████████| 1800/1800 [00:14<00:00, 127.28it/s, loss=0.546]\n"
     ]
    },
    {
     "name": "stdout",
     "output_type": "stream",
     "text": [
      "Epoch 7 - Train Loss: 0.5456\n"
     ]
    },
    {
     "name": "stderr",
     "output_type": "stream",
     "text": [
      "Epoch 8/20: 100%|██████████| 1800/1800 [00:14<00:00, 125.35it/s, loss=0.545]\n"
     ]
    },
    {
     "name": "stdout",
     "output_type": "stream",
     "text": [
      "Epoch 8 - Train Loss: 0.5455\n"
     ]
    },
    {
     "name": "stderr",
     "output_type": "stream",
     "text": [
      "Epoch 9/20: 100%|██████████| 1800/1800 [00:14<00:00, 120.40it/s, loss=0.547]\n"
     ]
    },
    {
     "name": "stdout",
     "output_type": "stream",
     "text": [
      "Epoch 9 - Train Loss: 0.5455\n"
     ]
    },
    {
     "name": "stderr",
     "output_type": "stream",
     "text": [
      "Epoch 10/20: 100%|██████████| 1800/1800 [00:15<00:00, 118.65it/s, loss=0.549]\n"
     ]
    },
    {
     "name": "stdout",
     "output_type": "stream",
     "text": [
      "Epoch 10 - Train Loss: 0.5456\n"
     ]
    },
    {
     "name": "stderr",
     "output_type": "stream",
     "text": [
      "Epoch 11/20: 100%|██████████| 1800/1800 [00:14<00:00, 121.28it/s, loss=0.546]\n"
     ]
    },
    {
     "name": "stdout",
     "output_type": "stream",
     "text": [
      "Epoch 11 - Train Loss: 0.5456\n"
     ]
    },
    {
     "name": "stderr",
     "output_type": "stream",
     "text": [
      "Epoch 12/20: 100%|██████████| 1800/1800 [00:14<00:00, 123.37it/s, loss=0.543]\n"
     ]
    },
    {
     "name": "stdout",
     "output_type": "stream",
     "text": [
      "Epoch 12 - Train Loss: 0.5455\n"
     ]
    },
    {
     "name": "stderr",
     "output_type": "stream",
     "text": [
      "Epoch 13/20: 100%|██████████| 1800/1800 [00:14<00:00, 121.91it/s, loss=0.548]\n"
     ]
    },
    {
     "name": "stdout",
     "output_type": "stream",
     "text": [
      "Epoch 13 - Train Loss: 0.5455\n"
     ]
    },
    {
     "name": "stderr",
     "output_type": "stream",
     "text": [
      "Epoch 14/20: 100%|██████████| 1800/1800 [00:14<00:00, 122.10it/s, loss=0.543]\n"
     ]
    },
    {
     "name": "stdout",
     "output_type": "stream",
     "text": [
      "Epoch 14 - Train Loss: 0.5455\n"
     ]
    },
    {
     "name": "stderr",
     "output_type": "stream",
     "text": [
      "Epoch 15/20: 100%|██████████| 1800/1800 [00:15<00:00, 119.58it/s, loss=0.544]\n"
     ]
    },
    {
     "name": "stdout",
     "output_type": "stream",
     "text": [
      "Epoch 15 - Train Loss: 0.5455\n"
     ]
    },
    {
     "name": "stderr",
     "output_type": "stream",
     "text": [
      "Epoch 16/20: 100%|██████████| 1800/1800 [00:15<00:00, 116.44it/s, loss=0.545]\n"
     ]
    },
    {
     "name": "stdout",
     "output_type": "stream",
     "text": [
      "Epoch 16 - Train Loss: 0.5454\n"
     ]
    },
    {
     "name": "stderr",
     "output_type": "stream",
     "text": [
      "Epoch 17/20: 100%|██████████| 1800/1800 [00:15<00:00, 118.37it/s, loss=0.548]\n"
     ]
    },
    {
     "name": "stdout",
     "output_type": "stream",
     "text": [
      "Epoch 17 - Train Loss: 0.5455\n"
     ]
    },
    {
     "name": "stderr",
     "output_type": "stream",
     "text": [
      "Epoch 18/20: 100%|██████████| 1800/1800 [00:15<00:00, 115.01it/s, loss=0.545]\n"
     ]
    },
    {
     "name": "stdout",
     "output_type": "stream",
     "text": [
      "Epoch 18 - Train Loss: 0.5455\n"
     ]
    },
    {
     "name": "stderr",
     "output_type": "stream",
     "text": [
      "Epoch 19/20: 100%|██████████| 1800/1800 [00:15<00:00, 118.48it/s, loss=0.547]\n"
     ]
    },
    {
     "name": "stdout",
     "output_type": "stream",
     "text": [
      "Epoch 19 - Train Loss: 0.5454\n"
     ]
    },
    {
     "name": "stderr",
     "output_type": "stream",
     "text": [
      "Epoch 20/20: 100%|██████████| 1800/1800 [00:14<00:00, 122.52it/s, loss=0.546]"
     ]
    },
    {
     "name": "stdout",
     "output_type": "stream",
     "text": [
      "Epoch 20 - Train Loss: 0.5455\n"
     ]
    },
    {
     "name": "stderr",
     "output_type": "stream",
     "text": [
      "\n"
     ]
    }
   ],
   "execution_count": 12
  },
  {
   "metadata": {
    "ExecuteTime": {
     "end_time": "2025-04-08T06:39:17.722909Z",
     "start_time": "2025-04-08T06:39:17.617605Z"
    }
   },
   "cell_type": "code",
   "source": [
    "import matplotlib.pyplot as plt\n",
    "# 绘制曲线\n",
    "plt.plot(train_losses, label='训练损失', color='blue')\n",
    "# 添加标题和图例\n",
    "plt.title('loss')\n",
    "plt.xlabel('epoch')\n",
    "plt.ylabel('value')\n",
    "# 显示图形\n",
    "plt.show()"
   ],
   "id": "7f39af3c53f37196",
   "outputs": [
    {
     "data": {
      "text/plain": [
       "<Figure size 640x480 with 1 Axes>"
      ],
      "image/png": "[encoded data removed]"
     },
     "metadata": {},
     "output_type": "display_data"
    }
   ],
   "execution_count": 9
  },
  {
   "metadata": {
    "ExecuteTime": {
     "end_time": "2025-04-08T06:39:20.247739Z",
     "start_time": "2025-04-08T06:39:20.228298Z"
    }
   },
   "cell_type": "code",
   "source": [
    "total_params = sum(p.numel() for p in train_model.parameters())\n",
    "print(f\"总参数量: {total_params:,}\")  "
   ],
   "id": "5bcbcfc6f0443704",
   "outputs": [
    {
     "name": "stdout",
     "output_type": "stream",
     "text": [
      "总参数量: 1,077,584\n"
     ]
    }
   ],
   "execution_count": 10
  },
  {
   "metadata": {},
   "cell_type": "code",
   "source": "# torch.save(train_model.state_dict(), 'train_2_weights.pth')",
   "id": "49847af0e7d4713",
   "outputs": [],
   "execution_count": null
  },
  {
   "metadata": {},
   "cell_type": "markdown",
   "source": [
    "### lr = [1e-4,1e-5,1e-6]\n",
    "### loss = 0.5454\n",
    "### 参数量：34W"
   ],
   "id": "c80da07c49a5a58b"
  },
  {
   "metadata": {},
   "cell_type": "markdown",
   "source": [
    "#### 参数量：107w\n",
    "#### loss = 0.5456\n"
   ],
   "id": "161a852165d38ca3"
  },
  {
   "metadata": {},
   "cell_type": "code",
   "outputs": [],
   "execution_count": null,
   "source": "",
   "id": "799e2b501f6258e5"
  }
 ],
 "metadata": {
  "kernelspec": {
   "display_name": "Python 3",
   "language": "python",
   "name": "python3"
  },
  "language_info": {
   "codemirror_mode": {
    "name": "ipython",
    "version": 2
   },
   "file_extension": ".py",
   "mimetype": "text/x-python",
   "name": "python",
   "nbconvert_exporter": "python",
   "pygments_lexer": "ipython2",
   "version": "2.7.6"
  }
 },
 "nbformat": 4,
 "nbformat_minor": 5
}
