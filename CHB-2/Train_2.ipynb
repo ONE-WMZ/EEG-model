{
 "cells": [
  {
   "metadata": {},
   "cell_type": "markdown",
   "source": "#  代码优化后",
   "id": "92ccbd015b685e88"
  },
  {
   "cell_type": "code",
   "id": "initial_id",
   "metadata": {
    "collapsed": true,
    "ExecuteTime": {
     "end_time": "2025-04-07T10:21:52.226548Z",
     "start_time": "2025-04-07T10:21:31.479162Z"
    }
   },
   "source": [
    "from Model_block import Encode\n",
    "from data_set import train_set\n",
    "import torch\n",
    "import torch.nn as nn\n",
    "import numpy as np\n",
    "from Task_block import contrastive_loss\n",
    "from torch.utils.data import DataLoader\n",
    "from Task_block import task_1\n",
    "from tqdm import tqdm    # 进度条\n",
    "from torch.optim.lr_scheduler import CosineAnnealingLR"
   ],
   "outputs": [],
   "execution_count": 1
  },
  {
   "metadata": {
    "ExecuteTime": {
     "end_time": "2025-04-07T10:21:52.246858Z",
     "start_time": "2025-04-07T10:21:52.226548Z"
    }
   },
   "cell_type": "code",
   "source": [
    "device = torch.device('cuda' if torch.cuda.is_available() else 'cpu')\n",
    "print(f\"Using device: {device}\")"
   ],
   "id": "a2dda8cddff17eb7",
   "outputs": [
    {
     "name": "stdout",
     "output_type": "stream",
     "text": [
      "Using device: cuda\n"
     ]
    }
   ],
   "execution_count": 2
  },
  {
   "metadata": {
    "ExecuteTime": {
     "end_time": "2025-04-07T10:21:52.262898Z",
     "start_time": "2025-04-07T10:21:52.246858Z"
    }
   },
   "cell_type": "code",
   "source": [
    "train_data = train_set\n",
    "train_loader = DataLoader(dataset=train_data, batch_size=1, shuffle=True)"
   ],
   "id": "8528037365bd1964",
   "outputs": [],
   "execution_count": 3
  },
  {
   "metadata": {
    "ExecuteTime": {
     "end_time": "2025-04-07T10:21:53.199596Z",
     "start_time": "2025-04-07T10:21:52.262898Z"
    }
   },
   "cell_type": "code",
   "source": [
    "train_model = Encode().to(device)\n",
    "optimizer = torch.optim.Adam(train_model.parameters(), lr=0.001)  # 优化器\n",
    "scheduler = CosineAnnealingLR(optimizer, T_max=10)  # 100epoch完成一个余弦周期"
   ],
   "id": "5d8fc14331bff554",
   "outputs": [],
   "execution_count": 4
  },
  {
   "metadata": {
    "ExecuteTime": {
     "end_time": "2025-04-07T12:28:00.362638Z",
     "start_time": "2025-04-07T11:58:19.314215Z"
    }
   },
   "cell_type": "code",
   "source": [
    "optimizer = torch.optim.Adam(train_model.parameters(), lr=0.0001)  # 优化器\n",
    "scheduler = CosineAnnealingLR(optimizer, T_max=10)  # 100epoch完成一个余弦周期\n",
    "num_epochs = 20\n",
    "train_losses = []\n",
    "# 训练阶段\n",
    "train_model.train()\n",
    "for epoch in range(num_epochs):\n",
    "    train_loss = 0.0\n",
    "    # 创建进度条\n",
    "    progress = tqdm(train_loader, desc=f'Epoch {epoch+1}/{num_epochs}')\n",
    "    for x in progress:\n",
    "        # 前向传播\n",
    "        x1 = x.squeeze(0)  # 输入 (8, 22, 512)\n",
    "        x1 = x1.to(device)\n",
    "        x2 = task_1(x1).to(device)\n",
    "        output_1 = train_model(x1)\n",
    "        output_2 = train_model(x2)\n",
    "        loss = contrastive_loss(output_1, output_2).to(device)\n",
    "        # 反向传播和优化\n",
    "        optimizer.zero_grad()\n",
    "        loss.backward()\n",
    "        optimizer.step()\n",
    "        train_loss += loss.item()\n",
    "        # 更新进度条显示\n",
    "        progress.set_postfix(loss=loss.item())\n",
    "    scheduler.step()  # 更新学习率\n",
    "    # 计算epoch平均损失\n",
    "    epoch_train_loss = train_loss / len(train_loader)\n",
    "    train_losses.append(epoch_train_loss)\n",
    "    print(f'Epoch {epoch+1} - Train Loss: {epoch_train_loss:.4f}')"
   ],
   "id": "c8f8b40b3043d0ac",
   "outputs": [
    {
     "name": "stderr",
     "output_type": "stream",
     "text": [
      "Epoch 1/20: 100%|██████████| 1800/1800 [01:28<00:00, 20.31it/s, loss=0.625]\n"
     ]
    },
    {
     "name": "stdout",
     "output_type": "stream",
     "text": [
      "Epoch 1 - Train Loss: 0.6164\n"
     ]
    },
    {
     "name": "stderr",
     "output_type": "stream",
     "text": [
      "Epoch 2/20: 100%|██████████| 1800/1800 [01:29<00:00, 20.04it/s, loss=0.629]\n"
     ]
    },
    {
     "name": "stdout",
     "output_type": "stream",
     "text": [
      "Epoch 2 - Train Loss: 0.6140\n"
     ]
    },
    {
     "name": "stderr",
     "output_type": "stream",
     "text": [
      "Epoch 3/20: 100%|██████████| 1800/1800 [01:29<00:00, 20.12it/s, loss=0.644]\n"
     ]
    },
    {
     "name": "stdout",
     "output_type": "stream",
     "text": [
      "Epoch 3 - Train Loss: 0.6125\n"
     ]
    },
    {
     "name": "stderr",
     "output_type": "stream",
     "text": [
      "Epoch 4/20: 100%|██████████| 1800/1800 [01:28<00:00, 20.26it/s, loss=0.613]\n"
     ]
    },
    {
     "name": "stdout",
     "output_type": "stream",
     "text": [
      "Epoch 4 - Train Loss: 0.6097\n"
     ]
    },
    {
     "name": "stderr",
     "output_type": "stream",
     "text": [
      "Epoch 5/20: 100%|██████████| 1800/1800 [01:29<00:00, 20.12it/s, loss=0.596]\n"
     ]
    },
    {
     "name": "stdout",
     "output_type": "stream",
     "text": [
      "Epoch 5 - Train Loss: 0.6067\n"
     ]
    },
    {
     "name": "stderr",
     "output_type": "stream",
     "text": [
      "Epoch 6/20: 100%|██████████| 1800/1800 [01:29<00:00, 20.05it/s, loss=0.578]\n"
     ]
    },
    {
     "name": "stdout",
     "output_type": "stream",
     "text": [
      "Epoch 6 - Train Loss: 0.6039\n"
     ]
    },
    {
     "name": "stderr",
     "output_type": "stream",
     "text": [
      "Epoch 7/20: 100%|██████████| 1800/1800 [01:28<00:00, 20.23it/s, loss=0.586]\n"
     ]
    },
    {
     "name": "stdout",
     "output_type": "stream",
     "text": [
      "Epoch 7 - Train Loss: 0.6014\n"
     ]
    },
    {
     "name": "stderr",
     "output_type": "stream",
     "text": [
      "Epoch 8/20: 100%|██████████| 1800/1800 [01:28<00:00, 20.32it/s, loss=0.599]\n"
     ]
    },
    {
     "name": "stdout",
     "output_type": "stream",
     "text": [
      "Epoch 8 - Train Loss: 0.5989\n"
     ]
    },
    {
     "name": "stderr",
     "output_type": "stream",
     "text": [
      "Epoch 9/20: 100%|██████████| 1800/1800 [01:29<00:00, 20.07it/s, loss=0.596]\n"
     ]
    },
    {
     "name": "stdout",
     "output_type": "stream",
     "text": [
      "Epoch 9 - Train Loss: 0.5971\n"
     ]
    },
    {
     "name": "stderr",
     "output_type": "stream",
     "text": [
      "Epoch 10/20: 100%|██████████| 1800/1800 [01:29<00:00, 20.13it/s, loss=0.6]  \n"
     ]
    },
    {
     "name": "stdout",
     "output_type": "stream",
     "text": [
      "Epoch 10 - Train Loss: 0.5962\n"
     ]
    },
    {
     "name": "stderr",
     "output_type": "stream",
     "text": [
      "Epoch 11/20: 100%|██████████| 1800/1800 [01:26<00:00, 20.72it/s, loss=0.648]\n"
     ]
    },
    {
     "name": "stdout",
     "output_type": "stream",
     "text": [
      "Epoch 11 - Train Loss: 0.5958\n"
     ]
    },
    {
     "name": "stderr",
     "output_type": "stream",
     "text": [
      "Epoch 12/20: 100%|██████████| 1800/1800 [01:27<00:00, 20.59it/s, loss=0.593]\n"
     ]
    },
    {
     "name": "stdout",
     "output_type": "stream",
     "text": [
      "Epoch 12 - Train Loss: 0.5960\n"
     ]
    },
    {
     "name": "stderr",
     "output_type": "stream",
     "text": [
      "Epoch 13/20: 100%|██████████| 1800/1800 [01:28<00:00, 20.35it/s, loss=0.596]\n"
     ]
    },
    {
     "name": "stdout",
     "output_type": "stream",
     "text": [
      "Epoch 13 - Train Loss: 0.5969\n"
     ]
    },
    {
     "name": "stderr",
     "output_type": "stream",
     "text": [
      "Epoch 14/20: 100%|██████████| 1800/1800 [01:29<00:00, 20.17it/s, loss=0.609]\n"
     ]
    },
    {
     "name": "stdout",
     "output_type": "stream",
     "text": [
      "Epoch 14 - Train Loss: 0.5980\n"
     ]
    },
    {
     "name": "stderr",
     "output_type": "stream",
     "text": [
      "Epoch 15/20: 100%|██████████| 1800/1800 [01:29<00:00, 20.19it/s, loss=0.593]\n"
     ]
    },
    {
     "name": "stdout",
     "output_type": "stream",
     "text": [
      "Epoch 15 - Train Loss: 0.6000\n"
     ]
    },
    {
     "name": "stderr",
     "output_type": "stream",
     "text": [
      "Epoch 16/20: 100%|██████████| 1800/1800 [01:30<00:00, 19.96it/s, loss=0.595]\n"
     ]
    },
    {
     "name": "stdout",
     "output_type": "stream",
     "text": [
      "Epoch 16 - Train Loss: 0.6012\n"
     ]
    },
    {
     "name": "stderr",
     "output_type": "stream",
     "text": [
      "Epoch 17/20: 100%|██████████| 1800/1800 [01:31<00:00, 19.78it/s, loss=0.622]\n"
     ]
    },
    {
     "name": "stdout",
     "output_type": "stream",
     "text": [
      "Epoch 17 - Train Loss: 0.6030\n"
     ]
    },
    {
     "name": "stderr",
     "output_type": "stream",
     "text": [
      "Epoch 18/20: 100%|██████████| 1800/1800 [01:28<00:00, 20.34it/s, loss=0.616]\n"
     ]
    },
    {
     "name": "stdout",
     "output_type": "stream",
     "text": [
      "Epoch 18 - Train Loss: 0.6043\n"
     ]
    },
    {
     "name": "stderr",
     "output_type": "stream",
     "text": [
      "Epoch 19/20: 100%|██████████| 1800/1800 [01:28<00:00, 20.39it/s, loss=0.622]\n"
     ]
    },
    {
     "name": "stdout",
     "output_type": "stream",
     "text": [
      "Epoch 19 - Train Loss: 0.6056\n"
     ]
    },
    {
     "name": "stderr",
     "output_type": "stream",
     "text": [
      "Epoch 20/20: 100%|██████████| 1800/1800 [01:29<00:00, 20.15it/s, loss=0.607]"
     ]
    },
    {
     "name": "stdout",
     "output_type": "stream",
     "text": [
      "Epoch 20 - Train Loss: 0.6061\n"
     ]
    },
    {
     "name": "stderr",
     "output_type": "stream",
     "text": [
      "\n"
     ]
    }
   ],
   "execution_count": 12
  },
  {
   "metadata": {
    "ExecuteTime": {
     "end_time": "2025-04-07T12:28:05.363257Z",
     "start_time": "2025-04-07T12:28:05.288845Z"
    }
   },
   "cell_type": "code",
   "source": [
    "import matplotlib.pyplot as plt\n",
    "# 绘制曲线\n",
    "plt.plot(train_losses, label='训练损失', color='blue')\n",
    "# 添加标题和图例\n",
    "plt.title('loss')\n",
    "plt.xlabel('epoch')\n",
    "plt.ylabel('value')\n",
    "# 显示图形\n",
    "plt.show()"
   ],
   "id": "7f39af3c53f37196",
   "outputs": [
    {
     "data": {
      "text/plain": [
       "<Figure size 640x480 with 1 Axes>"
      ],
      "image/png": "[encoded data removed]"
     },
     "metadata": {},
     "output_type": "display_data"
    }
   ],
   "execution_count": 13
  },
  {
   "metadata": {
    "ExecuteTime": {
     "end_time": "2025-04-07T12:28:08.894725Z",
     "start_time": "2025-04-07T12:28:08.887180Z"
    }
   },
   "cell_type": "code",
   "source": [
    "total_params = sum(p.numel() for p in train_model.parameters())\n",
    "print(f\"总参数量: {total_params:,}\")  "
   ],
   "id": "5bcbcfc6f0443704",
   "outputs": [
    {
     "name": "stdout",
     "output_type": "stream",
     "text": [
      "总参数量: 79,674\n"
     ]
    }
   ],
   "execution_count": 14
  },
  {
   "metadata": {
    "ExecuteTime": {
     "end_time": "2025-04-07T12:28:11.348053Z",
     "start_time": "2025-04-07T12:28:11.323820Z"
    }
   },
   "cell_type": "code",
   "source": "torch.save(train_model.state_dict(), 'train_2_weights.pth')",
   "id": "49847af0e7d4713",
   "outputs": [],
   "execution_count": 15
  },
  {
   "metadata": {},
   "cell_type": "markdown",
   "source": "### loss = 0.59 左右",
   "id": "c80da07c49a5a58b"
  }
 ],
 "metadata": {
  "kernelspec": {
   "display_name": "Python 3",
   "language": "python",
   "name": "python3"
  },
  "language_info": {
   "codemirror_mode": {
    "name": "ipython",
    "version": 2
   },
   "file_extension": ".py",
   "mimetype": "text/x-python",
   "name": "python",
   "nbconvert_exporter": "python",
   "pygments_lexer": "ipython2",
   "version": "2.7.6"
  }
 },
 "nbformat": 4,
 "nbformat_minor": 5
}
