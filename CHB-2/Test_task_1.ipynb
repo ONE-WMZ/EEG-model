{
 "cells": [
  {
   "cell_type": "code",
   "id": "initial_id",
   "metadata": {
    "collapsed": true,
    "ExecuteTime": {
     "end_time": "2025-03-28T11:03:54.016779Z",
     "start_time": "2025-03-28T11:03:52.712787Z"
    }
   },
   "source": [
    "from Task_block import contrastive_loss\n",
    "from Model_block import Encode"
   ],
   "outputs": [],
   "execution_count": 1
  },
  {
   "metadata": {
    "ExecuteTime": {
     "end_time": "2025-03-28T11:03:54.032093Z",
     "start_time": "2025-03-28T11:03:54.018289Z"
    }
   },
   "cell_type": "code",
   "source": [
    "# 高斯噪声\n",
    "def add_gaussian_noise(x, mean=0., std=0.1):\n",
    "    noise = torch.randn_like(x) * std + mean\n",
    "    return x + noise"
   ],
   "id": "3b60b8f2fda575c0",
   "outputs": [],
   "execution_count": 2
  },
  {
   "metadata": {
    "ExecuteTime": {
     "end_time": "2025-03-28T11:05:02.475522Z",
     "start_time": "2025-03-28T11:05:02.464493Z"
    }
   },
   "cell_type": "code",
   "source": [
    "import torch\n",
    "x1 = torch.rand(8,22,512)\n",
    "x2 = add_gaussian_noise(x1)\n",
    "model = Encode()\n",
    "optimizer = torch.optim.Adam(model.parameters(), lr=1e-2)"
   ],
   "id": "d4bf5ca7f2815a25",
   "outputs": [],
   "execution_count": 9
  },
  {
   "metadata": {
    "ExecuteTime": {
     "end_time": "2025-03-28T11:05:08.475989Z",
     "start_time": "2025-03-28T11:05:03.536470Z"
    }
   },
   "cell_type": "code",
   "source": [
    "for epoch in range(50):\n",
    "    y1 = model(x1)\n",
    "    y2 = model(x2)\n",
    "    optimizer.zero_grad()\n",
    "    loss = contrastive_loss(y1,y2)\n",
    "    loss.backward()\n",
    "    optimizer.step()\n",
    "    print(f\"Epoch {epoch}, Loss: {loss.item():.4f}\")"
   ],
   "id": "1fbbe42cccf2b52a",
   "outputs": [
    {
     "name": "stdout",
     "output_type": "stream",
     "text": [
      "Epoch 0, Loss: 1.3857\n",
      "Epoch 1, Loss: 1.4218\n",
      "Epoch 2, Loss: 0.7174\n",
      "Epoch 3, Loss: 0.6396\n",
      "Epoch 4, Loss: 0.6278\n",
      "Epoch 5, Loss: 0.6138\n",
      "Epoch 6, Loss: 0.5955\n",
      "Epoch 7, Loss: 0.5816\n",
      "Epoch 8, Loss: 0.5704\n",
      "Epoch 9, Loss: 0.5643\n",
      "Epoch 10, Loss: 0.5609\n",
      "Epoch 11, Loss: 0.5581\n",
      "Epoch 12, Loss: 0.5576\n",
      "Epoch 13, Loss: 0.5545\n",
      "Epoch 14, Loss: 0.5535\n",
      "Epoch 15, Loss: 0.5508\n",
      "Epoch 16, Loss: 0.5489\n",
      "Epoch 17, Loss: 0.5465\n",
      "Epoch 18, Loss: 0.5459\n",
      "Epoch 19, Loss: 0.5453\n",
      "Epoch 20, Loss: 0.5448\n",
      "Epoch 21, Loss: 0.5442\n",
      "Epoch 22, Loss: 0.5437\n",
      "Epoch 23, Loss: 0.5430\n",
      "Epoch 24, Loss: 0.5423\n",
      "Epoch 25, Loss: 0.5417\n",
      "Epoch 26, Loss: 0.5411\n",
      "Epoch 27, Loss: 0.5406\n",
      "Epoch 28, Loss: 0.5402\n",
      "Epoch 29, Loss: 0.5399\n",
      "Epoch 30, Loss: 0.5398\n",
      "Epoch 31, Loss: 0.5398\n",
      "Epoch 32, Loss: 0.5398\n",
      "Epoch 33, Loss: 0.5397\n",
      "Epoch 34, Loss: 0.5395\n",
      "Epoch 35, Loss: 0.5393\n",
      "Epoch 36, Loss: 0.5390\n",
      "Epoch 37, Loss: 0.5388\n",
      "Epoch 38, Loss: 0.5387\n",
      "Epoch 39, Loss: 0.5386\n",
      "Epoch 40, Loss: 0.5385\n",
      "Epoch 41, Loss: 0.5385\n",
      "Epoch 42, Loss: 0.5385\n",
      "Epoch 43, Loss: 0.5385\n",
      "Epoch 44, Loss: 0.5385\n",
      "Epoch 45, Loss: 0.5385\n",
      "Epoch 46, Loss: 0.5384\n",
      "Epoch 47, Loss: 0.5383\n",
      "Epoch 48, Loss: 0.5382\n",
      "Epoch 49, Loss: 0.5381\n"
     ]
    }
   ],
   "execution_count": 10
  },
  {
   "metadata": {
    "ExecuteTime": {
     "end_time": "2025-03-28T11:04:00.101278Z",
     "start_time": "2025-03-28T11:04:00.088150Z"
    }
   },
   "cell_type": "code",
   "source": [
    "for name, param in model.named_parameters():\n",
    "    print(f\"{name}: {param.shape}\")"
   ],
   "id": "1c826d789791b4d8",
   "outputs": [
    {
     "name": "stdout",
     "output_type": "stream",
     "text": [
      "one_block.conv1.0.weight: torch.Size([64, 22, 3])\n",
      "one_block.conv1.0.bias: torch.Size([64])\n",
      "one_block.conv1.1.weight: torch.Size([64])\n",
      "one_block.conv1.1.bias: torch.Size([64])\n",
      "one_block.conv2.0.weight: torch.Size([32, 64, 3])\n",
      "one_block.conv2.0.bias: torch.Size([32])\n",
      "one_block.conv2.1.weight: torch.Size([32])\n",
      "one_block.conv2.1.bias: torch.Size([32])\n",
      "one_block.final_conv.weight: torch.Size([22, 32, 1])\n",
      "one_block.final_conv.bias: torch.Size([22])\n",
      "two_block.fc.0.weight: torch.Size([11, 22])\n",
      "two_block.fc.2.weight: torch.Size([22, 11])\n",
      "three_block.query.weight: torch.Size([64, 32])\n",
      "three_block.query.bias: torch.Size([64])\n",
      "three_block.key.weight: torch.Size([64, 32])\n",
      "three_block.key.bias: torch.Size([64])\n",
      "three_block.value.weight: torch.Size([64, 32])\n",
      "three_block.value.bias: torch.Size([64])\n",
      "three_block.output_proj.weight: torch.Size([64, 64])\n",
      "three_block.output_proj.bias: torch.Size([64])\n"
     ]
    }
   ],
   "execution_count": 5
  },
  {
   "metadata": {
    "ExecuteTime": {
     "end_time": "2025-03-28T11:04:00.117117Z",
     "start_time": "2025-03-28T11:04:00.106413Z"
    }
   },
   "cell_type": "code",
   "source": [
    "total_params = sum(p.numel() for p in model.parameters())\n",
    "print(f\"Total parameters: {total_params}\")"
   ],
   "id": "76d0c5efa354bc1a",
   "outputs": [
    {
     "name": "stdout",
     "output_type": "stream",
     "text": [
      "Total parameters: 22362\n"
     ]
    }
   ],
   "execution_count": 6
  }
 ],
 "metadata": {
  "kernelspec": {
   "display_name": "Python 3",
   "language": "python",
   "name": "python3"
  },
  "language_info": {
   "codemirror_mode": {
    "name": "ipython",
    "version": 2
   },
   "file_extension": ".py",
   "mimetype": "text/x-python",
   "name": "python",
   "nbconvert_exporter": "python",
   "pygments_lexer": "ipython2",
   "version": "2.7.6"
  }
 },
 "nbformat": 4,
 "nbformat_minor": 5
}
