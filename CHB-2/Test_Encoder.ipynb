{
 "cells": [
  {
   "metadata": {},
   "cell_type": "markdown",
   "source": [
    "## \n",
    "### 输入： (8, 22, 512)\n",
    "### 输出： (8, 64)"
   ],
   "id": "a9dfe8a5643d1e1f"
  },
  {
   "cell_type": "code",
   "id": "initial_id",
   "metadata": {
    "collapsed": true,
    "ExecuteTime": {
     "end_time": "2025-03-28T09:27:39.635493Z",
     "start_time": "2025-03-28T09:27:38.334238Z"
    }
   },
   "source": [
    "from Model_block import Encode\n",
    "import torch"
   ],
   "outputs": [],
   "execution_count": 1
  },
  {
   "metadata": {
    "ExecuteTime": {
     "end_time": "2025-03-28T09:27:39.650909Z",
     "start_time": "2025-03-28T09:27:39.637482Z"
    }
   },
   "cell_type": "code",
   "source": [
    "x = torch.rand(8,22,512)\n",
    "model = Encode()"
   ],
   "id": "7f7c5232a8502e0b",
   "outputs": [],
   "execution_count": 2
  },
  {
   "metadata": {
    "ExecuteTime": {
     "end_time": "2025-03-28T09:27:39.666489Z",
     "start_time": "2025-03-28T09:27:39.652404Z"
    }
   },
   "cell_type": "code",
   "source": "print(model)",
   "id": "acbfe13b2c57a2ba",
   "outputs": [
    {
     "name": "stdout",
     "output_type": "stream",
     "text": [
      "Encode(\n",
      "  (one_block): Time_feature_block(\n",
      "    (conv1): Sequential(\n",
      "      (0): Conv1d(22, 64, kernel_size=(3,), stride=(1,), padding=(1,))\n",
      "      (1): BatchNorm1d(64, eps=1e-05, momentum=0.1, affine=True, track_running_stats=True)\n",
      "      (2): ReLU()\n",
      "    )\n",
      "    (conv2): Sequential(\n",
      "      (0): Conv1d(64, 32, kernel_size=(3,), stride=(2,), padding=(1,))\n",
      "      (1): BatchNorm1d(32, eps=1e-05, momentum=0.1, affine=True, track_running_stats=True)\n",
      "      (2): ReLU()\n",
      "    )\n",
      "    (final_conv): Conv1d(32, 22, kernel_size=(1,), stride=(1,))\n",
      "  )\n",
      "  (two_block): Channel_attention(\n",
      "    (avg_pool): AdaptiveAvgPool1d(output_size=1)\n",
      "    (max_pool): AdaptiveMaxPool1d(output_size=1)\n",
      "    (fc): Sequential(\n",
      "      (0): Linear(in_features=22, out_features=11, bias=False)\n",
      "      (1): ReLU()\n",
      "      (2): Linear(in_features=11, out_features=22, bias=False)\n",
      "    )\n",
      "    (sigmoid): Sigmoid()\n",
      "  )\n",
      "  (three_block): Self_attention_block(\n",
      "    (query): Linear(in_features=32, out_features=64, bias=True)\n",
      "    (key): Linear(in_features=32, out_features=64, bias=True)\n",
      "    (value): Linear(in_features=32, out_features=64, bias=True)\n",
      "    (output_proj): Linear(in_features=64, out_features=64, bias=True)\n",
      "  )\n",
      ")\n"
     ]
    }
   ],
   "execution_count": 3
  },
  {
   "metadata": {
    "ExecuteTime": {
     "end_time": "2025-03-28T09:27:39.697672Z",
     "start_time": "2025-03-28T09:27:39.667489Z"
    }
   },
   "cell_type": "code",
   "source": "out = model(x)",
   "id": "2419c06077d2cebb",
   "outputs": [],
   "execution_count": 4
  },
  {
   "metadata": {
    "ExecuteTime": {
     "end_time": "2025-03-28T09:27:57.077088Z",
     "start_time": "2025-03-28T09:27:57.062916Z"
    }
   },
   "cell_type": "code",
   "source": "print(out[0])",
   "id": "f08293d201a51a66",
   "outputs": [
    {
     "name": "stdout",
     "output_type": "stream",
     "text": [
      "tensor([ 0.0178, -0.0191, -0.1545, -0.1857,  0.1618, -0.4026, -0.1157,  0.1592,\n",
      "        -0.0452, -0.0274, -0.0319,  0.0934, -0.0286,  0.2063, -0.0086,  0.0491,\n",
      "         0.2256, -0.1456, -0.0568, -0.2219,  0.1643, -0.1894, -0.2332,  0.2044,\n",
      "        -0.0900,  0.0511, -0.0789,  0.0815, -0.0297, -0.1797,  0.0737, -0.1143,\n",
      "         0.0527, -0.1308, -0.0080,  0.3438,  0.0541,  0.0143,  0.0448,  0.0750,\n",
      "         0.1749,  0.2225,  0.1874, -0.1839,  0.0431, -0.0740,  0.0133, -0.1033,\n",
      "         0.0546, -0.0386, -0.2235, -0.0542, -0.1091, -0.1881,  0.1360, -0.1881,\n",
      "        -0.0996, -0.1118, -0.2402,  0.0404,  0.1245, -0.0333,  0.0736, -0.1222],\n",
      "       grad_fn=<SelectBackward0>)\n"
     ]
    }
   ],
   "execution_count": 7
  },
  {
   "metadata": {
    "ExecuteTime": {
     "end_time": "2025-03-28T09:27:39.713736Z",
     "start_time": "2025-03-28T09:27:39.698665Z"
    }
   },
   "cell_type": "code",
   "source": "print(out.shape)",
   "id": "34f6a5ac08b1affb",
   "outputs": [
    {
     "name": "stdout",
     "output_type": "stream",
     "text": [
      "torch.Size([8, 64])\n"
     ]
    }
   ],
   "execution_count": 5
  }
 ],
 "metadata": {
  "kernelspec": {
   "display_name": "Python 3",
   "language": "python",
   "name": "python3"
  },
  "language_info": {
   "codemirror_mode": {
    "name": "ipython",
    "version": 2
   },
   "file_extension": ".py",
   "mimetype": "text/x-python",
   "name": "python",
   "nbconvert_exporter": "python",
   "pygments_lexer": "ipython2",
   "version": "2.7.6"
  }
 },
 "nbformat": 4,
 "nbformat_minor": 5
}
