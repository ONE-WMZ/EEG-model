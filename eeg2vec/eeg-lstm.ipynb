{
 "cells": [
  {
   "cell_type": "code",
   "id": "initial_id",
   "metadata": {
    "collapsed": true,
    "ExecuteTime": {
     "end_time": "2025-01-08T11:35:25.638855Z",
     "start_time": "2025-01-08T11:35:24.993511Z"
    }
   },
   "source": [
    "import random\n",
    "import numpy as np\n",
    "import pandas as pd\n",
    "from scipy.io import loadmat \n",
    "import matplotlib.pyplot as plt"
   ],
   "outputs": [],
   "execution_count": 1
  },
  {
   "metadata": {
    "ExecuteTime": {
     "end_time": "2025-01-08T11:35:26.822512Z",
     "start_time": "2025-01-08T11:35:25.640866Z"
    }
   },
   "cell_type": "code",
   "source": [
    "eeg= loadmat('F:/SEED_IV/eeg_raw_data/1/1_20160518.mat')  #：15个被试（选一个）\n",
    "eeg1=eeg['cz_eeg1']                                       #：24个片段(选一个)\n",
    "eeg11=eeg1[0,:]                                           #：61个电极（选一个）\n",
    "print(eeg11.shape)                                        #：时间序列特征（500）"
   ],
   "id": "10d4ea0399dac0fc",
   "outputs": [
    {
     "name": "stdout",
     "output_type": "stream",
     "text": [
      "(33601,)\n"
     ]
    }
   ],
   "execution_count": 2
  },
  {
   "metadata": {
    "ExecuteTime": {
     "end_time": "2025-01-08T11:35:28.179147Z",
     "start_time": "2025-01-08T11:35:26.822512Z"
    }
   },
   "cell_type": "code",
   "source": [
    "import torch\n",
    "import torch.nn as nn\n",
    "from torch.utils.data import Dataset\n",
    "from torch.utils.data import DataLoader\n",
    "import torch.optim as optim\n",
    "import torch.nn.functional as F"
   ],
   "id": "999e7f000fa25bef",
   "outputs": [],
   "execution_count": 3
  },
  {
   "metadata": {
    "ExecuteTime": {
     "end_time": "2025-01-08T11:35:28.201349Z",
     "start_time": "2025-01-08T11:35:28.183356Z"
    }
   },
   "cell_type": "code",
   "source": [
    "class EEGDataset(Dataset):\n",
    "    def __init__(self):\n",
    "        pass\n",
    "    def __getitem__(self, index):\n",
    "        for index in range(50):\n",
    "            r = random.randint(0,100)\n",
    "            x = torch.Tensor(eeg11[index:index+500])\n",
    "            x = x.unsqueeze(1)\n",
    "            y = torch.Tensor(eeg11[r:r+500])\n",
    "            y = y.unsqueeze(1)\n",
    "            index +=1\n",
    "        return x, y\n",
    "    def __len__(self):\n",
    "        return 50\n",
    "\n",
    "dataset=EEGDataset()    "
   ],
   "id": "e47073d30b0bbf2b",
   "outputs": [],
   "execution_count": 4
  },
  {
   "metadata": {
    "ExecuteTime": {
     "end_time": "2025-01-08T11:35:28.217443Z",
     "start_time": "2025-01-08T11:35:28.201349Z"
    }
   },
   "cell_type": "code",
   "source": "dataloader = DataLoader(dataset,batch_size=10,shuffle=True)",
   "id": "cb61932396738769",
   "outputs": [],
   "execution_count": 5
  },
  {
   "metadata": {
    "ExecuteTime": {
     "end_time": "2025-01-08T11:35:28.233129Z",
     "start_time": "2025-01-08T11:35:28.217443Z"
    }
   },
   "cell_type": "code",
   "source": [
    "class eeglstm(nn.Module):\n",
    "    def __init__(self):\n",
    "        super(eeglstm,self).__init__()\n",
    "        # \n",
    "        self.lstm = nn.LSTM(1, 256, 2, batch_first=True)  #（input,hidden,layer）\n",
    "        self.mlp = nn.Sequential(\n",
    "            nn.Linear(256, 512),\n",
    "            nn.Linear(512,128),\n",
    "            nn.Linear(128,64)\n",
    "        )\n",
    "    def forward(self, x):\n",
    "        h0 = torch.zeros(2,10, 256).to(device)\n",
    "        c0 = torch.zeros(2,10, 256).to(device)\n",
    "        # print(x.shape)       ##(batch_size，sqe_len，input_size)\n",
    "        x, _ = self.lstm(x, (h0, c0))\n",
    "        x = self.mlp(x)\n",
    "        x = x.view(-1)\n",
    "        # y, _ = self.lstm(y, (h0, c0))\n",
    "        # y = self.mlp(y)\n",
    "        # y = y.view(-1)\n",
    "        return x\n",
    "model = eeglstm()"
   ],
   "id": "385d64ebf5ffc172",
   "outputs": [],
   "execution_count": 6
  },
  {
   "metadata": {
    "ExecuteTime": {
     "end_time": "2025-01-08T11:35:28.249155Z",
     "start_time": "2025-01-08T11:35:28.233129Z"
    }
   },
   "cell_type": "code",
   "source": "import math",
   "id": "b8bb25f33019cfb3",
   "outputs": [],
   "execution_count": 7
  },
  {
   "metadata": {
    "ExecuteTime": {
     "end_time": "2025-01-08T11:35:49.518234Z",
     "start_time": "2025-01-08T11:35:28.251362Z"
    }
   },
   "cell_type": "code",
   "source": [
    "device = torch.device(\"cuda:0\" if torch.cuda.is_available() else \"cpu\")\n",
    "model.to(device)\n",
    "loss_fn = nn.CosineSimilarity(dim=-1, eps=1e-6)\n",
    "loss_list = []\n",
    "cos_sim_list = []\n",
    "optimizer = optim.Adam(model.parameters(), lr=0.001)\n",
    "for epoch in range(50):\n",
    "    print('epoch:\\t',epoch)\n",
    "    for data in dataloader:\n",
    "        x,y = data \n",
    "        x = x.to(device)\n",
    "        y = y.to(device)\n",
    "        zx = model(x)\n",
    "        zy = model(y)\n",
    "        cos_sim = loss_fn(zx,zy)  # 计算相似度\n",
    "        loss = -cos_sim.mean()    # 最大化相似度\n",
    "        loss.backward()        # 反向传播\n",
    "        optimizer.step()       # 更新参数\n",
    "        optimizer.zero_grad()  # 梯度清空\n",
    "        loss = loss.cpu()\n",
    "        loss = loss.detach().numpy()\n",
    "        # loss = math.fabs(loss)\n",
    "        loss_list.append(loss)\n",
    "        cos_sim = cos_sim.cpu()\n",
    "        cos_sim = cos_sim.detach().numpy()\n",
    "        cos_sim_list.append(cos_sim)\n",
    "        "
   ],
   "id": "bc93253bae30bb1d",
   "outputs": [
    {
     "name": "stdout",
     "output_type": "stream",
     "text": [
      "epoch:\t 0\n",
      "epoch:\t 1\n",
      "epoch:\t 2\n",
      "epoch:\t 3\n",
      "epoch:\t 4\n",
      "epoch:\t 5\n",
      "epoch:\t 6\n",
      "epoch:\t 7\n",
      "epoch:\t 8\n",
      "epoch:\t 9\n",
      "epoch:\t 10\n",
      "epoch:\t 11\n",
      "epoch:\t 12\n",
      "epoch:\t 13\n",
      "epoch:\t 14\n",
      "epoch:\t 15\n",
      "epoch:\t 16\n",
      "epoch:\t 17\n",
      "epoch:\t 18\n",
      "epoch:\t 19\n",
      "epoch:\t 20\n",
      "epoch:\t 21\n",
      "epoch:\t 22\n",
      "epoch:\t 23\n",
      "epoch:\t 24\n",
      "epoch:\t 25\n",
      "epoch:\t 26\n",
      "epoch:\t 27\n",
      "epoch:\t 28\n",
      "epoch:\t 29\n",
      "epoch:\t 30\n",
      "epoch:\t 31\n",
      "epoch:\t 32\n",
      "epoch:\t 33\n",
      "epoch:\t 34\n",
      "epoch:\t 35\n",
      "epoch:\t 36\n",
      "epoch:\t 37\n",
      "epoch:\t 38\n",
      "epoch:\t 39\n",
      "epoch:\t 40\n",
      "epoch:\t 41\n",
      "epoch:\t 42\n",
      "epoch:\t 43\n",
      "epoch:\t 44\n",
      "epoch:\t 45\n",
      "epoch:\t 46\n",
      "epoch:\t 47\n",
      "epoch:\t 48\n",
      "epoch:\t 49\n"
     ]
    }
   ],
   "execution_count": 8
  },
  {
   "metadata": {
    "ExecuteTime": {
     "end_time": "2025-01-08T11:35:49.528785Z",
     "start_time": "2025-01-08T11:35:49.518234Z"
    }
   },
   "cell_type": "code",
   "source": [
    "loss_list= np.array(loss_list)\n",
    "cos_sim_list = np.array(cos_sim_list)"
   ],
   "id": "ffe88e2c004df7ff",
   "outputs": [],
   "execution_count": 9
  },
  {
   "metadata": {
    "ExecuteTime": {
     "end_time": "2025-01-08T11:35:49.541041Z",
     "start_time": "2025-01-08T11:35:49.528785Z"
    }
   },
   "cell_type": "code",
   "source": [
    "type(cos_sim_list)\n",
    "print(cos_sim_list)\n",
    "print(cos_sim_list.shape)"
   ],
   "id": "db7b9953fcf62c0b",
   "outputs": [
    {
     "name": "stdout",
     "output_type": "stream",
     "text": [
      "[0.98335004 0.93728673 0.9913561  0.99412817 0.9971517  0.99781585\n",
      " 0.99859226 0.9984989  0.9986855  0.9989854  0.99881333 0.9993449\n",
      " 0.9994425  0.9995233  0.99968123 0.9996156  0.9997293  0.9997658\n",
      " 0.99985355 0.9997867  0.9998404  0.99986017 0.99991715 0.9998597\n",
      " 0.99984956 0.9998853  0.9999084  0.9999008  0.99993974 0.9999521\n",
      " 0.99994093 0.99995506 0.99995226 0.9999523  0.99996257 0.9999607\n",
      " 0.99996555 0.99996877 0.9999625  0.9999652  0.999973   0.9999746\n",
      " 0.9999797  0.99998105 0.9999797  0.9999795  0.9999796  0.9999862\n",
      " 0.9999844  0.9999825  0.9999871  0.99998647 0.99998724 0.99998856\n",
      " 0.99998945 0.99999106 0.9999884  0.9999914  0.9999924  0.9999913\n",
      " 0.9999914  0.9999926  0.99999404 0.9999933  0.9999935  0.9999934\n",
      " 0.99999344 0.99999285 0.99999404 0.99999446 0.9999935  0.99999446\n",
      " 0.99999475 0.99999523 0.99999535 0.99999535 0.9999958  0.9999951\n",
      " 0.99999535 0.99999565 0.99999547 0.99999505 0.9999968  0.9999955\n",
      " 0.9999961  0.99999535 0.9999958  0.99999577 0.9999962  0.9999957\n",
      " 0.9999963  0.9999958  0.99999654 0.9999958  0.99999654 0.99999636\n",
      " 0.9999969  0.9999958  0.9999957  0.9999964  0.9999969  0.99999696\n",
      " 0.99999624 0.9999961  0.9999968  0.9999962  0.9999966  0.99999726\n",
      " 0.99999684 0.9999971  0.9999974  0.99999666 0.9999967  0.99999726\n",
      " 0.9999971  0.9999969  0.99999654 0.9999972  0.99999726 0.9999968\n",
      " 0.9999972  0.9999972  0.9999976  0.999997   0.9999972  0.99999785\n",
      " 0.9999972  0.9999971  0.9999975  0.99999684 0.99999726 0.99999774\n",
      " 0.9999975  0.99999696 0.99999714 0.99999785 0.9999975  0.9999975\n",
      " 0.9999978  0.99999774 0.9999973  0.9999978  0.99999744 0.9999974\n",
      " 0.99999714 0.99999714 0.9999982  0.999998   0.9999976  0.9999976\n",
      " 0.9999975  0.99999726 0.9999976  0.99999744 0.99999785 0.99999785\n",
      " 0.9999977  0.99999803 0.99999744 0.9999976  0.99999785 0.9999975\n",
      " 0.9999981  0.99999785 0.999998   0.9999976  0.9999979  0.999998\n",
      " 0.9999979  0.9999978  0.99999815 0.99999803 0.9999982  0.9999982\n",
      " 0.9999981  0.9999978  0.9999982  0.9999979  0.9999983  0.99999785\n",
      " 0.999998   0.9999982  0.9999979  0.99999774 0.99999815 0.9999981\n",
      " 0.99999845 0.99999785 0.9999983  0.9999985  0.99999833 0.9999982\n",
      " 0.9999982  0.9999979  0.99999785 0.9999986  0.9999982  0.9999985\n",
      " 0.9999984  0.99999833 0.99999833 0.99999815 0.99999815 0.99999833\n",
      " 0.99999803 0.9999983  0.99999833 0.99999857 0.9999986  0.9999983\n",
      " 0.99999815 0.999998   0.9999982  0.99999833 0.9999982  0.99999845\n",
      " 0.9999987  0.99999845 0.99999845 0.9999981  0.9999985  0.9999983\n",
      " 0.9999983  0.99999845 0.99999875 0.99999833 0.9999983  0.99999803\n",
      " 0.99999857 0.9999987  0.99999815 0.99999833 0.99999857 0.9999984\n",
      " 0.99999857 0.9999984  0.99999833 0.9999984  0.99999875 0.99999845\n",
      " 0.9999984  0.9999987  0.99999875 0.99999845 0.99999845 0.9999987\n",
      " 0.99999845 0.9999979  0.99999845 0.9999985 ]\n",
      "(250,)\n"
     ]
    }
   ],
   "execution_count": 10
  },
  {
   "metadata": {
    "ExecuteTime": {
     "end_time": "2025-01-08T11:35:49.613007Z",
     "start_time": "2025-01-08T11:35:49.541041Z"
    }
   },
   "cell_type": "code",
   "source": [
    "plt.plot(cos_sim_list)\n",
    "# plt.plot(loss_list)\n",
    "plt.show()"
   ],
   "id": "8ffea2d38c7137d3",
   "outputs": [
    {
     "data": {
      "text/plain": [
       "<Figure size 640x480 with 1 Axes>"
      ],
      "image/png": "[encoded data removed]"
     },
     "metadata": {},
     "output_type": "display_data"
    }
   ],
   "execution_count": 11
  }
 ],
 "metadata": {
  "kernelspec": {
   "display_name": "Python 3",
   "language": "python",
   "name": "python3"
  },
  "language_info": {
   "codemirror_mode": {
    "name": "ipython",
    "version": 2
   },
   "file_extension": ".py",
   "mimetype": "text/x-python",
   "name": "python",
   "nbconvert_exporter": "python",
   "pygments_lexer": "ipython2",
   "version": "2.7.6"
  }
 },
 "nbformat": 4,
 "nbformat_minor": 5
}
