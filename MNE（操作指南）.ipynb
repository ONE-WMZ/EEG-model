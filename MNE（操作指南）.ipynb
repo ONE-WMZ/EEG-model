{
 "cells": [
  {
   "metadata": {},
   "cell_type": "markdown",
   "source": "# MNE(操作指南)",
   "id": "743ddd7df2ec8a8c"
  },
  {
   "metadata": {},
   "cell_type": "markdown",
   "source": "### 文件信息",
   "id": "7da4203ee5cb47b7"
  },
  {
   "metadata": {
    "ExecuteTime": {
     "end_time": "2025-04-17T13:01:10.175585Z",
     "start_time": "2025-04-17T13:01:09.793029Z"
    }
   },
   "cell_type": "code",
   "source": [
    "# 导入库文件\n",
    "import mne\n",
    "import matplotlib"
   ],
   "id": "759c9e4089df64bb",
   "outputs": [],
   "execution_count": 1
  },
  {
   "cell_type": "code",
   "id": "initial_id",
   "metadata": {
    "collapsed": true,
    "ExecuteTime": {
     "end_time": "2025-04-17T13:13:44.323688Z",
     "start_time": "2025-04-17T13:13:44.204297Z"
    }
   },
   "source": [
    "# 文件路径\n",
    "path = 'F:/CHB_MIT/chb-mit-scalp-eeg-database-1.0.0/chb01/chb01_03.edf'\n",
    "# 交互式绘图\n",
    "matplotlib.use('Qt5Agg')\n",
    "# 读文件\n",
    "raw = mne.io.read_raw_edf(path)\n",
    "# 可视化数据\n",
    "raw.plot()"
   ],
   "outputs": [
    {
     "name": "stdout",
     "output_type": "stream",
     "text": [
      "Extracting EDF parameters from F:\\CHB_MIT\\chb-mit-scalp-eeg-database-1.0.0\\chb01\\chb01_03.edf...\n",
      "EDF file detected\n",
      "Setting channel info structure...\n",
      "Creating raw.info structure...\n"
     ]
    },
    {
     "name": "stderr",
     "output_type": "stream",
     "text": [
      "C:\\Users\\one\\AppData\\Local\\Temp\\ipykernel_28584\\3332629531.py:6: RuntimeWarning: Channel names are not unique, found duplicates for: {'T8-P8'}. Applying running numbers for duplicates.\n",
      "  raw = mne.io.read_raw_edf(path)\n"
     ]
    },
    {
     "data": {
      "text/plain": [
       "<MNEBrowseFigure size 800x800 with 4 Axes>"
      ]
     },
     "execution_count": 10,
     "metadata": {},
     "output_type": "execute_result"
    }
   ],
   "execution_count": 10
  },
  {
   "metadata": {
    "ExecuteTime": {
     "end_time": "2025-04-17T13:16:00.379554Z",
     "start_time": "2025-04-17T13:16:00.367548Z"
    }
   },
   "cell_type": "code",
   "source": [
    "# 可视化电极位置\n",
    "from mne.channels import make_standard_montage\n",
    "\n",
    "print(raw.info['dig'])  # 查看电极坐标信息\n",
    "print(raw.info['chs'][0]['loc'])  # 检查单个电极的坐标\n",
    "# raw.plot_sensors(ch_type='eeg',show_names=True)"
   ],
   "id": "c65fee1da607aa15",
   "outputs": [
    {
     "name": "stdout",
     "output_type": "stream",
     "text": [
      "[<DigPoint |        LPA : (-82.5, 0.0, 0.0) mm      : head frame>, <DigPoint |     Nasion : (-0.0, 114.0, 0.0) mm     : head frame>, <DigPoint |        RPA : (82.5, -0.0, -0.0) mm     : head frame>]\n",
      "[nan nan nan nan nan nan nan nan nan nan nan nan]\n"
     ]
    },
    {
     "name": "stderr",
     "output_type": "stream",
     "text": [
      "C:\\Users\\one\\AppData\\Local\\Temp\\ipykernel_28584\\2720303542.py:4: RuntimeWarning: DigMontage is only a subset of info. There are 23 channel positions not present in the DigMontage. The channels missing from the montage are:\n",
      "\n",
      "['FP1-F7', 'F7-T7', 'T7-P7', 'P7-O1', 'FP1-F3', 'F3-C3', 'C3-P3', 'P3-O1', 'FP2-F4', 'F4-C4', 'C4-P4', 'P4-O2', 'FP2-F8', 'F8-T8', 'T8-P8-0', 'P8-O2', 'FZ-CZ', 'CZ-PZ', 'P7-T7', 'T7-FT9', 'FT9-FT10', 'FT10-T8', 'T8-P8-1'].\n",
      "\n",
      "Consider using inst.rename_channels to match the montage nomenclature, or inst.set_channel_types if these are not EEG channels, or use the on_missing parameter if the channel positions are allowed to be unknown in your analyses.\n",
      "  raw.set_montage(montage, on_missing='warn')  # 应用到数据\n"
     ]
    }
   ],
   "execution_count": 14
  },
  {
   "metadata": {},
   "cell_type": "code",
   "source": [
    "# 定位电极位置\n",
    "raw.set_montage(montage='standard_1020', on_missing='ignore')\n",
    "\n",
    "# 查看坏导\n",
    "raw.info['bads']\n",
    "\n",
    "# 标记坏导\n",
    "# raw.info['bads'] = ['C1', 'T7', 'Temp']"
   ],
   "id": "4c837afeaeee5035",
   "outputs": [],
   "execution_count": null
  },
  {
   "metadata": {
    "ExecuteTime": {
     "end_time": "2025-04-17T13:04:39.856997Z",
     "start_time": "2025-04-17T13:04:39.662307Z"
    }
   },
   "cell_type": "code",
   "source": [
    "# 数据读入内存\n",
    "raw.load_data()\n",
    "\n",
    "# 插值处理坏导\n",
    "# raw.interpolate_bads(exclude=['temp'])"
   ],
   "id": "ae05b13963c1d34e",
   "outputs": [
    {
     "name": "stdout",
     "output_type": "stream",
     "text": [
      "Reading 0 ... 921599  =      0.000 ...  3599.996 secs...\n"
     ]
    },
    {
     "data": {
      "text/plain": [
       "<RawEDF | chb01_03.edf, 23 x 921600 (3600.0 s), ~161.7 MiB, data loaded>"
      ],
      "text/html": [
       "<script type=\"text/javascript\">\n",
       "    // must be `var` (not `const`) because this can get embedded multiple times on a page\n",
       "var toggleVisibility = (className) => {\n",
       "\n",
       "    const elements = document.querySelectorAll(`.${className}`);\n",
       "\n",
       "    elements.forEach(element => {\n",
       "        if (element.classList.contains(\"mne-repr-section-header\")) {\n",
       "            return  // Don't collapse the section header row\n",
       "        }\n",
       "        element.classList.toggle(\"mne-repr-collapsed\");\n",
       "    });\n",
       "\n",
       "    // trigger caret to rotate\n",
       "    var sel = `.mne-repr-section-header.${className} > th.mne-repr-section-toggle > button`;\n",
       "    const button = document.querySelector(sel);\n",
       "    button.classList.toggle(\"collapsed\");\n",
       "\n",
       "    // adjust tooltip\n",
       "    sel = `tr.mne-repr-section-header.${className}`;\n",
       "    const secHeadRow = document.querySelector(sel);\n",
       "    secHeadRow.classList.toggle(\"collapsed\");\n",
       "    secHeadRow.title = secHeadRow.title === \"Hide section\" ? \"Show section\" : \"Hide section\";\n",
       "}\n",
       "</script>\n",
       "\n",
       "<style type=\"text/css\">\n",
       "    /*\n",
       "Styles in this section apply both to the sphinx-built website docs and to notebooks\n",
       "rendered in an IDE or in Jupyter. In our web docs, styles here are complemented by\n",
       "doc/_static/styles.css and other CSS files (e.g. from the sphinx theme, sphinx-gallery,\n",
       "or bootstrap). In IDEs/Jupyter, those style files are unavailable, so only the rules in\n",
       "this file apply (plus whatever default styling the IDE applies).\n",
       "*/\n",
       ".mne-repr-table {\n",
       "    display: inline;  /* prevent using full container width */\n",
       "}\n",
       ".mne-repr-table tr.mne-repr-section-header > th {\n",
       "    padding-top: 1rem;\n",
       "    text-align: left;\n",
       "    vertical-align: middle;\n",
       "}\n",
       ".mne-repr-section-toggle > button {\n",
       "    all: unset;\n",
       "    display: block;\n",
       "    height: 1rem;\n",
       "    width: 1rem;\n",
       "}\n",
       ".mne-repr-section-toggle > button > svg {\n",
       "    height: 60%;\n",
       "}\n",
       "\n",
       "/* transition (rotation) effects on the collapser button */\n",
       ".mne-repr-section-toggle > button.collapsed > svg {\n",
       "    transition: 0.1s ease-out;\n",
       "    transform: rotate(-90deg);\n",
       "}\n",
       ".mne-repr-section-toggle > button:not(.collapsed) > svg {\n",
       "    transition: 0.1s ease-out;\n",
       "    transform: rotate(0deg);\n",
       "}\n",
       "\n",
       "/* hide collapsed table rows */\n",
       ".mne-repr-collapsed {\n",
       "    display: none;\n",
       "}\n",
       "\n",
       "\n",
       "@layer {\n",
       "    /*\n",
       "    Selectors in a `@layer` will always be lower-precedence than selectors outside the\n",
       "    layer. So even though e.g. `div.output_html` is present in the sphinx-rendered\n",
       "    website docs, the styles here won't take effect there as long as some other rule\n",
       "    somewhere in the page's CSS targets the same element.\n",
       "\n",
       "    In IDEs or Jupyter notebooks, though, the CSS files from the sphinx theme,\n",
       "    sphinx-gallery, and bootstrap are unavailable, so these styles will apply.\n",
       "\n",
       "    Notes:\n",
       "\n",
       "    - the selector `.accordion-body` is for MNE Reports\n",
       "    - the selector `.output_html` is for VSCode's notebook interface\n",
       "    - the selector `.jp-RenderedHTML` is for Jupyter notebook\n",
       "    - variables starting with `--theme-` are VSCode-specific.\n",
       "    - variables starting with `--jp-` are Jupyter styles, *some of which* are also\n",
       "      available in VSCode. Here we try the `--theme-` variable first, then fall back to\n",
       "      the `--jp-` ones.\n",
       "    */\n",
       "    .mne-repr-table {\n",
       "        --mne-toggle-color: var(--theme-foreground, var(--jp-ui-font-color1));\n",
       "        --mne-button-bg-color: var(--theme-button-background, var(--jp-info-color0, var(--jp-content-link-color)));\n",
       "        --mne-button-fg-color: var(--theme-button-foreground, var(--jp-ui-inverse-font-color0, var(--jp-editor-background)));\n",
       "        --mne-button-hover-bg-color: var(--theme-button-hover-background, var(--jp-info-color1));\n",
       "        --mne-button-radius: var(--jp-border-radius, 0.25rem);\n",
       "    }\n",
       "    /* chevron position/alignment; in VSCode it looks ok without adjusting */\n",
       "    .accordion-body .mne-repr-section-toggle > button,\n",
       "    .jp-RenderedHTML .mne-repr-section-toggle > button {\n",
       "        padding: 0 0 45% 25% !important;\n",
       "    }\n",
       "    /* chevron color; MNE Report doesn't have light/dark mode */\n",
       "    div.output_html .mne-repr-section-toggle > button > svg > path,\n",
       "    .jp-RenderedHTML .mne-repr-section-toggle > button > svg > path {\n",
       "        fill: var(--mne-toggle-color);\n",
       "    }\n",
       "    .accordion-body .mne-ch-names-btn,\n",
       "    div.output_html .mne-ch-names-btn,\n",
       "    .jp-RenderedHTML .mne-ch-names-btn {\n",
       "        -webkit-border-radius: var(--mne-button-radius);\n",
       "        -moz-border-radius: var(--mne-button-radius);\n",
       "        border-radius: var(--mne-button-radius);\n",
       "        border: none;\n",
       "        background-image: none;\n",
       "        background-color: var(--mne-button-bg-color);\n",
       "        color: var(--mne-button-fg-color);\n",
       "        font-size: inherit;\n",
       "        min-width: 1.5rem;\n",
       "        padding: 0.25rem;\n",
       "        text-align: center;\n",
       "        text-decoration: none;\n",
       "    }\n",
       "    .accordion-body .mne-ch-names-btn:hover,\n",
       "    div.output_html .mne.ch-names-btn:hover,\n",
       "    .jp-RenderedHTML .mne-ch-names-btn:hover {\n",
       "        background-color: var(--mne-button-hover-bg-color);\n",
       "        text-decoration: underline;\n",
       "    }\n",
       "    .accordion-body .mne-ch-names-btn:focus-visible,\n",
       "    div.output_html .mne-ch-names-btn:focus-visible,\n",
       "    .jp-RenderedHTML .mne-ch-names-btn:focus-visible {\n",
       "        outline: 0.1875rem solid var(--mne-button-bg-color) !important;\n",
       "        outline-offset: 0.1875rem !important;\n",
       "    }\n",
       "}\n",
       "</style>\n",
       "\n",
       "\n",
       "\n",
       "<table class=\"table mne-repr-table\">\n",
       "    \n",
       "\n",
       "\n",
       "\n",
       "\n",
       "\n",
       "\n",
       "\n",
       "<tr class=\"mne-repr-section-header general-f772fc07-154f-48f3-9a1b-52a3945eedfe\"\n",
       "     title=\"Hide section\" \n",
       "    onclick=\"toggleVisibility('general-f772fc07-154f-48f3-9a1b-52a3945eedfe')\">\n",
       "    <th class=\"mne-repr-section-toggle\">\n",
       "        <button >\n",
       "            <svg xmlns=\"http://www.w3.org/2000/svg\" viewBox=\"0 0 512 512\"><!--!Font Awesome Free 6.6.0 by @fontawesome - https://fontawesome.com License - https://fontawesome.com/license/free Copyright 2024 Fonticons, Inc.--><path d=\"M233.4 406.6c12.5 12.5 32.8 12.5 45.3 0l192-192c12.5-12.5 12.5-32.8 0-45.3s-32.8-12.5-45.3 0L256 338.7 86.6 169.4c-12.5-12.5-32.8-12.5-45.3 0s-12.5 32.8 0 45.3l192 192z\"/></svg>\n",
       "        </button>\n",
       "    </th>\n",
       "    <th colspan=\"2\">\n",
       "        <strong>General</strong>\n",
       "    </th>\n",
       "</tr>\n",
       "\n",
       "\n",
       "<tr class=\"repr-element general-f772fc07-154f-48f3-9a1b-52a3945eedfe \">\n",
       "    <td class=\"mne-repr-section-toggle\"></td>\n",
       "    <td>Filename(s)</td>\n",
       "    <td>\n",
       "        \n",
       "        chb01_03.edf\n",
       "        \n",
       "        \n",
       "    </td>\n",
       "</tr>\n",
       "\n",
       "<tr class=\"repr-element general-f772fc07-154f-48f3-9a1b-52a3945eedfe \">\n",
       "    <td class=\"mne-repr-section-toggle\"></td>\n",
       "    <td>MNE object type</td>\n",
       "    <td>RawEDF</td>\n",
       "</tr>\n",
       "<tr class=\"repr-element general-f772fc07-154f-48f3-9a1b-52a3945eedfe \">\n",
       "    <td class=\"mne-repr-section-toggle\"></td>\n",
       "    <td>Measurement date</td>\n",
       "    \n",
       "    <td>2076-11-06 at 13:43:04 UTC</td>\n",
       "    \n",
       "</tr>\n",
       "<tr class=\"repr-element general-f772fc07-154f-48f3-9a1b-52a3945eedfe \">\n",
       "    <td class=\"mne-repr-section-toggle\"></td>\n",
       "    <td>Participant</td>\n",
       "    \n",
       "    \n",
       "    <td>Surrogate</td>\n",
       "    \n",
       "    \n",
       "</tr>\n",
       "<tr class=\"repr-element general-f772fc07-154f-48f3-9a1b-52a3945eedfe \">\n",
       "    <td class=\"mne-repr-section-toggle\"></td>\n",
       "    <td>Experimenter</td>\n",
       "    \n",
       "    <td>Unknown</td>\n",
       "    \n",
       "</tr>\n",
       "    \n",
       "\n",
       "\n",
       "\n",
       "\n",
       "\n",
       "\n",
       "\n",
       "<tr class=\"mne-repr-section-header acquisition-7b975a8e-0941-43f5-87d8-d201ed36134c\"\n",
       "     title=\"Hide section\" \n",
       "    onclick=\"toggleVisibility('acquisition-7b975a8e-0941-43f5-87d8-d201ed36134c')\">\n",
       "    <th class=\"mne-repr-section-toggle\">\n",
       "        <button >\n",
       "            <svg xmlns=\"http://www.w3.org/2000/svg\" viewBox=\"0 0 512 512\"><!--!Font Awesome Free 6.6.0 by @fontawesome - https://fontawesome.com License - https://fontawesome.com/license/free Copyright 2024 Fonticons, Inc.--><path d=\"M233.4 406.6c12.5 12.5 32.8 12.5 45.3 0l192-192c12.5-12.5 12.5-32.8 0-45.3s-32.8-12.5-45.3 0L256 338.7 86.6 169.4c-12.5-12.5-32.8-12.5-45.3 0s-12.5 32.8 0 45.3l192 192z\"/></svg>\n",
       "        </button>\n",
       "    </th>\n",
       "    <th colspan=\"2\">\n",
       "        <strong>Acquisition</strong>\n",
       "    </th>\n",
       "</tr>\n",
       "\n",
       "\n",
       "<tr class=\"repr-element acquisition-7b975a8e-0941-43f5-87d8-d201ed36134c \">\n",
       "    <td class=\"mne-repr-section-toggle\"></td>\n",
       "    <td>Duration</td>\n",
       "    <td>01:00:00 (HH:MM:SS)</td>\n",
       "</tr>\n",
       "\n",
       "\n",
       "\n",
       "\n",
       "\n",
       "\n",
       "\n",
       "\n",
       "<tr class=\"repr-element acquisition-7b975a8e-0941-43f5-87d8-d201ed36134c \">\n",
       "    <td class=\"mne-repr-section-toggle\"></td>\n",
       "    <td>Sampling frequency</td>\n",
       "    <td>256.00 Hz</td>\n",
       "</tr>\n",
       "\n",
       "\n",
       "<tr class=\"repr-element acquisition-7b975a8e-0941-43f5-87d8-d201ed36134c \">\n",
       "    <td class=\"mne-repr-section-toggle\"></td>\n",
       "    <td>Time points</td>\n",
       "    <td>921,600</td>\n",
       "</tr>\n",
       "\n",
       "\n",
       "    \n",
       "\n",
       "\n",
       "\n",
       "\n",
       "\n",
       "\n",
       "\n",
       "<tr class=\"mne-repr-section-header channels-45f74a66-e6cb-42ac-aa22-d18e0be5af9c\"\n",
       "     title=\"Hide section\" \n",
       "    onclick=\"toggleVisibility('channels-45f74a66-e6cb-42ac-aa22-d18e0be5af9c')\">\n",
       "    <th class=\"mne-repr-section-toggle\">\n",
       "        <button >\n",
       "            <svg xmlns=\"http://www.w3.org/2000/svg\" viewBox=\"0 0 512 512\"><!--!Font Awesome Free 6.6.0 by @fontawesome - https://fontawesome.com License - https://fontawesome.com/license/free Copyright 2024 Fonticons, Inc.--><path d=\"M233.4 406.6c12.5 12.5 32.8 12.5 45.3 0l192-192c12.5-12.5 12.5-32.8 0-45.3s-32.8-12.5-45.3 0L256 338.7 86.6 169.4c-12.5-12.5-32.8-12.5-45.3 0s-12.5 32.8 0 45.3l192 192z\"/></svg>\n",
       "        </button>\n",
       "    </th>\n",
       "    <th colspan=\"2\">\n",
       "        <strong>Channels</strong>\n",
       "    </th>\n",
       "</tr>\n",
       "\n",
       "\n",
       "    \n",
       "<tr class=\"repr-element channels-45f74a66-e6cb-42ac-aa22-d18e0be5af9c \">\n",
       "    <td class=\"mne-repr-section-toggle\"></td>\n",
       "    <td>EEG</td>\n",
       "    <td>\n",
       "        <button class=\"mne-ch-names-btn sd-sphinx-override sd-btn sd-btn-info sd-text-wrap sd-shadow-sm\" onclick=\"alert('Good EEG:\\n\\nFP1-F7, F7-T7, T7-P7, P7-O1, FP1-F3, F3-C3, C3-P3, P3-O1, FP2-F4, F4-C4, C4-P4, P4-O2, FP2-F8, F8-T8, T8-P8-0, P8-O2, FZ-CZ, CZ-PZ, P7-T7, T7-FT9, FT9-FT10, FT10-T8, T8-P8-1')\" title=\"(Click to open in popup)&#13;&#13;FP1-F7, F7-T7, T7-P7, P7-O1, FP1-F3, F3-C3, C3-P3, P3-O1, FP2-F4, F4-C4, C4-P4, P4-O2, FP2-F8, F8-T8, T8-P8-0, P8-O2, FZ-CZ, CZ-PZ, P7-T7, T7-FT9, FT9-FT10, FT10-T8, T8-P8-1\">\n",
       "            23\n",
       "        </button>\n",
       "\n",
       "        \n",
       "    </td>\n",
       "</tr>\n",
       "\n",
       "\n",
       "<tr class=\"repr-element channels-45f74a66-e6cb-42ac-aa22-d18e0be5af9c \">\n",
       "    <td class=\"mne-repr-section-toggle\"></td>\n",
       "    <td>Head & sensor digitization</td>\n",
       "    \n",
       "    <td>Not available</td>\n",
       "    \n",
       "</tr>\n",
       "    \n",
       "\n",
       "\n",
       "\n",
       "\n",
       "\n",
       "\n",
       "\n",
       "<tr class=\"mne-repr-section-header filters-902abdc6-da28-488a-a96b-35418c2a2b4f\"\n",
       "     title=\"Hide section\" \n",
       "    onclick=\"toggleVisibility('filters-902abdc6-da28-488a-a96b-35418c2a2b4f')\">\n",
       "    <th class=\"mne-repr-section-toggle\">\n",
       "        <button >\n",
       "            <svg xmlns=\"http://www.w3.org/2000/svg\" viewBox=\"0 0 512 512\"><!--!Font Awesome Free 6.6.0 by @fontawesome - https://fontawesome.com License - https://fontawesome.com/license/free Copyright 2024 Fonticons, Inc.--><path d=\"M233.4 406.6c12.5 12.5 32.8 12.5 45.3 0l192-192c12.5-12.5 12.5-32.8 0-45.3s-32.8-12.5-45.3 0L256 338.7 86.6 169.4c-12.5-12.5-32.8-12.5-45.3 0s-12.5 32.8 0 45.3l192 192z\"/></svg>\n",
       "        </button>\n",
       "    </th>\n",
       "    <th colspan=\"2\">\n",
       "        <strong>Filters</strong>\n",
       "    </th>\n",
       "</tr>\n",
       "\n",
       "\n",
       "<tr class=\"repr-element filters-902abdc6-da28-488a-a96b-35418c2a2b4f \">\n",
       "    <td class=\"mne-repr-section-toggle\"></td>\n",
       "    <td>Highpass</td>\n",
       "    <td>0.00 Hz</td>\n",
       "</tr>\n",
       "\n",
       "\n",
       "<tr class=\"repr-element filters-902abdc6-da28-488a-a96b-35418c2a2b4f \">\n",
       "    <td class=\"mne-repr-section-toggle\"></td>\n",
       "    <td>Lowpass</td>\n",
       "    <td>128.00 Hz</td>\n",
       "</tr>\n",
       "\n",
       "\n",
       "</table>"
      ]
     },
     "execution_count": 6,
     "metadata": {},
     "output_type": "execute_result"
    }
   ],
   "execution_count": 6
  },
  {
   "metadata": {
    "ExecuteTime": {
     "end_time": "2025-04-17T13:04:43.098272Z",
     "start_time": "2025-04-17T13:04:42.597427Z"
    }
   },
   "cell_type": "code",
   "source": [
    "# 显示功率谱密度\n",
    "raw.plot_psd()"
   ],
   "id": "9d7afbf818e63264",
   "outputs": [
    {
     "name": "stdout",
     "output_type": "stream",
     "text": [
      "NOTE: plot_psd() is a legacy function. New code should use .compute_psd().plot().\n",
      "Effective window size : 8.000 (s)\n",
      "Plotting power spectral density (dB=True).\n"
     ]
    },
    {
     "name": "stderr",
     "output_type": "stream",
     "text": [
      "C:\\Users\\one\\AppData\\Local\\Temp\\ipykernel_28584\\3196231698.py:2: RuntimeWarning: Channel locations not available. Disabling spatial colors.\n",
      "  raw.plot_psd()\n"
     ]
    },
    {
     "data": {
      "text/plain": [
       "<MNELineFigure size 1000x350 with 1 Axes>"
      ]
     },
     "execution_count": 7,
     "metadata": {},
     "output_type": "execute_result"
    }
   ],
   "execution_count": 7
  },
  {
   "metadata": {
    "ExecuteTime": {
     "end_time": "2025-04-17T13:04:47.448268Z",
     "start_time": "2025-04-17T13:04:46.150453Z"
    }
   },
   "cell_type": "code",
   "source": [
    "# 滤波\n",
    "raw.filter(l_freq=0.1, h_freq=40)\n",
    "raw.notch_filter(freqs=50)  # 工频干扰\n",
    "raw.plot_psd()"
   ],
   "id": "b80d51b70caf5690",
   "outputs": [
    {
     "name": "stdout",
     "output_type": "stream",
     "text": [
      "Filtering raw data in 1 contiguous segment\n",
      "Setting up band-pass filter from 0.1 - 40 Hz\n",
      "\n",
      "FIR filter parameters\n",
      "---------------------\n",
      "Designing a one-pass, zero-phase, non-causal bandpass filter:\n",
      "- Windowed time-domain design (firwin) method\n",
      "- Hamming window with 0.0194 passband ripple and 53 dB stopband attenuation\n",
      "- Lower passband edge: 0.10\n",
      "- Lower transition bandwidth: 0.10 Hz (-6 dB cutoff frequency: 0.05 Hz)\n",
      "- Upper passband edge: 40.00 Hz\n",
      "- Upper transition bandwidth: 10.00 Hz (-6 dB cutoff frequency: 45.00 Hz)\n",
      "- Filter length: 8449 samples (33.004 s)\n",
      "\n",
      "Filtering raw data in 1 contiguous segment\n",
      "Setting up band-stop filter from 49 - 51 Hz\n",
      "\n",
      "FIR filter parameters\n",
      "---------------------\n",
      "Designing a one-pass, zero-phase, non-causal bandstop filter:\n",
      "- Windowed time-domain design (firwin) method\n",
      "- Hamming window with 0.0194 passband ripple and 53 dB stopband attenuation\n",
      "- Lower passband edge: 49.38\n",
      "- Lower transition bandwidth: 0.50 Hz (-6 dB cutoff frequency: 49.12 Hz)\n",
      "- Upper passband edge: 50.62 Hz\n",
      "- Upper transition bandwidth: 0.50 Hz (-6 dB cutoff frequency: 50.88 Hz)\n",
      "- Filter length: 1691 samples (6.605 s)\n",
      "\n"
     ]
    },
    {
     "name": "stderr",
     "output_type": "stream",
     "text": [
      "[Parallel(n_jobs=1)]: Done  17 tasks      | elapsed:    0.2s\n"
     ]
    },
    {
     "name": "stdout",
     "output_type": "stream",
     "text": [
      "NOTE: plot_psd() is a legacy function. New code should use .compute_psd().plot().\n",
      "Effective window size : 8.000 (s)\n"
     ]
    },
    {
     "name": "stderr",
     "output_type": "stream",
     "text": [
      "[Parallel(n_jobs=1)]: Done  17 tasks      | elapsed:    0.1s\n"
     ]
    },
    {
     "name": "stdout",
     "output_type": "stream",
     "text": [
      "Plotting power spectral density (dB=True).\n"
     ]
    },
    {
     "name": "stderr",
     "output_type": "stream",
     "text": [
      "C:\\Users\\one\\AppData\\Local\\Temp\\ipykernel_28584\\3627462913.py:4: RuntimeWarning: Channel locations not available. Disabling spatial colors.\n",
      "  raw.plot_psd()\n"
     ]
    },
    {
     "data": {
      "text/plain": [
       "<MNELineFigure size 1000x350 with 1 Axes>"
      ]
     },
     "execution_count": 8,
     "metadata": {},
     "output_type": "execute_result"
    }
   ],
   "execution_count": 8
  },
  {
   "metadata": {},
   "cell_type": "code",
   "outputs": [],
   "execution_count": null,
   "source": [
    "# 重参考\n",
    "# raw.set_eeg_reference()"
   ],
   "id": "dd4d18a88cf029e"
  },
  {
   "metadata": {
    "ExecuteTime": {
     "end_time": "2025-04-17T13:07:54.411050Z",
     "start_time": "2025-04-17T13:07:46.370663Z"
    }
   },
   "cell_type": "code",
   "source": [
    "# ICA（独立成分分析）\n",
    "ica = mne.preprocessing.ICA(n_components=10)\n",
    "ica.fit(raw)\n",
    "# 可视化每个独立成分的头皮分布\n",
    "ica.plot_components()"
   ],
   "id": "4796ebca3c8af2e4",
   "outputs": [
    {
     "name": "stdout",
     "output_type": "stream",
     "text": [
      "Fitting ICA to data using 23 channels (please be patient, this may take a while)\n",
      "Selecting by number: 10 components\n",
      "Fitting ICA took 7.1s.\n"
     ]
    },
    {
     "name": "stderr",
     "output_type": "stream",
     "text": [
      "WARNING:root:Did not find any electrode locations (in the info object), will attempt to use digitization points instead. However, if digitization points do not correspond to the EEG electrodes, this will lead to bad results. Please verify that the sensor locations in the plot are accurate.\n"
     ]
    },
    {
     "ename": "RuntimeError",
     "evalue": "No digitization points found.",
     "output_type": "error",
     "traceback": [
      "\u001B[1;31m---------------------------------------------------------------------------\u001B[0m",
      "\u001B[1;31mRuntimeError\u001B[0m                              Traceback (most recent call last)",
      "Cell \u001B[1;32mIn[9], line 4\u001B[0m\n\u001B[0;32m      2\u001B[0m ica \u001B[38;5;241m=\u001B[39m mne\u001B[38;5;241m.\u001B[39mpreprocessing\u001B[38;5;241m.\u001B[39mICA(n_components\u001B[38;5;241m=\u001B[39m\u001B[38;5;241m10\u001B[39m)\n\u001B[0;32m      3\u001B[0m ica\u001B[38;5;241m.\u001B[39mfit(raw)\n\u001B[1;32m----> 4\u001B[0m \u001B[43mica\u001B[49m\u001B[38;5;241;43m.\u001B[39;49m\u001B[43mplot_components\u001B[49m\u001B[43m(\u001B[49m\u001B[43m)\u001B[49m\n",
      "File \u001B[1;32mF:\\Anaconda3\\envs\\oneNet\\lib\\site-packages\\mne\\preprocessing\\ica.py:2502\u001B[0m, in \u001B[0;36mICA.plot_components\u001B[1;34m(self, picks, ch_type, inst, plot_std, reject, sensors, show_names, contours, outlines, sphere, image_interp, extrapolate, border, res, size, cmap, vlim, cnorm, colorbar, cbar_fmt, axes, title, nrows, ncols, show, image_args, psd_args, verbose)\u001B[0m\n\u001B[0;32m   2469\u001B[0m \u001B[38;5;129m@copy_function_doc_to_method_doc\u001B[39m(plot_ica_components)\n\u001B[0;32m   2470\u001B[0m \u001B[38;5;28;01mdef\u001B[39;00m \u001B[38;5;21mplot_components\u001B[39m(\n\u001B[0;32m   2471\u001B[0m     \u001B[38;5;28mself\u001B[39m,\n\u001B[1;32m   (...)\u001B[0m\n\u001B[0;32m   2500\u001B[0m     verbose\u001B[38;5;241m=\u001B[39m\u001B[38;5;28;01mNone\u001B[39;00m,\n\u001B[0;32m   2501\u001B[0m ):\n\u001B[1;32m-> 2502\u001B[0m     \u001B[38;5;28;01mreturn\u001B[39;00m \u001B[43mplot_ica_components\u001B[49m\u001B[43m(\u001B[49m\n\u001B[0;32m   2503\u001B[0m \u001B[43m        \u001B[49m\u001B[38;5;28;43mself\u001B[39;49m\u001B[43m,\u001B[49m\n\u001B[0;32m   2504\u001B[0m \u001B[43m        \u001B[49m\u001B[43mpicks\u001B[49m\u001B[38;5;241;43m=\u001B[39;49m\u001B[43mpicks\u001B[49m\u001B[43m,\u001B[49m\n\u001B[0;32m   2505\u001B[0m \u001B[43m        \u001B[49m\u001B[43mch_type\u001B[49m\u001B[38;5;241;43m=\u001B[39;49m\u001B[43mch_type\u001B[49m\u001B[43m,\u001B[49m\n\u001B[0;32m   2506\u001B[0m \u001B[43m        \u001B[49m\u001B[43minst\u001B[49m\u001B[38;5;241;43m=\u001B[39;49m\u001B[43minst\u001B[49m\u001B[43m,\u001B[49m\n\u001B[0;32m   2507\u001B[0m \u001B[43m        \u001B[49m\u001B[43mplot_std\u001B[49m\u001B[38;5;241;43m=\u001B[39;49m\u001B[43mplot_std\u001B[49m\u001B[43m,\u001B[49m\n\u001B[0;32m   2508\u001B[0m \u001B[43m        \u001B[49m\u001B[43mreject\u001B[49m\u001B[38;5;241;43m=\u001B[39;49m\u001B[43mreject\u001B[49m\u001B[43m,\u001B[49m\n\u001B[0;32m   2509\u001B[0m \u001B[43m        \u001B[49m\u001B[43msensors\u001B[49m\u001B[38;5;241;43m=\u001B[39;49m\u001B[43msensors\u001B[49m\u001B[43m,\u001B[49m\n\u001B[0;32m   2510\u001B[0m \u001B[43m        \u001B[49m\u001B[43mshow_names\u001B[49m\u001B[38;5;241;43m=\u001B[39;49m\u001B[43mshow_names\u001B[49m\u001B[43m,\u001B[49m\n\u001B[0;32m   2511\u001B[0m \u001B[43m        \u001B[49m\u001B[43mcontours\u001B[49m\u001B[38;5;241;43m=\u001B[39;49m\u001B[43mcontours\u001B[49m\u001B[43m,\u001B[49m\n\u001B[0;32m   2512\u001B[0m \u001B[43m        \u001B[49m\u001B[43moutlines\u001B[49m\u001B[38;5;241;43m=\u001B[39;49m\u001B[43moutlines\u001B[49m\u001B[43m,\u001B[49m\n\u001B[0;32m   2513\u001B[0m \u001B[43m        \u001B[49m\u001B[43msphere\u001B[49m\u001B[38;5;241;43m=\u001B[39;49m\u001B[43msphere\u001B[49m\u001B[43m,\u001B[49m\n\u001B[0;32m   2514\u001B[0m \u001B[43m        \u001B[49m\u001B[43mimage_interp\u001B[49m\u001B[38;5;241;43m=\u001B[39;49m\u001B[43mimage_interp\u001B[49m\u001B[43m,\u001B[49m\n\u001B[0;32m   2515\u001B[0m \u001B[43m        \u001B[49m\u001B[43mextrapolate\u001B[49m\u001B[38;5;241;43m=\u001B[39;49m\u001B[43mextrapolate\u001B[49m\u001B[43m,\u001B[49m\n\u001B[0;32m   2516\u001B[0m \u001B[43m        \u001B[49m\u001B[43mborder\u001B[49m\u001B[38;5;241;43m=\u001B[39;49m\u001B[43mborder\u001B[49m\u001B[43m,\u001B[49m\n\u001B[0;32m   2517\u001B[0m \u001B[43m        \u001B[49m\u001B[43mres\u001B[49m\u001B[38;5;241;43m=\u001B[39;49m\u001B[43mres\u001B[49m\u001B[43m,\u001B[49m\n\u001B[0;32m   2518\u001B[0m \u001B[43m        \u001B[49m\u001B[43msize\u001B[49m\u001B[38;5;241;43m=\u001B[39;49m\u001B[43msize\u001B[49m\u001B[43m,\u001B[49m\n\u001B[0;32m   2519\u001B[0m \u001B[43m        \u001B[49m\u001B[43mcmap\u001B[49m\u001B[38;5;241;43m=\u001B[39;49m\u001B[43mcmap\u001B[49m\u001B[43m,\u001B[49m\n\u001B[0;32m   2520\u001B[0m \u001B[43m        \u001B[49m\u001B[43mvlim\u001B[49m\u001B[38;5;241;43m=\u001B[39;49m\u001B[43mvlim\u001B[49m\u001B[43m,\u001B[49m\n\u001B[0;32m   2521\u001B[0m \u001B[43m        \u001B[49m\u001B[43mcnorm\u001B[49m\u001B[38;5;241;43m=\u001B[39;49m\u001B[43mcnorm\u001B[49m\u001B[43m,\u001B[49m\n\u001B[0;32m   2522\u001B[0m \u001B[43m        \u001B[49m\u001B[43mcolorbar\u001B[49m\u001B[38;5;241;43m=\u001B[39;49m\u001B[43mcolorbar\u001B[49m\u001B[43m,\u001B[49m\n\u001B[0;32m   2523\u001B[0m \u001B[43m        \u001B[49m\u001B[43mcbar_fmt\u001B[49m\u001B[38;5;241;43m=\u001B[39;49m\u001B[43mcbar_fmt\u001B[49m\u001B[43m,\u001B[49m\n\u001B[0;32m   2524\u001B[0m \u001B[43m        \u001B[49m\u001B[43maxes\u001B[49m\u001B[38;5;241;43m=\u001B[39;49m\u001B[43maxes\u001B[49m\u001B[43m,\u001B[49m\n\u001B[0;32m   2525\u001B[0m \u001B[43m        \u001B[49m\u001B[43mtitle\u001B[49m\u001B[38;5;241;43m=\u001B[39;49m\u001B[43mtitle\u001B[49m\u001B[43m,\u001B[49m\n\u001B[0;32m   2526\u001B[0m \u001B[43m        \u001B[49m\u001B[43mnrows\u001B[49m\u001B[38;5;241;43m=\u001B[39;49m\u001B[43mnrows\u001B[49m\u001B[43m,\u001B[49m\n\u001B[0;32m   2527\u001B[0m \u001B[43m        \u001B[49m\u001B[43mncols\u001B[49m\u001B[38;5;241;43m=\u001B[39;49m\u001B[43mncols\u001B[49m\u001B[43m,\u001B[49m\n\u001B[0;32m   2528\u001B[0m \u001B[43m        \u001B[49m\u001B[43mshow\u001B[49m\u001B[38;5;241;43m=\u001B[39;49m\u001B[43mshow\u001B[49m\u001B[43m,\u001B[49m\n\u001B[0;32m   2529\u001B[0m \u001B[43m        \u001B[49m\u001B[43mimage_args\u001B[49m\u001B[38;5;241;43m=\u001B[39;49m\u001B[43mimage_args\u001B[49m\u001B[43m,\u001B[49m\n\u001B[0;32m   2530\u001B[0m \u001B[43m        \u001B[49m\u001B[43mpsd_args\u001B[49m\u001B[38;5;241;43m=\u001B[39;49m\u001B[43mpsd_args\u001B[49m\u001B[43m,\u001B[49m\n\u001B[0;32m   2531\u001B[0m \u001B[43m        \u001B[49m\u001B[43mverbose\u001B[49m\u001B[38;5;241;43m=\u001B[39;49m\u001B[43mverbose\u001B[49m\u001B[43m,\u001B[49m\n\u001B[0;32m   2532\u001B[0m \u001B[43m    \u001B[49m\u001B[43m)\u001B[49m\n",
      "File \u001B[1;32m<decorator-gen-141>:12\u001B[0m, in \u001B[0;36mplot_ica_components\u001B[1;34m(ica, picks, ch_type, inst, plot_std, reject, sensors, show_names, contours, outlines, sphere, image_interp, extrapolate, border, res, size, cmap, vlim, cnorm, colorbar, cbar_fmt, axes, title, nrows, ncols, show, image_args, psd_args, verbose)\u001B[0m\n",
      "File \u001B[1;32mF:\\Anaconda3\\envs\\oneNet\\lib\\site-packages\\mne\\viz\\topomap.py:1640\u001B[0m, in \u001B[0;36mplot_ica_components\u001B[1;34m(ica, picks, ch_type, inst, plot_std, reject, sensors, show_names, contours, outlines, sphere, image_interp, extrapolate, border, res, size, cmap, vlim, cnorm, colorbar, cbar_fmt, axes, title, nrows, ncols, show, image_args, psd_args, verbose)\u001B[0m\n\u001B[0;32m   1629\u001B[0m \u001B[38;5;28;01mexcept\u001B[39;00m \u001B[38;5;167;01mTypeError\u001B[39;00m:  \u001B[38;5;66;03m# None or Axes\u001B[39;00m\n\u001B[0;32m   1630\u001B[0m     _axes \u001B[38;5;241m=\u001B[39m axes\n\u001B[0;32m   1632\u001B[0m (\n\u001B[0;32m   1633\u001B[0m     data_picks,\n\u001B[0;32m   1634\u001B[0m     pos,\n\u001B[0;32m   1635\u001B[0m     merge_channels,\n\u001B[0;32m   1636\u001B[0m     names,\n\u001B[0;32m   1637\u001B[0m     ch_type,\n\u001B[0;32m   1638\u001B[0m     sphere,\n\u001B[0;32m   1639\u001B[0m     clip_origin,\n\u001B[1;32m-> 1640\u001B[0m ) \u001B[38;5;241m=\u001B[39m \u001B[43m_prepare_topomap_plot\u001B[49m\u001B[43m(\u001B[49m\u001B[43mica\u001B[49m\u001B[43m,\u001B[49m\u001B[43m \u001B[49m\u001B[43mch_type\u001B[49m\u001B[43m,\u001B[49m\u001B[43m \u001B[49m\u001B[43msphere\u001B[49m\u001B[38;5;241;43m=\u001B[39;49m\u001B[43msphere\u001B[49m\u001B[43m)\u001B[49m\n\u001B[0;32m   1642\u001B[0m cmap \u001B[38;5;241m=\u001B[39m _setup_cmap(cmap, n_axes\u001B[38;5;241m=\u001B[39m\u001B[38;5;28mlen\u001B[39m(picks))\n\u001B[0;32m   1643\u001B[0m names \u001B[38;5;241m=\u001B[39m _prepare_sensor_names(names, show_names)\n",
      "File \u001B[1;32mF:\\Anaconda3\\envs\\oneNet\\lib\\site-packages\\mne\\viz\\topomap.py:127\u001B[0m, in \u001B[0;36m_prepare_topomap_plot\u001B[1;34m(inst, ch_type, sphere)\u001B[0m\n\u001B[0;32m    124\u001B[0m info\u001B[38;5;241m.\u001B[39m_check_consistency()\n\u001B[0;32m    126\u001B[0m \u001B[38;5;66;03m# special case for merging grad channels\u001B[39;00m\n\u001B[1;32m--> 127\u001B[0m layout \u001B[38;5;241m=\u001B[39m \u001B[43mfind_layout\u001B[49m\u001B[43m(\u001B[49m\u001B[43minfo\u001B[49m\u001B[43m)\u001B[49m\n\u001B[0;32m    128\u001B[0m \u001B[38;5;28;01mif\u001B[39;00m (\n\u001B[0;32m    129\u001B[0m     ch_type \u001B[38;5;241m==\u001B[39m \u001B[38;5;124m\"\u001B[39m\u001B[38;5;124mgrad\u001B[39m\u001B[38;5;124m\"\u001B[39m\n\u001B[0;32m    130\u001B[0m     \u001B[38;5;129;01mand\u001B[39;00m layout \u001B[38;5;129;01mis\u001B[39;00m \u001B[38;5;129;01mnot\u001B[39;00m \u001B[38;5;28;01mNone\u001B[39;00m\n\u001B[1;32m   (...)\u001B[0m\n\u001B[0;32m    134\u001B[0m     )\n\u001B[0;32m    135\u001B[0m ):\n\u001B[0;32m    136\u001B[0m     picks, _ \u001B[38;5;241m=\u001B[39m _pair_grad_sensors(info, layout)\n",
      "File \u001B[1;32mF:\\Anaconda3\\envs\\oneNet\\lib\\site-packages\\mne\\channels\\layout.py:627\u001B[0m, in \u001B[0;36mfind_layout\u001B[1;34m(info, ch_type, exclude)\u001B[0m\n\u001B[0;32m    622\u001B[0m     \u001B[38;5;28;01mif\u001B[39;00m \u001B[38;5;129;01mnot\u001B[39;00m \u001B[38;5;28misinstance\u001B[39m(info, \u001B[38;5;28mdict\u001B[39m \u001B[38;5;241m|\u001B[39m Info):\n\u001B[0;32m    623\u001B[0m         \u001B[38;5;28;01mraise\u001B[39;00m \u001B[38;5;167;01mRuntimeError\u001B[39;00m(\n\u001B[0;32m    624\u001B[0m             \u001B[38;5;124m\"\u001B[39m\u001B[38;5;124mCannot make EEG layout, no measurement info \u001B[39m\u001B[38;5;124m\"\u001B[39m\n\u001B[0;32m    625\u001B[0m             \u001B[38;5;124m\"\u001B[39m\u001B[38;5;124mwas passed to `find_layout`\u001B[39m\u001B[38;5;124m\"\u001B[39m\n\u001B[0;32m    626\u001B[0m         )\n\u001B[1;32m--> 627\u001B[0m     \u001B[38;5;28;01mreturn\u001B[39;00m \u001B[43mmake_eeg_layout\u001B[49m\u001B[43m(\u001B[49m\u001B[43minfo\u001B[49m\u001B[43m,\u001B[49m\u001B[43m \u001B[49m\u001B[43mexclude\u001B[49m\u001B[38;5;241;43m=\u001B[39;49m\u001B[43mexclude\u001B[49m\u001B[43m)\u001B[49m\n\u001B[0;32m    628\u001B[0m \u001B[38;5;28;01melif\u001B[39;00m has_csd_coils \u001B[38;5;129;01mand\u001B[39;00m ch_type \u001B[38;5;129;01min\u001B[39;00m [\u001B[38;5;28;01mNone\u001B[39;00m, \u001B[38;5;124m\"\u001B[39m\u001B[38;5;124mcsd\u001B[39m\u001B[38;5;124m\"\u001B[39m]:\n\u001B[0;32m    629\u001B[0m     \u001B[38;5;28;01mreturn\u001B[39;00m make_eeg_layout(info, exclude\u001B[38;5;241m=\u001B[39mexclude, csd\u001B[38;5;241m=\u001B[39m\u001B[38;5;28;01mTrue\u001B[39;00m)\n",
      "File \u001B[1;32mF:\\Anaconda3\\envs\\oneNet\\lib\\site-packages\\mne\\channels\\layout.py:447\u001B[0m, in \u001B[0;36mmake_eeg_layout\u001B[1;34m(info, radius, width, height, exclude, csd)\u001B[0m\n\u001B[0;32m    445\u001B[0m     pick_kwargs\u001B[38;5;241m.\u001B[39mupdate(csd\u001B[38;5;241m=\u001B[39m\u001B[38;5;28;01mTrue\u001B[39;00m, eeg\u001B[38;5;241m=\u001B[39m\u001B[38;5;28;01mFalse\u001B[39;00m)\n\u001B[0;32m    446\u001B[0m picks \u001B[38;5;241m=\u001B[39m pick_types(info, \u001B[38;5;241m*\u001B[39m\u001B[38;5;241m*\u001B[39mpick_kwargs)\n\u001B[1;32m--> 447\u001B[0m loc2d \u001B[38;5;241m=\u001B[39m \u001B[43m_find_topomap_coords\u001B[49m\u001B[43m(\u001B[49m\u001B[43minfo\u001B[49m\u001B[43m,\u001B[49m\u001B[43m \u001B[49m\u001B[43mpicks\u001B[49m\u001B[43m)\u001B[49m\n\u001B[0;32m    448\u001B[0m names \u001B[38;5;241m=\u001B[39m [info[\u001B[38;5;124m\"\u001B[39m\u001B[38;5;124mchs\u001B[39m\u001B[38;5;124m\"\u001B[39m][i][\u001B[38;5;124m\"\u001B[39m\u001B[38;5;124mch_name\u001B[39m\u001B[38;5;124m\"\u001B[39m] \u001B[38;5;28;01mfor\u001B[39;00m i \u001B[38;5;129;01min\u001B[39;00m picks]\n\u001B[0;32m    450\u001B[0m \u001B[38;5;66;03m# Scale [x, y] to be in the range [-0.5, 0.5]\u001B[39;00m\n\u001B[0;32m    451\u001B[0m \u001B[38;5;66;03m# Don't mess with the origin or aspect ratio\u001B[39;00m\n",
      "File \u001B[1;32mF:\\Anaconda3\\envs\\oneNet\\lib\\site-packages\\mne\\channels\\layout.py:858\u001B[0m, in \u001B[0;36m_find_topomap_coords\u001B[1;34m(info, picks, layout, ignore_overlap, to_sphere, sphere)\u001B[0m\n\u001B[0;32m    856\u001B[0m     pos \u001B[38;5;241m=\u001B[39m np\u001B[38;5;241m.\u001B[39masarray(pos)\n\u001B[0;32m    857\u001B[0m \u001B[38;5;28;01melse\u001B[39;00m:\n\u001B[1;32m--> 858\u001B[0m     pos \u001B[38;5;241m=\u001B[39m \u001B[43m_auto_topomap_coords\u001B[49m\u001B[43m(\u001B[49m\n\u001B[0;32m    859\u001B[0m \u001B[43m        \u001B[49m\u001B[43minfo\u001B[49m\u001B[43m,\u001B[49m\n\u001B[0;32m    860\u001B[0m \u001B[43m        \u001B[49m\u001B[43mpicks\u001B[49m\u001B[43m,\u001B[49m\n\u001B[0;32m    861\u001B[0m \u001B[43m        \u001B[49m\u001B[43mignore_overlap\u001B[49m\u001B[38;5;241;43m=\u001B[39;49m\u001B[43mignore_overlap\u001B[49m\u001B[43m,\u001B[49m\n\u001B[0;32m    862\u001B[0m \u001B[43m        \u001B[49m\u001B[43mto_sphere\u001B[49m\u001B[38;5;241;43m=\u001B[39;49m\u001B[43mto_sphere\u001B[49m\u001B[43m,\u001B[49m\n\u001B[0;32m    863\u001B[0m \u001B[43m        \u001B[49m\u001B[43msphere\u001B[49m\u001B[38;5;241;43m=\u001B[39;49m\u001B[43msphere\u001B[49m\u001B[43m,\u001B[49m\n\u001B[0;32m    864\u001B[0m \u001B[43m    \u001B[49m\u001B[43m)\u001B[49m\n\u001B[0;32m    866\u001B[0m \u001B[38;5;28;01mreturn\u001B[39;00m pos\n",
      "File \u001B[1;32mF:\\Anaconda3\\envs\\oneNet\\lib\\site-packages\\mne\\channels\\layout.py:931\u001B[0m, in \u001B[0;36m_auto_topomap_coords\u001B[1;34m(info, picks, ignore_overlap, to_sphere, sphere)\u001B[0m\n\u001B[0;32m    929\u001B[0m \u001B[38;5;66;03m# Get EEG digitization points\u001B[39;00m\n\u001B[0;32m    930\u001B[0m \u001B[38;5;28;01mif\u001B[39;00m info[\u001B[38;5;124m\"\u001B[39m\u001B[38;5;124mdig\u001B[39m\u001B[38;5;124m\"\u001B[39m] \u001B[38;5;129;01mis\u001B[39;00m \u001B[38;5;28;01mNone\u001B[39;00m \u001B[38;5;129;01mor\u001B[39;00m \u001B[38;5;28mlen\u001B[39m(info[\u001B[38;5;124m\"\u001B[39m\u001B[38;5;124mdig\u001B[39m\u001B[38;5;124m\"\u001B[39m]) \u001B[38;5;241m==\u001B[39m \u001B[38;5;241m0\u001B[39m:\n\u001B[1;32m--> 931\u001B[0m     \u001B[38;5;28;01mraise\u001B[39;00m \u001B[38;5;167;01mRuntimeError\u001B[39;00m(\u001B[38;5;124m\"\u001B[39m\u001B[38;5;124mNo digitization points found.\u001B[39m\u001B[38;5;124m\"\u001B[39m)\n\u001B[0;32m    933\u001B[0m locs3d \u001B[38;5;241m=\u001B[39m np\u001B[38;5;241m.\u001B[39marray(\n\u001B[0;32m    934\u001B[0m     [\n\u001B[0;32m    935\u001B[0m         point[\u001B[38;5;124m\"\u001B[39m\u001B[38;5;124mr\u001B[39m\u001B[38;5;124m\"\u001B[39m]\n\u001B[1;32m   (...)\u001B[0m\n\u001B[0;32m    938\u001B[0m     ]\n\u001B[0;32m    939\u001B[0m )\n\u001B[0;32m    941\u001B[0m \u001B[38;5;28;01mif\u001B[39;00m \u001B[38;5;28mlen\u001B[39m(locs3d) \u001B[38;5;241m==\u001B[39m \u001B[38;5;241m0\u001B[39m:\n",
      "\u001B[1;31mRuntimeError\u001B[0m: No digitization points found."
     ]
    }
   ],
   "execution_count": 9
  },
  {
   "metadata": {},
   "cell_type": "code",
   "outputs": [],
   "execution_count": null,
   "source": [
    "# 绘制每个独立成分的头皮分布\n",
    "pick_id = [0,1,2,3,4,5,6,7,8,9]\n",
    "ica.plot_properties(raw, picks=pick_id)"
   ],
   "id": "fb83f8046599e8ba"
  },
  {
   "metadata": {},
   "cell_type": "code",
   "outputs": [],
   "execution_count": null,
   "source": [
    "# 剔除一些成分\n",
    "exclude_id = [0,2,4,6,8]\n",
    "ica.plot_overlay(raw, exclude=exclude_id)\n",
    "# 剔除\n",
    "ica.exclude = exclude_id"
   ],
   "id": "6f42a40da4701b42"
  }
 ],
 "metadata": {
  "kernelspec": {
   "display_name": "Python 3",
   "language": "python",
   "name": "python3"
  },
  "language_info": {
   "codemirror_mode": {
    "name": "ipython",
    "version": 2
   },
   "file_extension": ".py",
   "mimetype": "text/x-python",
   "name": "python",
   "nbconvert_exporter": "python",
   "pygments_lexer": "ipython2",
   "version": "2.7.6"
  }
 },
 "nbformat": 4,
 "nbformat_minor": 5
}
