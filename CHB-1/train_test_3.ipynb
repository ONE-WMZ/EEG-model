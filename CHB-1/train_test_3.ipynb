{
 "cells": [
  {
   "cell_type": "code",
   "id": "initial_id",
   "metadata": {
    "collapsed": true,
    "ExecuteTime": {
     "end_time": "2025-03-07T07:49:45.853972Z",
     "start_time": "2025-03-07T07:49:44.604433Z"
    }
   },
   "source": [
    "from Fea_1DCNN import Autoencoder\n",
    "model = Autoencoder()"
   ],
   "outputs": [],
   "execution_count": 1
  },
  {
   "metadata": {
    "ExecuteTime": {
     "end_time": "2025-03-07T07:49:48.910183Z",
     "start_time": "2025-03-07T07:49:45.853972Z"
    }
   },
   "cell_type": "code",
   "source": [
    "from Data_Set import data_set\n",
    "from torch.utils.data import DataLoader\n",
    "data = data_set(2,2)\n",
    "dataloader = DataLoader(data, batch_size=8)\n",
    "print(len(dataloader))\n",
    "for item in dataloader:\n",
    "  print(item.shape)\n",
    "  break"
   ],
   "id": "15ae0d929008be58",
   "outputs": [
    {
     "name": "stdout",
     "output_type": "stream",
     "text": [
      "450\n",
      "torch.Size([8, 23, 512])\n"
     ]
    }
   ],
   "execution_count": 2
  },
  {
   "metadata": {
    "ExecuteTime": {
     "end_time": "2025-03-07T07:49:49.100803Z",
     "start_time": "2025-03-07T07:49:48.910183Z"
    }
   },
   "cell_type": "code",
   "source": [
    "from Bi_LSTM import device\n",
    "model = model.to(device)"
   ],
   "id": "a49bde609e637769",
   "outputs": [],
   "execution_count": 3
  },
  {
   "metadata": {
    "ExecuteTime": {
     "end_time": "2025-03-07T07:49:49.847837Z",
     "start_time": "2025-03-07T07:49:49.102879Z"
    }
   },
   "cell_type": "code",
   "source": [
    "import torch.nn as nn\n",
    "import torch.optim as optim\n",
    "epoch_num = 20\n",
    "loss_fn = nn.MSELoss()\n",
    "loss_ = []\n",
    "optimizer_1 = optim.Adam(model.parameters(), lr=0.001)"
   ],
   "id": "2e0961d0cc18e478",
   "outputs": [],
   "execution_count": 4
  },
  {
   "metadata": {
    "ExecuteTime": {
     "end_time": "2025-03-07T07:50:07.827774Z",
     "start_time": "2025-03-07T07:49:49.849385Z"
    }
   },
   "cell_type": "code",
   "source": [
    "from tqdm import tqdm\n",
    "for epoch in range(epoch_num):\n",
    "    print(\"epoch:\\t\", epoch+1)\n",
    "    with tqdm(total=len(dataloader)) as pbar:\n",
    "        for item in dataloader:\n",
    "            item = item[:,14,:]\n",
    "            # print(item.shape)\n",
    "            item = item.unsqueeze(1)\n",
    "            # print(item.shape)\n",
    "            item = item.to(device)\n",
    "            out,_ = model(item)\n",
    "            loss = loss_fn(item, out)\n",
    "            optimizer_1.zero_grad()      # 清空之前的梯度\n",
    "            loss.backward()              # 梯度回传\n",
    "            optimizer_1.step()           # 更新参数\n",
    "            loss_.append(loss)\n",
    "            pbar.update(1)"
   ],
   "id": "98ce029bf9afd6c7",
   "outputs": [
    {
     "name": "stdout",
     "output_type": "stream",
     "text": [
      "epoch:\t 1\n"
     ]
    },
    {
     "name": "stderr",
     "output_type": "stream",
     "text": [
      "100%|██████████| 450/450 [00:01<00:00, 404.95it/s]\n"
     ]
    },
    {
     "name": "stdout",
     "output_type": "stream",
     "text": [
      "epoch:\t 2\n"
     ]
    },
    {
     "name": "stderr",
     "output_type": "stream",
     "text": [
      "100%|██████████| 450/450 [00:00<00:00, 476.52it/s]\n"
     ]
    },
    {
     "name": "stdout",
     "output_type": "stream",
     "text": [
      "epoch:\t 3\n"
     ]
    },
    {
     "name": "stderr",
     "output_type": "stream",
     "text": [
      "100%|██████████| 450/450 [00:00<00:00, 501.62it/s]\n"
     ]
    },
    {
     "name": "stdout",
     "output_type": "stream",
     "text": [
      "epoch:\t 4\n"
     ]
    },
    {
     "name": "stderr",
     "output_type": "stream",
     "text": [
      "100%|██████████| 450/450 [00:00<00:00, 529.30it/s]\n"
     ]
    },
    {
     "name": "stdout",
     "output_type": "stream",
     "text": [
      "epoch:\t 5\n"
     ]
    },
    {
     "name": "stderr",
     "output_type": "stream",
     "text": [
      "100%|██████████| 450/450 [00:00<00:00, 523.45it/s]\n"
     ]
    },
    {
     "name": "stdout",
     "output_type": "stream",
     "text": [
      "epoch:\t 6\n"
     ]
    },
    {
     "name": "stderr",
     "output_type": "stream",
     "text": [
      "100%|██████████| 450/450 [00:00<00:00, 508.20it/s]\n"
     ]
    },
    {
     "name": "stdout",
     "output_type": "stream",
     "text": [
      "epoch:\t 7\n"
     ]
    },
    {
     "name": "stderr",
     "output_type": "stream",
     "text": [
      "100%|██████████| 450/450 [00:00<00:00, 503.77it/s]\n"
     ]
    },
    {
     "name": "stdout",
     "output_type": "stream",
     "text": [
      "epoch:\t 8\n"
     ]
    },
    {
     "name": "stderr",
     "output_type": "stream",
     "text": [
      "100%|██████████| 450/450 [00:00<00:00, 524.87it/s]\n"
     ]
    },
    {
     "name": "stdout",
     "output_type": "stream",
     "text": [
      "epoch:\t 9\n"
     ]
    },
    {
     "name": "stderr",
     "output_type": "stream",
     "text": [
      "100%|██████████| 450/450 [00:00<00:00, 503.33it/s]\n"
     ]
    },
    {
     "name": "stdout",
     "output_type": "stream",
     "text": [
      "epoch:\t 10\n"
     ]
    },
    {
     "name": "stderr",
     "output_type": "stream",
     "text": [
      "100%|██████████| 450/450 [00:00<00:00, 493.77it/s]\n"
     ]
    },
    {
     "name": "stdout",
     "output_type": "stream",
     "text": [
      "epoch:\t 11\n"
     ]
    },
    {
     "name": "stderr",
     "output_type": "stream",
     "text": [
      "100%|██████████| 450/450 [00:00<00:00, 517.30it/s]\n"
     ]
    },
    {
     "name": "stdout",
     "output_type": "stream",
     "text": [
      "epoch:\t 12\n"
     ]
    },
    {
     "name": "stderr",
     "output_type": "stream",
     "text": [
      "100%|██████████| 450/450 [00:00<00:00, 505.33it/s]\n"
     ]
    },
    {
     "name": "stdout",
     "output_type": "stream",
     "text": [
      "epoch:\t 13\n"
     ]
    },
    {
     "name": "stderr",
     "output_type": "stream",
     "text": [
      "100%|██████████| 450/450 [00:00<00:00, 506.53it/s]\n"
     ]
    },
    {
     "name": "stdout",
     "output_type": "stream",
     "text": [
      "epoch:\t 14\n"
     ]
    },
    {
     "name": "stderr",
     "output_type": "stream",
     "text": [
      "100%|██████████| 450/450 [00:00<00:00, 492.43it/s]\n"
     ]
    },
    {
     "name": "stdout",
     "output_type": "stream",
     "text": [
      "epoch:\t 15\n"
     ]
    },
    {
     "name": "stderr",
     "output_type": "stream",
     "text": [
      "100%|██████████| 450/450 [00:00<00:00, 518.46it/s]\n"
     ]
    },
    {
     "name": "stdout",
     "output_type": "stream",
     "text": [
      "epoch:\t 16\n"
     ]
    },
    {
     "name": "stderr",
     "output_type": "stream",
     "text": [
      "100%|██████████| 450/450 [00:00<00:00, 512.01it/s]\n"
     ]
    },
    {
     "name": "stdout",
     "output_type": "stream",
     "text": [
      "epoch:\t 17\n"
     ]
    },
    {
     "name": "stderr",
     "output_type": "stream",
     "text": [
      "100%|██████████| 450/450 [00:00<00:00, 517.77it/s]\n"
     ]
    },
    {
     "name": "stdout",
     "output_type": "stream",
     "text": [
      "epoch:\t 18\n"
     ]
    },
    {
     "name": "stderr",
     "output_type": "stream",
     "text": [
      "100%|██████████| 450/450 [00:00<00:00, 510.46it/s]\n"
     ]
    },
    {
     "name": "stdout",
     "output_type": "stream",
     "text": [
      "epoch:\t 19\n"
     ]
    },
    {
     "name": "stderr",
     "output_type": "stream",
     "text": [
      "100%|██████████| 450/450 [00:00<00:00, 495.38it/s]\n"
     ]
    },
    {
     "name": "stdout",
     "output_type": "stream",
     "text": [
      "epoch:\t 20\n"
     ]
    },
    {
     "name": "stderr",
     "output_type": "stream",
     "text": [
      "100%|██████████| 450/450 [00:00<00:00, 520.01it/s]\n"
     ]
    }
   ],
   "execution_count": 5
  },
  {
   "metadata": {
    "ExecuteTime": {
     "end_time": "2025-03-07T07:50:08.036993Z",
     "start_time": "2025-03-07T07:50:07.827774Z"
    }
   },
   "cell_type": "code",
   "source": [
    "import torch\n",
    "loss_ = torch.tensor(loss_)\n",
    "loss_ = loss_.to('cpu')\n",
    "print(loss_)"
   ],
   "id": "50252565572739ed",
   "outputs": [
    {
     "name": "stdout",
     "output_type": "stream",
     "text": [
      "tensor([0.7213, 0.8731, 1.2504,  ..., 0.0400, 0.0402, 0.0472])\n"
     ]
    }
   ],
   "execution_count": 6
  },
  {
   "metadata": {
    "ExecuteTime": {
     "end_time": "2025-03-07T07:50:08.108502Z",
     "start_time": "2025-03-07T07:50:08.036993Z"
    }
   },
   "cell_type": "code",
   "source": [
    "import matplotlib.pyplot as plt\n",
    "plt.plot(loss_)\n",
    "plt.show()"
   ],
   "id": "b99a2c3af2a75815",
   "outputs": [
    {
     "data": {
      "text/plain": [
       "<Figure size 640x480 with 1 Axes>"
      ],
      "image/png": "[encoded data removed]"
     },
     "metadata": {},
     "output_type": "display_data"
    }
   ],
   "execution_count": 7
  },
  {
   "metadata": {
    "ExecuteTime": {
     "end_time": "2025-03-07T07:50:09.191484Z",
     "start_time": "2025-03-07T07:50:08.108502Z"
    }
   },
   "cell_type": "code",
   "source": [
    "data_test = data_set(2,1)\n",
    "dataloader_test= DataLoader(data_test, batch_size=8)\n",
    "print(len(dataloader_test))\n",
    "for item in dataloader_test:\n",
    "  print(item.shape)\n",
    "  break"
   ],
   "id": "d1dd7a161381002",
   "outputs": [
    {
     "name": "stdout",
     "output_type": "stream",
     "text": [
      "225\n",
      "torch.Size([8, 23, 512])\n"
     ]
    }
   ],
   "execution_count": 8
  },
  {
   "metadata": {
    "ExecuteTime": {
     "end_time": "2025-03-07T07:50:09.381782Z",
     "start_time": "2025-03-07T07:50:09.192543Z"
    }
   },
   "cell_type": "code",
   "source": [
    "model.eval()\n",
    "feature_data = []\n",
    "k=0\n",
    "for item in dataloader_test:\n",
    "    item = item[:,14,:]\n",
    "    # print(item.shape)\n",
    "    item = item.unsqueeze(1)\n",
    "    item = item.to(device)\n",
    "    _,feature = model(item)\n",
    "    k = k+1\n",
    "    feature_data.append(feature.to('cpu').detach().numpy())\n",
    "    if k==225:print(feature.shape)\n",
    "print(k)    "
   ],
   "id": "f97d554cf8c43d70",
   "outputs": [
    {
     "name": "stdout",
     "output_type": "stream",
     "text": [
      "torch.Size([8, 32])\n",
      "225\n"
     ]
    }
   ],
   "execution_count": 9
  },
  {
   "metadata": {
    "ExecuteTime": {
     "end_time": "2025-03-07T07:50:09.391592Z",
     "start_time": "2025-03-07T07:50:09.382341Z"
    }
   },
   "cell_type": "code",
   "source": [
    "import numpy as np\n",
    "test_fea = np.array(feature_data)\n",
    "print(test_fea.shape)\n",
    "test_fea = test_fea.reshape(225*8,32)\n",
    "print(test_fea.shape)"
   ],
   "id": "46fe630932f77918",
   "outputs": [
    {
     "name": "stdout",
     "output_type": "stream",
     "text": [
      "(225, 8, 32)\n",
      "(1800, 32)\n"
     ]
    }
   ],
   "execution_count": 10
  },
  {
   "metadata": {
    "ExecuteTime": {
     "end_time": "2025-03-07T07:50:09.601627Z",
     "start_time": "2025-03-07T07:50:09.392619Z"
    }
   },
   "cell_type": "code",
   "source": [
    "from sklearn.preprocessing import StandardScaler\n",
    "\n",
    "scaler = StandardScaler()\n",
    "data_standardized = scaler.fit_transform(test_fea)"
   ],
   "id": "cd7f0b5621131309",
   "outputs": [],
   "execution_count": 11
  },
  {
   "metadata": {
    "ExecuteTime": {
     "end_time": "2025-03-07T07:50:09.671492Z",
     "start_time": "2025-03-07T07:50:09.602232Z"
    }
   },
   "cell_type": "code",
   "source": [
    "from sklearn.decomposition import PCA\n",
    "\n",
    "# 假设我们希望降到2D以便于可视化\n",
    "pca = PCA(n_components=2)\n",
    "data_reduced = pca.fit_transform(data_standardized)\n"
   ],
   "id": "d62af6d293c9b0ee",
   "outputs": [],
   "execution_count": 12
  },
  {
   "metadata": {
    "ExecuteTime": {
     "end_time": "2025-03-07T07:50:09.811780Z",
     "start_time": "2025-03-07T07:50:09.672571Z"
    }
   },
   "cell_type": "code",
   "source": [
    "from sklearn.cluster import DBSCAN\n",
    "import matplotlib.pyplot as plt\n",
    "\n",
    "# 使用DBSCAN进行聚类\n",
    "dbscan = DBSCAN(eps=1.8, min_samples=10)\n",
    "clusters = dbscan.fit_predict(data_reduced)\n",
    "\n",
    "# 可视化结果\n",
    "plt.scatter(data_reduced[:, 0], data_reduced[:, 1], c=clusters, cmap='viridis', marker='o', s=50)\n",
    "plt.title('DBSCAN Clustering')\n",
    "plt.xlabel('Feature 1')\n",
    "plt.ylabel('Feature 2')\n",
    "plt.show()\n",
    "\n",
    "# 异常值（噪声点）\n",
    "outliers = data_reduced[clusters == -1]\n",
    "print(\"Detected outliers:\")\n",
    "print(outliers)"
   ],
   "id": "73cdda903724be1c",
   "outputs": [
    {
     "data": {
      "text/plain": [
       "<Figure size 640x480 with 1 Axes>"
      ],
      "image/png": "[encoded data removed]"
     },
     "metadata": {},
     "output_type": "display_data"
    },
    {
     "name": "stdout",
     "output_type": "stream",
     "text": [
      "Detected outliers:\n",
      "[[ -6.239971     7.1427097 ]\n",
      " [ -6.732296    -4.422344  ]\n",
      " [  8.950882    -4.016506  ]\n",
      " [ -6.1007276    6.899186  ]\n",
      " [  6.783247     6.2559795 ]\n",
      " [  6.536806     5.556959  ]\n",
      " [  5.6833773   -8.07105   ]\n",
      " [  6.612858    -8.26259   ]\n",
      " [  7.6147637    5.9480867 ]\n",
      " [  3.4753523   11.153745  ]\n",
      " [ -0.9594371   13.546122  ]\n",
      " [-11.933269    -0.25107014]\n",
      " [ -9.186544    -4.588459  ]\n",
      " [ -6.398229     5.751019  ]\n",
      " [ -5.5320024   -6.132093  ]\n",
      " [ -9.375305    -4.492064  ]\n",
      " [  1.0042644   -7.758295  ]\n",
      " [  8.656863     0.997738  ]\n",
      " [ -9.177508    -6.522699  ]\n",
      " [ -4.972025    -7.8843727 ]\n",
      " [ -1.3007855   -8.014343  ]\n",
      " [  8.907332    -7.0687284 ]]\n"
     ]
    }
   ],
   "execution_count": 13
  },
  {
   "metadata": {},
   "cell_type": "markdown",
   "source": "",
   "id": "31d44c28478153b5"
  },
  {
   "metadata": {
    "ExecuteTime": {
     "end_time": "2025-03-07T07:50:09.821783Z",
     "start_time": "2025-03-07T07:50:09.812338Z"
    }
   },
   "cell_type": "code",
   "source": "print(outliers.shape)",
   "id": "c38d39f21aa55eef",
   "outputs": [
    {
     "name": "stdout",
     "output_type": "stream",
     "text": [
      "(22, 2)\n"
     ]
    }
   ],
   "execution_count": 14
  },
  {
   "metadata": {},
   "cell_type": "markdown",
   "source": "3600(2996-3036) == 1800(1498-1518)",
   "id": "2bce71a18eb78444"
  },
  {
   "metadata": {
    "ExecuteTime": {
     "end_time": "2025-03-07T07:50:09.831671Z",
     "start_time": "2025-03-07T07:50:09.822340Z"
    }
   },
   "cell_type": "code",
   "source": [
    "for element in outliers:\n",
    "    indices = np.where(data_reduced == element)\n",
    "    if len([0]) > 0:\n",
    "        print(f\"元素 {element} 在数组中的位置是: {indices[0][0]}\")\n",
    "    else:\n",
    "        print(f\"元素 {element} 不在数组中\")"
   ],
   "id": "6015dfad74b657ff",
   "outputs": [
    {
     "name": "stdout",
     "output_type": "stream",
     "text": [
      "元素 [-6.239971   7.1427097] 在数组中的位置是: 390\n",
      "元素 [-6.732296 -4.422344] 在数组中的位置是: 391\n",
      "元素 [ 8.950882 -4.016506] 在数组中的位置是: 392\n",
      "元素 [-6.1007276  6.899186 ] 在数组中的位置是: 427\n",
      "元素 [6.783247  6.2559795] 在数组中的位置是: 586\n",
      "元素 [6.536806 5.556959] 在数组中的位置是: 610\n",
      "元素 [ 5.6833773 -8.07105  ] 在数组中的位置是: 660\n",
      "元素 [ 6.612858 -8.26259 ] 在数组中的位置是: 661\n",
      "元素 [7.6147637 5.9480867] 在数组中的位置是: 668\n",
      "元素 [ 3.4753523 11.153745 ] 在数组中的位置是: 678\n",
      "元素 [-0.9594371 13.546122 ] 在数组中的位置是: 679\n",
      "元素 [-11.933269    -0.25107014] 在数组中的位置是: 695\n",
      "元素 [-9.186544 -4.588459] 在数组中的位置是: 725\n",
      "元素 [-6.398229  5.751019] 在数组中的位置是: 752\n",
      "元素 [-5.5320024 -6.132093 ] 在数组中的位置是: 783\n",
      "元素 [-9.375305 -4.492064] 在数组中的位置是: 799\n",
      "元素 [ 1.0042644 -7.758295 ] 在数组中的位置是: 814\n",
      "元素 [8.656863 0.997738] 在数组中的位置是: 1502\n",
      "元素 [-9.177508 -6.522699] 在数组中的位置是: 1510\n",
      "元素 [-4.972025  -7.8843727] 在数组中的位置是: 1515\n",
      "元素 [-1.3007855 -8.014343 ] 在数组中的位置是: 1522\n",
      "元素 [ 8.907332  -7.0687284] 在数组中的位置是: 1524\n"
     ]
    }
   ],
   "execution_count": 15
  },
  {
   "metadata": {},
   "cell_type": "markdown",
   "source": "",
   "id": "68ede88fd660f581"
  }
 ],
 "metadata": {
  "kernelspec": {
   "display_name": "Python 3",
   "language": "python",
   "name": "python3"
  },
  "language_info": {
   "codemirror_mode": {
    "name": "ipython",
    "version": 2
   },
   "file_extension": ".py",
   "mimetype": "text/x-python",
   "name": "python",
   "nbconvert_exporter": "python",
   "pygments_lexer": "ipython2",
   "version": "2.7.6"
  }
 },
 "nbformat": 4,
 "nbformat_minor": 5
}
