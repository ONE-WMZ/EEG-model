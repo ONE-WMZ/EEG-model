{
 "cells": [
  {
   "cell_type": "code",
   "id": "initial_id",
   "metadata": {
    "collapsed": true,
    "ExecuteTime": {
     "end_time": "2025-03-07T07:55:22.401405Z",
     "start_time": "2025-03-07T07:55:22.382214Z"
    }
   },
   "source": [
    "import numpy as np\n",
    "\n",
    "from channel_1 import EncoderDecoder\n",
    "coder = EncoderDecoder(1,16,1)"
   ],
   "outputs": [],
   "execution_count": 31
  },
  {
   "metadata": {
    "ExecuteTime": {
     "end_time": "2025-03-07T07:55:24.738226Z",
     "start_time": "2025-03-07T07:55:22.402506Z"
    }
   },
   "cell_type": "code",
   "source": [
    "from Data_Set import data_set\n",
    "from torch.utils.data import DataLoader\n",
    "data = data_set(2,2)\n",
    "dataloader = DataLoader(data, batch_size=8)\n",
    "print(len(dataloader))\n",
    "for item in dataloader:\n",
    "  print(item.shape)\n",
    "  break"
   ],
   "id": "f1469014b323d982",
   "outputs": [
    {
     "name": "stdout",
     "output_type": "stream",
     "text": [
      "450\n",
      "torch.Size([8, 23, 512])\n"
     ]
    }
   ],
   "execution_count": 32
  },
  {
   "metadata": {
    "ExecuteTime": {
     "end_time": "2025-03-07T07:55:24.758233Z",
     "start_time": "2025-03-07T07:55:24.738226Z"
    }
   },
   "cell_type": "code",
   "source": [
    "from Bi_LSTM import device\n",
    "model = coder.to(device)"
   ],
   "id": "85dfdcd0775df66d",
   "outputs": [],
   "execution_count": 33
  },
  {
   "metadata": {
    "ExecuteTime": {
     "end_time": "2025-03-07T07:55:24.768346Z",
     "start_time": "2025-03-07T07:55:24.761607Z"
    }
   },
   "cell_type": "code",
   "source": [
    "import torch.nn as nn\n",
    "import torch.optim as optim\n",
    "epoch_num = 20\n",
    "loss_fn = nn.MSELoss()\n",
    "loss_ = []\n",
    "optimizer_1 = optim.Adam(model.parameters(), lr=0.001)"
   ],
   "id": "7295ef8334ef80ab",
   "outputs": [],
   "execution_count": 34
  },
  {
   "metadata": {
    "ExecuteTime": {
     "end_time": "2025-03-07T07:55:49.721959Z",
     "start_time": "2025-03-07T07:55:24.768346Z"
    }
   },
   "cell_type": "code",
   "source": [
    "from tqdm import tqdm\n",
    "for epoch in range(epoch_num):\n",
    "    print(\"epoch:\\t\", epoch+1)\n",
    "    with tqdm(total=len(dataloader)) as pbar:\n",
    "        for item in dataloader:\n",
    "            item = item.permute(0, 2, 1)\n",
    "            item = item[:,:,14]\n",
    "            item = item.unsqueeze(-1)\n",
    "            item = item.to(device)\n",
    "            out,_ = model(item)\n",
    "            loss = loss_fn(item, out)\n",
    "            optimizer_1.zero_grad()      # 清空之前的梯度\n",
    "            loss.backward()              # 梯度回传\n",
    "            optimizer_1.step()           # 更新参数\n",
    "            loss_.append(loss)\n",
    "            pbar.update(1)"
   ],
   "id": "dd4977aa95633ee8",
   "outputs": [
    {
     "name": "stdout",
     "output_type": "stream",
     "text": [
      "epoch:\t 1\n"
     ]
    },
    {
     "name": "stderr",
     "output_type": "stream",
     "text": [
      "100%|██████████| 450/450 [00:01<00:00, 245.32it/s]\n"
     ]
    },
    {
     "name": "stdout",
     "output_type": "stream",
     "text": [
      "epoch:\t 2\n"
     ]
    },
    {
     "name": "stderr",
     "output_type": "stream",
     "text": [
      "100%|██████████| 450/450 [00:01<00:00, 372.23it/s]\n"
     ]
    },
    {
     "name": "stdout",
     "output_type": "stream",
     "text": [
      "epoch:\t 3\n"
     ]
    },
    {
     "name": "stderr",
     "output_type": "stream",
     "text": [
      "100%|██████████| 450/450 [00:01<00:00, 357.42it/s]\n"
     ]
    },
    {
     "name": "stdout",
     "output_type": "stream",
     "text": [
      "epoch:\t 4\n"
     ]
    },
    {
     "name": "stderr",
     "output_type": "stream",
     "text": [
      "100%|██████████| 450/450 [00:01<00:00, 365.48it/s]\n"
     ]
    },
    {
     "name": "stdout",
     "output_type": "stream",
     "text": [
      "epoch:\t 5\n"
     ]
    },
    {
     "name": "stderr",
     "output_type": "stream",
     "text": [
      "100%|██████████| 450/450 [00:01<00:00, 380.82it/s]\n"
     ]
    },
    {
     "name": "stdout",
     "output_type": "stream",
     "text": [
      "epoch:\t 6\n"
     ]
    },
    {
     "name": "stderr",
     "output_type": "stream",
     "text": [
      "100%|██████████| 450/450 [00:01<00:00, 381.96it/s]\n"
     ]
    },
    {
     "name": "stdout",
     "output_type": "stream",
     "text": [
      "epoch:\t 7\n"
     ]
    },
    {
     "name": "stderr",
     "output_type": "stream",
     "text": [
      "100%|██████████| 450/450 [00:01<00:00, 379.65it/s]\n"
     ]
    },
    {
     "name": "stdout",
     "output_type": "stream",
     "text": [
      "epoch:\t 8\n"
     ]
    },
    {
     "name": "stderr",
     "output_type": "stream",
     "text": [
      "100%|██████████| 450/450 [00:01<00:00, 384.90it/s]\n"
     ]
    },
    {
     "name": "stdout",
     "output_type": "stream",
     "text": [
      "epoch:\t 9\n"
     ]
    },
    {
     "name": "stderr",
     "output_type": "stream",
     "text": [
      "100%|██████████| 450/450 [00:01<00:00, 384.60it/s]\n"
     ]
    },
    {
     "name": "stdout",
     "output_type": "stream",
     "text": [
      "epoch:\t 10\n"
     ]
    },
    {
     "name": "stderr",
     "output_type": "stream",
     "text": [
      "100%|██████████| 450/450 [00:01<00:00, 362.89it/s]\n"
     ]
    },
    {
     "name": "stdout",
     "output_type": "stream",
     "text": [
      "epoch:\t 11\n"
     ]
    },
    {
     "name": "stderr",
     "output_type": "stream",
     "text": [
      "100%|██████████| 450/450 [00:01<00:00, 365.74it/s]\n"
     ]
    },
    {
     "name": "stdout",
     "output_type": "stream",
     "text": [
      "epoch:\t 12\n"
     ]
    },
    {
     "name": "stderr",
     "output_type": "stream",
     "text": [
      "100%|██████████| 450/450 [00:01<00:00, 364.93it/s]\n"
     ]
    },
    {
     "name": "stdout",
     "output_type": "stream",
     "text": [
      "epoch:\t 13\n"
     ]
    },
    {
     "name": "stderr",
     "output_type": "stream",
     "text": [
      "100%|██████████| 450/450 [00:01<00:00, 373.04it/s]\n"
     ]
    },
    {
     "name": "stdout",
     "output_type": "stream",
     "text": [
      "epoch:\t 14\n"
     ]
    },
    {
     "name": "stderr",
     "output_type": "stream",
     "text": [
      "100%|██████████| 450/450 [00:01<00:00, 368.83it/s]\n"
     ]
    },
    {
     "name": "stdout",
     "output_type": "stream",
     "text": [
      "epoch:\t 15\n"
     ]
    },
    {
     "name": "stderr",
     "output_type": "stream",
     "text": [
      "100%|██████████| 450/450 [00:01<00:00, 372.27it/s]\n"
     ]
    },
    {
     "name": "stdout",
     "output_type": "stream",
     "text": [
      "epoch:\t 16\n"
     ]
    },
    {
     "name": "stderr",
     "output_type": "stream",
     "text": [
      "100%|██████████| 450/450 [00:01<00:00, 361.24it/s]\n"
     ]
    },
    {
     "name": "stdout",
     "output_type": "stream",
     "text": [
      "epoch:\t 17\n"
     ]
    },
    {
     "name": "stderr",
     "output_type": "stream",
     "text": [
      "100%|██████████| 450/450 [00:01<00:00, 365.53it/s]\n"
     ]
    },
    {
     "name": "stdout",
     "output_type": "stream",
     "text": [
      "epoch:\t 18\n"
     ]
    },
    {
     "name": "stderr",
     "output_type": "stream",
     "text": [
      "100%|██████████| 450/450 [00:01<00:00, 370.08it/s]\n"
     ]
    },
    {
     "name": "stdout",
     "output_type": "stream",
     "text": [
      "epoch:\t 19\n"
     ]
    },
    {
     "name": "stderr",
     "output_type": "stream",
     "text": [
      "100%|██████████| 450/450 [00:01<00:00, 369.20it/s]\n"
     ]
    },
    {
     "name": "stdout",
     "output_type": "stream",
     "text": [
      "epoch:\t 20\n"
     ]
    },
    {
     "name": "stderr",
     "output_type": "stream",
     "text": [
      "100%|██████████| 450/450 [00:01<00:00, 368.83it/s]\n"
     ]
    }
   ],
   "execution_count": 35
  },
  {
   "metadata": {
    "ExecuteTime": {
     "end_time": "2025-03-07T07:55:49.941559Z",
     "start_time": "2025-03-07T07:55:49.722667Z"
    }
   },
   "cell_type": "code",
   "source": [
    "import torch\n",
    "loss_ = torch.tensor(loss_)\n",
    "loss_ = loss_.to('cpu')\n",
    "print(loss_)"
   ],
   "id": "620eace0c2b95619",
   "outputs": [
    {
     "name": "stdout",
     "output_type": "stream",
     "text": [
      "tensor([5.4692e-01, 5.3243e-01, 1.1143e+00,  ..., 1.2873e-06, 4.8790e-06,\n",
      "        2.6396e-06])\n"
     ]
    }
   ],
   "execution_count": 36
  },
  {
   "metadata": {
    "ExecuteTime": {
     "end_time": "2025-03-07T07:55:50.000362Z",
     "start_time": "2025-03-07T07:55:49.942770Z"
    }
   },
   "cell_type": "code",
   "source": [
    "import matplotlib.pyplot as plt\n",
    "plt.plot(loss_)\n",
    "plt.show()"
   ],
   "id": "d56543b3fe46b236",
   "outputs": [
    {
     "data": {
      "text/plain": [
       "<Figure size 640x480 with 1 Axes>"
      ],
      "image/png": "[encoded data removed]"
     },
     "metadata": {},
     "output_type": "display_data"
    }
   ],
   "execution_count": 37
  },
  {
   "metadata": {
    "ExecuteTime": {
     "end_time": "2025-03-07T07:55:50.010464Z",
     "start_time": "2025-03-07T07:55:50.001980Z"
    }
   },
   "cell_type": "code",
   "source": "model.eval()",
   "id": "159ac18f807303eb",
   "outputs": [
    {
     "data": {
      "text/plain": [
       "EncoderDecoder(\n",
       "  (encoder): LSTM(1, 16, batch_first=True, bidirectional=True)\n",
       "  (decoder): LSTM(32, 32, batch_first=True)\n",
       "  (fc): Linear(in_features=32, out_features=1, bias=True)\n",
       ")"
      ]
     },
     "execution_count": 38,
     "metadata": {},
     "output_type": "execute_result"
    }
   ],
   "execution_count": 38
  },
  {
   "metadata": {
    "ExecuteTime": {
     "end_time": "2025-03-07T07:55:51.061670Z",
     "start_time": "2025-03-07T07:55:50.011585Z"
    }
   },
   "cell_type": "code",
   "source": [
    "data_test = data_set(2,1)\n",
    "dataloader_test= DataLoader(data_test, batch_size=8)\n",
    "print(len(dataloader_test))\n",
    "for item in dataloader_test:\n",
    "  print(item.shape)\n",
    "  break"
   ],
   "id": "a09b6fea6d33dc16",
   "outputs": [
    {
     "name": "stdout",
     "output_type": "stream",
     "text": [
      "225\n",
      "torch.Size([8, 23, 512])\n"
     ]
    }
   ],
   "execution_count": 39
  },
  {
   "metadata": {
    "ExecuteTime": {
     "end_time": "2025-03-07T07:55:51.336691Z",
     "start_time": "2025-03-07T07:55:51.063389Z"
    }
   },
   "cell_type": "code",
   "source": [
    "feature_data = []\n",
    "k=0\n",
    "for item in dataloader_test:\n",
    "    item = item.permute(0, 2, 1)\n",
    "    item = item[:,:,15]\n",
    "    item = item.unsqueeze(-1)\n",
    "    item = item.to(device)\n",
    "    _,feature = model(item)\n",
    "    k = k+1\n",
    "    feature_data.append(feature.to('cpu').detach().numpy())\n",
    "    if k==225:print(feature.shape)\n",
    "print(k)    "
   ],
   "id": "f8f8c429fc1da2c7",
   "outputs": [
    {
     "name": "stdout",
     "output_type": "stream",
     "text": [
      "torch.Size([1, 8, 32])\n",
      "225\n"
     ]
    }
   ],
   "execution_count": 40
  },
  {
   "metadata": {
    "ExecuteTime": {
     "end_time": "2025-03-07T07:55:51.346970Z",
     "start_time": "2025-03-07T07:55:51.336691Z"
    }
   },
   "cell_type": "code",
   "source": [
    "import numpy as np\n",
    "test_fea = np.array(feature_data)\n",
    "print(test_fea.shape)\n",
    "test_fea = test_fea.reshape(225*8,32)\n",
    "print(test_fea.shape)"
   ],
   "id": "c595f2d5e31abfdb",
   "outputs": [
    {
     "name": "stdout",
     "output_type": "stream",
     "text": [
      "(225, 1, 8, 32)\n",
      "(1800, 32)\n"
     ]
    }
   ],
   "execution_count": 41
  },
  {
   "metadata": {
    "ExecuteTime": {
     "end_time": "2025-03-07T07:55:51.357057Z",
     "start_time": "2025-03-07T07:55:51.346970Z"
    }
   },
   "cell_type": "code",
   "source": [
    "from sklearn.preprocessing import StandardScaler\n",
    "\n",
    "scaler = StandardScaler()\n",
    "data_standardized = scaler.fit_transform(test_fea)"
   ],
   "id": "d4a635999fdcce4f",
   "outputs": [],
   "execution_count": 42
  },
  {
   "metadata": {
    "ExecuteTime": {
     "end_time": "2025-03-07T07:55:51.367121Z",
     "start_time": "2025-03-07T07:55:51.357057Z"
    }
   },
   "cell_type": "code",
   "source": [
    "from sklearn.decomposition import PCA\n",
    "\n",
    "# 假设我们希望降到2D以便于可视化\n",
    "pca = PCA(n_components=2)\n",
    "data_reduced = pca.fit_transform(data_standardized)"
   ],
   "id": "5ea4b30a5e456f34",
   "outputs": [],
   "execution_count": 43
  },
  {
   "metadata": {
    "ExecuteTime": {
     "end_time": "2025-03-07T07:56:56.761799Z",
     "start_time": "2025-03-07T07:56:56.642337Z"
    }
   },
   "cell_type": "code",
   "source": [
    "from sklearn.cluster import DBSCAN\n",
    "import matplotlib.pyplot as plt\n",
    "\n",
    "# 使用DBSCAN进行聚类\n",
    "dbscan = DBSCAN(eps=2.5, min_samples=6)\n",
    "clusters = dbscan.fit_predict(data_reduced)\n",
    "\n",
    "# 可视化结果\n",
    "plt.scatter(data_reduced[:, 0], data_reduced[:, 1], c=clusters, cmap='viridis', marker='o', s=50)\n",
    "plt.title('DBSCAN Clustering')\n",
    "plt.xlabel('Feature 1')\n",
    "plt.ylabel('Feature 2')\n",
    "plt.show()\n",
    "\n",
    "# 异常值（噪声点）\n",
    "outliers = data_reduced[clusters == -1]\n",
    "print(\"Detected outliers:\")\n",
    "print(outliers)"
   ],
   "id": "24b476058a8cb7ae",
   "outputs": [
    {
     "data": {
      "text/plain": [
       "<Figure size 640x480 with 1 Axes>"
      ],
      "image/png": "[encoded data removed]"
     },
     "metadata": {},
     "output_type": "display_data"
    },
    {
     "name": "stdout",
     "output_type": "stream",
     "text": [
      "Detected outliers:\n",
      "[[ 13.560321    -0.23960502]\n",
      " [  1.7044019  -21.823223  ]\n",
      " [-16.292313     7.6011133 ]\n",
      " [ -3.0045211  -12.785504  ]\n",
      " [-11.21656     -3.8772058 ]\n",
      " [ -2.6178606  -16.1478    ]\n",
      " [-14.075741     0.75408703]\n",
      " [ 15.095697    -0.94693494]\n",
      " [ -4.2527666  -10.70055   ]\n",
      " [ 13.776681    -7.306816  ]\n",
      " [ 13.640476     3.6373856 ]\n",
      " [ 15.822872    -2.2963543 ]\n",
      " [  5.890296   -17.175514  ]\n",
      " [-14.4988       0.03350364]\n",
      " [ 14.210567   -11.95196   ]\n",
      " [-11.403498    -8.361986  ]\n",
      " [  5.197013   -20.584206  ]\n",
      " [-16.04311     -3.800729  ]\n",
      " [  7.6199293  -13.380565  ]\n",
      " [ 13.225916    -0.3255917 ]\n",
      " [ 13.940748     2.8160195 ]]\n"
     ]
    }
   ],
   "execution_count": 55
  },
  {
   "metadata": {
    "ExecuteTime": {
     "end_time": "2025-03-07T07:56:59.901473Z",
     "start_time": "2025-03-07T07:56:59.892418Z"
    }
   },
   "cell_type": "code",
   "source": "print(outliers.shape)",
   "id": "116136fcf0abf85b",
   "outputs": [
    {
     "name": "stdout",
     "output_type": "stream",
     "text": [
      "(21, 2)\n"
     ]
    }
   ],
   "execution_count": 56
  },
  {
   "metadata": {
    "ExecuteTime": {
     "end_time": "2025-03-07T07:57:02.412515Z",
     "start_time": "2025-03-07T07:57:02.392383Z"
    }
   },
   "cell_type": "code",
   "source": [
    "for element in outliers:\n",
    "    indices = np.where(data_reduced == element)\n",
    "    if len([0]) > 0:\n",
    "        print(f\"元素 {element} 在数组中的位置是: {indices[0][0]}\")\n",
    "    else:\n",
    "        print(f\"元素 {element} 不在数组中\")"
   ],
   "id": "b9cb4e17ddd84358",
   "outputs": [
    {
     "name": "stdout",
     "output_type": "stream",
     "text": [
      "元素 [13.560321   -0.23960502] 在数组中的位置是: 318\n",
      "元素 [  1.7044019 -21.823223 ] 在数组中的位置是: 390\n",
      "元素 [-16.292313    7.6011133] 在数组中的位置是: 391\n",
      "元素 [ -3.0045211 -12.785504 ] 在数组中的位置是: 420\n",
      "元素 [-11.21656    -3.8772058] 在数组中的位置是: 421\n",
      "元素 [ -2.6178606 -16.1478   ] 在数组中的位置是: 445\n",
      "元素 [-14.075741     0.75408703] 在数组中的位置是: 446\n",
      "元素 [15.095697   -0.94693494] 在数组中的位置是: 752\n",
      "元素 [ -4.2527666 -10.70055  ] 在数组中的位置是: 761\n",
      "元素 [13.776681 -7.306816] 在数组中的位置是: 769\n",
      "元素 [13.640476   3.6373856] 在数组中的位置是: 815\n",
      "元素 [15.822872  -2.2963543] 在数组中的位置是: 827\n",
      "元素 [  5.890296 -17.175514] 在数组中的位置是: 1500\n",
      "元素 [-14.4988       0.03350364] 在数组中的位置是: 1501\n",
      "元素 [ 14.210567 -11.95196 ] 在数组中的位置是: 1510\n",
      "元素 [-11.403498  -8.361986] 在数组中的位置是: 1511\n",
      "元素 [  5.197013 -20.584206] 在数组中的位置是: 1532\n",
      "元素 [-16.04311   -3.800729] 在数组中的位置是: 1533\n",
      "元素 [  7.6199293 -13.380565 ] 在数组中的位置是: 1537\n",
      "元素 [13.225916  -0.3255917] 在数组中的位置是: 1621\n",
      "元素 [13.940748   2.8160195] 在数组中的位置是: 1720\n"
     ]
    }
   ],
   "execution_count": 57
  }
 ],
 "metadata": {
  "kernelspec": {
   "display_name": "Python 3",
   "language": "python",
   "name": "python3"
  },
  "language_info": {
   "codemirror_mode": {
    "name": "ipython",
    "version": 2
   },
   "file_extension": ".py",
   "mimetype": "text/x-python",
   "name": "python",
   "nbconvert_exporter": "python",
   "pygments_lexer": "ipython2",
   "version": "2.7.6"
  }
 },
 "nbformat": 4,
 "nbformat_minor": 5
}
