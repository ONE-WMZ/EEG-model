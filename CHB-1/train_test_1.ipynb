{
 "cells": [
  {
   "metadata": {},
   "cell_type": "markdown",
   "source": "### 加载需要的库文件",
   "id": "f015a0b1d580ee24"
  },
  {
   "cell_type": "code",
   "id": "initial_id",
   "metadata": {
    "collapsed": true,
    "ExecuteTime": {
     "end_time": "2025-03-05T12:33:30.310042Z",
     "start_time": "2025-03-05T12:33:28.452229Z"
    }
   },
   "source": [
    "from feature_coder import Decoder, Encoder\n",
    "from Bi_LSTM import device\n",
    "from Data_Set import data_set\n",
    "from torch.utils.data import DataLoader\n",
    "import torch.nn as nn \n",
    "from tqdm import tqdm\n",
    "import torch.optim as optim"
   ],
   "outputs": [],
   "execution_count": 1
  },
  {
   "metadata": {},
   "cell_type": "markdown",
   "source": "---",
   "id": "2abd92db74a5787"
  },
  {
   "metadata": {},
   "cell_type": "markdown",
   "source": "### 取数据",
   "id": "d58cee668599195b"
  },
  {
   "metadata": {
    "ExecuteTime": {
     "end_time": "2025-03-05T12:33:31.969006Z",
     "start_time": "2025-03-05T12:33:30.311069Z"
    }
   },
   "cell_type": "code",
   "source": [
    "data = data_set(2,1)\n",
    "dataloader = DataLoader(data, batch_size=8)\n",
    "print(len(dataloader))\n",
    "for item in dataloader:\n",
    "  print(item.shape)\n",
    "  break"
   ],
   "id": "920d0f9d1a2c1d26",
   "outputs": [
    {
     "name": "stdout",
     "output_type": "stream",
     "text": [
      "225\n",
      "torch.Size([8, 23, 512])\n"
     ]
    }
   ],
   "execution_count": 2
  },
  {
   "metadata": {},
   "cell_type": "markdown",
   "source": "### 训练",
   "id": "b8cc01c236835e00"
  },
  {
   "metadata": {
    "ExecuteTime": {
     "end_time": "2025-03-05T12:33:32.196150Z",
     "start_time": "2025-03-05T12:33:31.970507Z"
    }
   },
   "cell_type": "code",
   "source": [
    "# 初始化模型（放到GPU上）\n",
    "device = device\n",
    "encoder = Encoder().to(device)\n",
    "decoder = Decoder().to(device)"
   ],
   "id": "fc9a05763c969fac",
   "outputs": [],
   "execution_count": 3
  },
  {
   "metadata": {
    "ExecuteTime": {
     "end_time": "2025-03-05T12:33:33.305506Z",
     "start_time": "2025-03-05T12:33:32.197143Z"
    }
   },
   "cell_type": "code",
   "source": [
    "# 训练前准备\n",
    "epoch_num = 2\n",
    "loss_fn = nn.MSELoss()\n",
    "loss_ = []\n",
    "optimizer_1 = optim.Adam(encoder.parameters(), lr=0.001)\n",
    "optimizer_2 = optim.Adam(decoder.parameters(), lr=0.001)"
   ],
   "id": "ae44223b88774305",
   "outputs": [],
   "execution_count": 4
  },
  {
   "metadata": {
    "ExecuteTime": {
     "end_time": "2025-03-05T12:38:26.936687Z",
     "start_time": "2025-03-05T12:33:33.307498Z"
    }
   },
   "cell_type": "code",
   "source": [
    "for epoch in range(epoch_num):\n",
    "    print(\"epoch:\\t\", epoch+1)\n",
    "    with tqdm(total=len(dataloader)) as pbar:\n",
    "        for item in dataloader:\n",
    "            item = item.permute(0, 2, 1)\n",
    "            item = item.to(device)\n",
    "            feature = encoder(item)\n",
    "            out = decoder(feature)\n",
    "            loss = loss_fn(item, out)\n",
    "            optimizer_1.zero_grad()      # 清空之前的梯度\n",
    "            optimizer_2.zero_grad()\n",
    "            loss.backward()              # 梯度回传\n",
    "            optimizer_1.step()           # 更新参数\n",
    "            optimizer_2.step()\n",
    "            loss_.append(loss)\n",
    "            pbar.update(1)\n",
    "    "
   ],
   "id": "950d16aa4533384",
   "outputs": [
    {
     "name": "stdout",
     "output_type": "stream",
     "text": [
      "epoch:\t 1\n"
     ]
    },
    {
     "name": "stderr",
     "output_type": "stream",
     "text": [
      "100%|██████████| 225/225 [02:26<00:00,  1.54it/s]\n"
     ]
    },
    {
     "name": "stdout",
     "output_type": "stream",
     "text": [
      "epoch:\t 2\n"
     ]
    },
    {
     "name": "stderr",
     "output_type": "stream",
     "text": [
      "100%|██████████| 225/225 [02:27<00:00,  1.53it/s]\n"
     ]
    }
   ],
   "execution_count": 5
  },
  {
   "metadata": {},
   "cell_type": "markdown",
   "source": "### 损失图",
   "id": "c966f972358ef585"
  },
  {
   "metadata": {
    "ExecuteTime": {
     "end_time": "2025-03-05T12:38:27.494858Z",
     "start_time": "2025-03-05T12:38:26.937678Z"
    }
   },
   "cell_type": "code",
   "source": [
    "import torch\n",
    "loss_ = torch.tensor(loss_)\n",
    "loss_ = loss_.to('cpu')\n",
    "print(loss_)"
   ],
   "id": "fad3460952d0dae6",
   "outputs": [
    {
     "name": "stdout",
     "output_type": "stream",
     "text": [
      "tensor([0.6997, 0.8644, 0.9677, 0.4359, 0.3206, 0.2783, 0.3210, 0.3298, 0.7313,\n",
      "        0.6837, 0.5536, 0.4772, 0.6044, 0.4325, 0.4406, 0.4057, 0.5896, 0.9223,\n",
      "        0.8934, 0.5945, 0.7945, 1.0029, 0.5834, 0.6492, 0.7534, 0.7152, 0.8590,\n",
      "        1.5534, 0.7955, 0.8098, 0.8549, 0.8985, 1.2577, 0.9271, 1.1091, 0.9982,\n",
      "        0.9739, 1.1099, 1.0445, 1.1757, 1.3339, 1.1281, 1.4455, 1.3145, 1.9506,\n",
      "        1.3555, 1.4374, 1.4302, 1.3090, 1.8121, 1.4181, 1.4345, 1.7777, 1.7931,\n",
      "        1.4248, 1.4538, 1.6521, 1.7501, 1.4312, 1.3560, 1.4381, 1.7245, 1.6795,\n",
      "        1.8675, 1.5399, 1.8864, 1.4406, 1.7735, 1.6268, 1.5513, 1.8670, 1.5591,\n",
      "        1.7518, 1.7730, 1.9331, 1.8231, 2.3065, 1.7345, 2.0600, 1.7252, 1.5682,\n",
      "        1.7023, 2.2698, 2.0185, 2.2695, 1.7957, 2.2061, 1.8545, 2.0937, 1.7892,\n",
      "        2.2263, 1.7916, 2.1123, 1.7195, 2.4610, 1.9071, 2.0494, 2.0491, 1.5185,\n",
      "        2.7057, 2.4124, 2.0733, 1.9178, 2.3133, 1.7979, 1.5465, 1.6438, 2.5025,\n",
      "        1.9031, 1.0993, 0.9730, 0.7736, 0.5062, 0.3533, 0.6550, 0.8513, 0.5744,\n",
      "        0.3592, 0.3256, 0.4363, 0.5023, 0.4268, 0.6888, 0.4157, 0.3990, 0.3851,\n",
      "        0.4014, 0.4157, 0.4570, 0.4972, 0.2909, 0.3742, 0.2394, 0.3457, 0.3235,\n",
      "        0.3051, 0.4105, 0.4927, 0.3631, 0.4436, 0.3738, 0.4984, 0.3814, 0.2905,\n",
      "        0.2402, 0.3263, 0.3183, 0.2900, 0.3285, 0.3276, 0.3658, 0.2306, 0.3221,\n",
      "        0.2433, 0.2079, 0.2298, 0.2469, 0.2266, 0.2277, 0.2984, 0.2105, 0.1983,\n",
      "        0.2330, 0.2386, 0.2159, 0.3392, 0.2088, 0.2414, 0.3433, 0.2574, 0.2509,\n",
      "        0.2583, 0.2705, 0.2810, 0.4198, 0.3630, 0.4961, 0.4299, 0.2331, 0.3842,\n",
      "        0.4622, 0.2495, 0.3674, 0.3521, 0.4161, 0.4620, 0.5180, 3.7247, 5.5624,\n",
      "        5.1283, 3.1538, 1.9879, 1.5571, 0.9878, 0.5312, 0.6242, 0.6120, 0.4413,\n",
      "        0.4321, 0.4570, 0.4847, 0.4760, 0.8294, 0.9193, 0.5974, 0.4348, 0.6455,\n",
      "        0.5888, 0.5734, 0.5760, 0.5305, 0.3702, 0.3865, 0.4976, 0.5812, 0.5145,\n",
      "        0.3977, 0.4629, 0.3501, 0.3666, 0.4564, 0.4571, 0.4798, 0.5744, 0.4241,\n",
      "        0.6992, 0.8635, 0.9668, 0.4357, 0.3204, 0.2783, 0.3211, 0.3297, 0.7311,\n",
      "        0.6836, 0.5536, 0.4771, 0.6043, 0.4325, 0.4406, 0.4057, 0.5896, 0.9224,\n",
      "        0.8933, 0.5944, 0.7945, 1.0028, 0.5834, 0.6492, 0.7533, 0.7151, 0.8587,\n",
      "        1.5535, 0.7956, 0.8098, 0.8549, 0.8985, 1.2576, 0.9271, 1.1090, 0.9981,\n",
      "        0.9738, 1.1100, 1.0445, 1.1756, 1.3339, 1.1281, 1.4454, 1.3146, 1.9505,\n",
      "        1.3555, 1.4373, 1.4302, 1.3089, 1.8120, 1.4180, 1.4343, 1.7777, 1.7931,\n",
      "        1.4248, 1.4538, 1.6521, 1.7500, 1.4311, 1.3560, 1.4382, 1.7244, 1.6796,\n",
      "        1.8676, 1.5398, 1.8864, 1.4405, 1.7735, 1.6267, 1.5512, 1.8670, 1.5592,\n",
      "        1.7517, 1.7730, 1.9330, 1.8235, 2.3068, 1.7347, 2.0600, 1.7251, 1.5681,\n",
      "        1.7023, 2.2698, 2.0184, 2.2694, 1.7957, 2.2060, 1.8545, 2.0936, 1.7892,\n",
      "        2.2263, 1.7916, 2.1125, 1.7195, 2.4609, 1.9072, 2.0494, 2.0491, 1.5185,\n",
      "        2.7058, 2.4123, 2.0732, 1.9178, 2.3133, 1.7979, 1.5464, 1.6437, 2.5025,\n",
      "        1.9031, 1.0992, 0.9730, 0.7736, 0.5062, 0.3533, 0.6549, 0.8513, 0.5744,\n",
      "        0.3591, 0.3256, 0.4363, 0.5022, 0.4269, 0.6887, 0.4157, 0.3990, 0.3851,\n",
      "        0.4014, 0.4157, 0.4570, 0.4973, 0.2909, 0.3742, 0.2394, 0.3457, 0.3235,\n",
      "        0.3051, 0.4106, 0.4927, 0.3631, 0.4436, 0.3737, 0.4984, 0.3814, 0.2906,\n",
      "        0.2402, 0.3263, 0.3183, 0.2900, 0.3284, 0.3276, 0.3658, 0.2306, 0.3221,\n",
      "        0.2432, 0.2079, 0.2298, 0.2469, 0.2266, 0.2277, 0.2983, 0.2105, 0.1983,\n",
      "        0.2330, 0.2386, 0.2159, 0.3392, 0.2088, 0.2414, 0.3432, 0.2574, 0.2509,\n",
      "        0.2582, 0.2704, 0.2810, 0.4197, 0.3630, 0.4960, 0.4298, 0.2329, 0.3841,\n",
      "        0.4618, 0.2677, 0.3673, 0.3521, 0.4161, 0.4620, 0.5180, 3.7246, 5.5625,\n",
      "        5.1283, 3.1541, 1.9879, 1.5572, 0.9881, 0.5311, 0.6242, 0.6121, 0.4415,\n",
      "        0.4320, 0.4570, 0.4849, 0.4762, 0.8295, 0.9193, 0.5975, 0.4349, 0.6457,\n",
      "        0.5889, 0.5737, 0.5763, 0.5309, 0.3703, 0.3865, 0.4981, 0.5817, 0.5161,\n",
      "        0.3982, 0.4629, 0.3508, 0.3659, 0.4555, 0.4569, 0.4796, 0.5744, 0.4243])\n"
     ]
    }
   ],
   "execution_count": 6
  },
  {
   "metadata": {
    "ExecuteTime": {
     "end_time": "2025-03-05T12:38:27.510155Z",
     "start_time": "2025-03-05T12:38:27.495852Z"
    }
   },
   "cell_type": "code",
   "source": "",
   "id": "4484662772f2d6cf",
   "outputs": [],
   "execution_count": 6
  },
  {
   "metadata": {
    "ExecuteTime": {
     "end_time": "2025-03-05T12:38:27.587534Z",
     "start_time": "2025-03-05T12:38:27.511871Z"
    }
   },
   "cell_type": "code",
   "source": [
    "import matplotlib.pyplot as plt\n",
    "plt.plot(loss_)\n",
    "plt.show()"
   ],
   "id": "a42252cf1b76eee5",
   "outputs": [
    {
     "data": {
      "text/plain": [
       "<Figure size 640x480 with 1 Axes>"
      ],
      "image/png": "[encoded data removed]"
     },
     "metadata": {},
     "output_type": "display_data"
    }
   ],
   "execution_count": 7
  },
  {
   "metadata": {},
   "cell_type": "markdown",
   "source": "## 测试",
   "id": "6d473ed8e65e5175"
  },
  {
   "metadata": {
    "ExecuteTime": {
     "end_time": "2025-03-05T12:38:27.602343Z",
     "start_time": "2025-03-05T12:38:27.588534Z"
    }
   },
   "cell_type": "code",
   "source": "",
   "id": "cffbb40c5dd0d26d",
   "outputs": [],
   "execution_count": 7
  }
 ],
 "metadata": {
  "kernelspec": {
   "display_name": "Python 3",
   "language": "python",
   "name": "python3"
  },
  "language_info": {
   "codemirror_mode": {
    "name": "ipython",
    "version": 2
   },
   "file_extension": ".py",
   "mimetype": "text/x-python",
   "name": "python",
   "nbconvert_exporter": "python",
   "pygments_lexer": "ipython2",
   "version": "2.7.6"
  }
 },
 "nbformat": 4,
 "nbformat_minor": 5
}
