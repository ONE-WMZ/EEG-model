{
 "cells": [
  {
   "cell_type": "code",
   "id": "initial_id",
   "metadata": {
    "collapsed": true,
    "ExecuteTime": {
     "end_time": "2024-12-11T12:59:22.665317Z",
     "start_time": "2024-12-11T12:59:21.985996Z"
    }
   },
   "source": [
    "import numpy as np\n",
    "import pandas as pd\n",
    "import matplotlib.pyplot as plt\n",
    "import scipy.io as sio"
   ],
   "outputs": [],
   "execution_count": 2
  },
  {
   "metadata": {},
   "cell_type": "markdown",
   "source": [
    "---\n",
    "### 读数据"
   ],
   "id": "37f31d94da913605"
  },
  {
   "metadata": {
    "ExecuteTime": {
     "end_time": "2024-12-11T12:59:23.223695Z",
     "start_time": "2024-12-11T12:59:22.667068Z"
    }
   },
   "cell_type": "code",
   "source": [
    "# 第一次采集，24个影片，15个被试\n",
    "A = sio.loadmat('F:/SEED_IV/eeg_feature_smooth/1/1_20160518.mat')\n",
    "B = sio.loadmat('F:/SEED_IV/eeg_feature_smooth/1/2_20150915.mat')\n",
    "C = sio.loadmat('F:/SEED_IV/eeg_feature_smooth/1/3_20150919.mat')\n",
    "D = sio.loadmat('F:/SEED_IV/eeg_feature_smooth/1/4_20151111.mat')\n",
    "E = sio.loadmat('F:/SEED_IV/eeg_feature_smooth/1/5_20160406.mat')\n",
    "F = sio.loadmat('F:/SEED_IV/eeg_feature_smooth/1/6_20150507.mat')\n",
    "G = sio.loadmat('F:/SEED_IV/eeg_feature_smooth/1/7_20150715.mat')\n",
    "H = sio.loadmat('F:/SEED_IV/eeg_feature_smooth/1/8_20151103.mat')\n",
    "I = sio.loadmat('F:/SEED_IV/eeg_feature_smooth/1/9_20151028.mat')\n",
    "J = sio.loadmat('F:/SEED_IV/eeg_feature_smooth/1/10_20151014.mat')\n",
    "K = sio.loadmat('F:/SEED_IV/eeg_feature_smooth/1/11_20150916.mat')\n",
    "L = sio.loadmat('F:/SEED_IV/eeg_feature_smooth/1/12_20150725.mat')\n",
    "M = sio.loadmat('F:/SEED_IV/eeg_feature_smooth/1/13_20151115.mat')\n",
    "N = sio.loadmat('F:/SEED_IV/eeg_feature_smooth/1/14_20151205.mat')\n",
    "O = sio.loadmat('F:/SEED_IV/eeg_feature_smooth/1/15_20150508.mat')\n",
    "label = [1,2,3,0,2,0,0,1,0,1,2,1,1,1,2,3,2,2,3,3,0,3,0,3]          # 标签"
   ],
   "id": "5a3d5683fb49ed8e",
   "outputs": [],
   "execution_count": 3
  },
  {
   "metadata": {
    "ExecuteTime": {
     "end_time": "2024-12-11T12:59:23.245307Z",
     "start_time": "2024-12-11T12:59:23.225200Z"
    }
   },
   "cell_type": "code",
   "source": "A.keys()",
   "id": "396a09b4f7c29e0e",
   "outputs": [
    {
     "data": {
      "text/plain": [
       "dict_keys(['__header__', '__version__', '__globals__', 'de_movingAve1', 'de_LDS1', 'psd_movingAve1', 'psd_LDS1', 'de_movingAve2', 'de_LDS2', 'psd_movingAve2', 'psd_LDS2', 'de_movingAve3', 'de_LDS3', 'psd_movingAve3', 'psd_LDS3', 'de_movingAve4', 'de_LDS4', 'psd_movingAve4', 'psd_LDS4', 'de_movingAve5', 'de_LDS5', 'psd_movingAve5', 'psd_LDS5', 'de_movingAve6', 'de_LDS6', 'psd_movingAve6', 'psd_LDS6', 'de_movingAve7', 'de_LDS7', 'psd_movingAve7', 'psd_LDS7', 'de_movingAve8', 'de_LDS8', 'psd_movingAve8', 'psd_LDS8', 'de_movingAve9', 'de_LDS9', 'psd_movingAve9', 'psd_LDS9', 'de_movingAve10', 'de_LDS10', 'psd_movingAve10', 'psd_LDS10', 'de_movingAve11', 'de_LDS11', 'psd_movingAve11', 'psd_LDS11', 'de_movingAve12', 'de_LDS12', 'psd_movingAve12', 'psd_LDS12', 'de_movingAve13', 'de_LDS13', 'psd_movingAve13', 'psd_LDS13', 'de_movingAve14', 'de_LDS14', 'psd_movingAve14', 'psd_LDS14', 'de_movingAve15', 'de_LDS15', 'psd_movingAve15', 'psd_LDS15', 'de_movingAve16', 'de_LDS16', 'psd_movingAve16', 'psd_LDS16', 'de_movingAve17', 'de_LDS17', 'psd_movingAve17', 'psd_LDS17', 'de_movingAve18', 'de_LDS18', 'psd_movingAve18', 'psd_LDS18', 'de_movingAve19', 'de_LDS19', 'psd_movingAve19', 'psd_LDS19', 'de_movingAve20', 'de_LDS20', 'psd_movingAve20', 'psd_LDS20', 'de_movingAve21', 'de_LDS21', 'psd_movingAve21', 'psd_LDS21', 'de_movingAve22', 'de_LDS22', 'psd_movingAve22', 'psd_LDS22', 'de_movingAve23', 'de_LDS23', 'psd_movingAve23', 'psd_LDS23', 'de_movingAve24', 'de_LDS24', 'psd_movingAve24', 'psd_LDS24'])"
      ]
     },
     "execution_count": 4,
     "metadata": {},
     "output_type": "execute_result"
    }
   ],
   "execution_count": 4
  },
  {
   "metadata": {
    "ExecuteTime": {
     "end_time": "2024-12-11T12:59:23.261359Z",
     "start_time": "2024-12-11T12:59:23.245728Z"
    }
   },
   "cell_type": "code",
   "source": [
    "# 24个视频(第一个被试A)\n",
    "a1 = A['de_LDS1']\n",
    "a2 = A['de_LDS2']\n",
    "a3 = A['de_LDS3']\n",
    "a4 = A['de_LDS4']\n",
    "a5 = A['de_LDS5']\n",
    "a6 = A['de_LDS6']\n",
    "a7 = A['de_LDS7']\n",
    "a8 = A['de_LDS8']\n",
    "a9 = A['de_LDS9']\n",
    "a10 = A['de_LDS10']\n",
    "a11 = A['de_LDS11']\n",
    "a12 = A['de_LDS12']\n",
    "a13 = A['de_LDS13']\n",
    "a14 = A['de_LDS14']\n",
    "a15 = A['de_LDS15']\n",
    "a16 = A['de_LDS16']\n",
    "a17 = A['de_LDS17']\n",
    "a18 = A['de_LDS18']\n",
    "a19 = A['de_LDS19']\n",
    "a20 = A['de_LDS20']\n",
    "a21 = A['de_LDS21']\n",
    "a22 = A['de_LDS22']\n",
    "a23 = A['de_LDS23']\n",
    "a24 = A['de_LDS24']"
   ],
   "id": "e9942ea8672439bf",
   "outputs": [],
   "execution_count": 5
  },
  {
   "metadata": {
    "ExecuteTime": {
     "end_time": "2024-12-11T12:59:23.277075Z",
     "start_time": "2024-12-11T12:59:23.261359Z"
    }
   },
   "cell_type": "code",
   "source": [
    "# 42个时间片\n",
    "# 将数据处理成（42*5*9*9）作为模型输入（batch_size,channels,height,width）\n",
    "a1 = a1.transpose((1, 2, 0))\n",
    "a2 = a2.transpose((1, 2, 0))\n",
    "a3 = a3.transpose((1, 2, 0))\n",
    "a4 = a4.transpose((1, 2, 0))\n",
    "a5 = a5.transpose((1, 2, 0))\n",
    "a6 = a6.transpose((1, 2, 0))\n",
    "a7 = a7.transpose((1, 2, 0))\n",
    "a8 = a8.transpose((1, 2, 0))\n",
    "a9 = a9.transpose((1, 2, 0))\n",
    "a10 = a10.transpose((1, 2, 0))\n",
    "a11 = a11.transpose((1, 2, 0))\n",
    "a12 = a12.transpose((1, 2, 0))\n",
    "a13 = a13.transpose((1, 2, 0))\n",
    "a14 = a14.transpose((1, 2, 0))\n",
    "a15 = a15.transpose((1, 2, 0))\n",
    "a16 = a16.transpose((1, 2, 0))\n",
    "a17 = a17.transpose((1, 2, 0))\n",
    "a18 = a18.transpose((1, 2, 0))\n",
    "a19 = a19.transpose((1, 2, 0))\n",
    "a20 = a20.transpose((1, 2, 0))\n",
    "a21 = a21.transpose((1, 2, 0))\n",
    "a22 = a22.transpose((1, 2, 0))\n",
    "a23 = a23.transpose((1, 2, 0))\n",
    "a24 = a24.transpose((1, 2, 0))\n",
    "print(a1.shape)    \n",
    "print(a2.shape)\n",
    "print(a3.shape)\n",
    "print(a4.shape)\n",
    "print(a5.shape)\n",
    "print(a6.shape)\n",
    "print(a7.shape)\n",
    "print(a8.shape)\n",
    "print(a9.shape)\n",
    "print(a10.shape)\n",
    "print(a11.shape)\n",
    "print(a12.shape)\n",
    "print(a13.shape)\n",
    "print(a14.shape)\n",
    "print(a15.shape)\n",
    "print(a16.shape)\n",
    "print(a17.shape)\n",
    "print(a18.shape)\n",
    "print(a19.shape)\n",
    "print(a20.shape)\n",
    "print(a21.shape)\n",
    "print(a22.shape)\n",
    "print(a23.shape)\n",
    "print(a24.shape)\n",
    "print(a5.shape)\n",
    "print(a6.shape)\n",
    "print(a7.shape)\n",
    "print(a8.shape)\n",
    "print(a9.shape)\n",
    "print(a10.shape)\n",
    "print(a11.shape)\n",
    "print(a12.shape)\n",
    "print(a13.shape)\n",
    "print(a14.shape)\n",
    "print(a15.shape)\n",
    "print(a16.shape)\n",
    "print(a17.shape)\n",
    "print(a18.shape)\n",
    "print(a19.shape)\n",
    "print(a20.shape)\n",
    "print(a21.shape)\n",
    "print(a22.shape)\n",
    "print(a23.shape)\n",
    "print(a24.shape)"
   ],
   "id": "af3963d36828703b",
   "outputs": [
    {
     "name": "stdout",
     "output_type": "stream",
     "text": [
      "(42, 5, 62)\n",
      "(23, 5, 62)\n",
      "(49, 5, 62)\n",
      "(32, 5, 62)\n",
      "(22, 5, 62)\n",
      "(40, 5, 62)\n",
      "(38, 5, 62)\n",
      "(52, 5, 62)\n",
      "(36, 5, 62)\n",
      "(42, 5, 62)\n",
      "(12, 5, 62)\n",
      "(27, 5, 62)\n",
      "(54, 5, 62)\n",
      "(42, 5, 62)\n",
      "(64, 5, 62)\n",
      "(35, 5, 62)\n",
      "(17, 5, 62)\n",
      "(44, 5, 62)\n",
      "(35, 5, 62)\n",
      "(12, 5, 62)\n",
      "(28, 5, 62)\n",
      "(28, 5, 62)\n",
      "(43, 5, 62)\n",
      "(34, 5, 62)\n",
      "(22, 5, 62)\n",
      "(40, 5, 62)\n",
      "(38, 5, 62)\n",
      "(52, 5, 62)\n",
      "(36, 5, 62)\n",
      "(42, 5, 62)\n",
      "(12, 5, 62)\n",
      "(27, 5, 62)\n",
      "(54, 5, 62)\n",
      "(42, 5, 62)\n",
      "(64, 5, 62)\n",
      "(35, 5, 62)\n",
      "(17, 5, 62)\n",
      "(44, 5, 62)\n",
      "(35, 5, 62)\n",
      "(12, 5, 62)\n",
      "(28, 5, 62)\n",
      "(28, 5, 62)\n",
      "(43, 5, 62)\n",
      "(34, 5, 62)\n"
     ]
    }
   ],
   "execution_count": 6
  },
  {
   "metadata": {
    "ExecuteTime": {
     "end_time": "2024-12-11T12:59:23.292922Z",
     "start_time": "2024-12-11T12:59:23.277877Z"
    }
   },
   "cell_type": "code",
   "source": [
    "a_0 = np.array([[None,None,None,0,0,0,None,None,None],\n",
    "         [None,None,0,None,None,None,0,None,None],\n",
    "         [0,0,0,0,0,0,0,0,0],\n",
    "         [0,0,0,0,0,0,0,0,0],\n",
    "         [0,0,0,0,0,0,0,0,0],\n",
    "         [0,0,0,0,0,0,0,0,0],\n",
    "         [0,0,0,0,0,0,0,0,0],\n",
    "         [0,0,0,None,0,None,0,0,0],\n",
    "         [0,None,None,0,0,0,None,None,0]])\n",
    "a0 = np.zeros((42,5,9,9))\n",
    "a_1 = a0.copy()\n",
    "                                           # 一个被试的一个影片\n",
    "for t in range(42):                        # 时间片\n",
    "    for c in range(5):                     # 通道\n",
    "        k1 = a_0.copy()\n",
    "        k = 0\n",
    "        for i in range(9):                 # 坐标h\n",
    "            for j in range(9):             # 坐标w\n",
    "                if a_0[i,j] != None:\n",
    "                    k1[i,j] = a1[t,c,k]\n",
    "                    k = k+1        \n",
    "                    a_1[t,c,i,j] = k1[i,j]\n",
    "                else:continue\n",
    "        k = 0\n",
    "        "
   ],
   "id": "29b9ad9131127d24",
   "outputs": [],
   "execution_count": 7
  },
  {
   "metadata": {
    "ExecuteTime": {
     "end_time": "2024-12-11T12:59:23.309022Z",
     "start_time": "2024-12-11T12:59:23.292922Z"
    }
   },
   "cell_type": "code",
   "source": [
    "def TCHW(a):\n",
    "    aao = np.array([[None,None,None,0,0,0,None,None,None],\n",
    "         [None,None,0,None,None,None,0,None,None],\n",
    "         [0,0,0,0,0,0,0,0,0],\n",
    "         [0,0,0,0,0,0,0,0,0],\n",
    "         [0,0,0,0,0,0,0,0,0],\n",
    "         [0,0,0,0,0,0,0,0,0],\n",
    "         [0,0,0,0,0,0,0,0,0],\n",
    "         [0,0,0,None,0,None,0,0,0],\n",
    "         [0,None,None,0,0,0,None,None,0]])\n",
    "    ao = np.zeros((a.shape[0],5,9,9))\n",
    "    for t in range(a.shape[0]):\n",
    "        for c in range(5):\n",
    "            k1 = aao.copy()\n",
    "            k = 0\n",
    "            for i in range(9):                 # 坐标h\n",
    "                for j in range(9):             # 坐标w\n",
    "                    if k1[i,j] != None:\n",
    "                        k1[i,j] = a[t,c,k]\n",
    "                        k = k+1        \n",
    "                        ao[t,c,i,j] = k1[i,j]\n",
    "                    else:continue\n",
    "            k = 0\n",
    "    return ao\n",
    "a_2 = TCHW(a2)"
   ],
   "id": "5f0bfc8b617dd115",
   "outputs": [],
   "execution_count": 8
  },
  {
   "metadata": {
    "ExecuteTime": {
     "end_time": "2024-12-11T12:59:23.325154Z",
     "start_time": "2024-12-11T12:59:23.309022Z"
    }
   },
   "cell_type": "code",
   "source": "print(a_2.shape)",
   "id": "c6d548be940ef2a7",
   "outputs": [
    {
     "name": "stdout",
     "output_type": "stream",
     "text": [
      "(23, 5, 9, 9)\n"
     ]
    }
   ],
   "execution_count": 9
  },
  {
   "metadata": {
    "ExecuteTime": {
     "end_time": "2024-12-11T12:59:23.340931Z",
     "start_time": "2024-12-11T12:59:23.326218Z"
    }
   },
   "cell_type": "code",
   "source": "a_2[0,0,:,:]",
   "id": "f7002731fc4501dd",
   "outputs": [
    {
     "data": {
      "text/plain": [
       "array([[ 0.        ,  0.        ,  0.        , 27.54932744, 27.52962696,\n",
       "        27.54472222,  0.        ,  0.        ,  0.        ],\n",
       "       [ 0.        ,  0.        , 25.48441444,  0.        ,  0.        ,\n",
       "         0.        , 26.29949604,  0.        ,  0.        ],\n",
       "       [26.31197853, 25.22339148, 25.19594732, 25.15641928, 24.50875076,\n",
       "        24.87998533, 25.13317044, 25.74602294, 26.49298579],\n",
       "       [25.25113877, 25.19106775, 25.07129106, 25.1467263 , 23.25367457,\n",
       "        23.50257663, 24.06466877, 24.89186868, 25.81143928],\n",
       "       [25.20986295, 24.66280027, 23.84152034, 22.84588518, 22.78702789,\n",
       "        22.45046034, 23.35274621, 24.54214698, 25.1991443 ],\n",
       "       [24.53368833, 23.73792475, 23.73136589, 22.58397404, 22.70200382,\n",
       "        22.4113648 , 23.01016973, 24.10236243, 24.92917281],\n",
       "       [24.53493715, 24.52209446, 23.72859055, 23.54464167, 23.27373543,\n",
       "        23.3785049 , 23.55047196, 24.3435587 , 24.8472151 ],\n",
       "       [24.74463925, 24.73441183, 24.72964646,  0.        , 24.43209721,\n",
       "         0.        , 24.61727299, 24.67746999, 24.87047785],\n",
       "       [24.74970029,  0.        ,  0.        , 24.74082264, 24.95699709,\n",
       "        24.87180899,  0.        ,  0.        , 25.33794814]])"
      ]
     },
     "execution_count": 10,
     "metadata": {},
     "output_type": "execute_result"
    }
   ],
   "execution_count": 10
  },
  {
   "metadata": {
    "ExecuteTime": {
     "end_time": "2024-12-11T12:59:23.357026Z",
     "start_time": "2024-12-11T12:59:23.342939Z"
    }
   },
   "cell_type": "code",
   "source": "a_1.shape",
   "id": "3c139c57364b7b45",
   "outputs": [
    {
     "data": {
      "text/plain": [
       "(42, 5, 9, 9)"
      ]
     },
     "execution_count": 11,
     "metadata": {},
     "output_type": "execute_result"
    }
   ],
   "execution_count": 11
  },
  {
   "metadata": {
    "ExecuteTime": {
     "end_time": "2024-12-11T12:59:23.365072Z",
     "start_time": "2024-12-11T12:59:23.357026Z"
    }
   },
   "cell_type": "code",
   "source": "a_1[0,0,:,:]",
   "id": "cd59322ea5d3983e",
   "outputs": [
    {
     "data": {
      "text/plain": [
       "array([[ 0.        ,  0.        ,  0.        , 27.79550063, 27.70755329,\n",
       "        27.70877052,  0.        ,  0.        ,  0.        ],\n",
       "       [ 0.        ,  0.        , 25.76243677,  0.        ,  0.        ,\n",
       "         0.        , 26.43667776,  0.        ,  0.        ],\n",
       "       [26.87119573, 25.52378348, 25.50432064, 25.45221316, 24.68049499,\n",
       "        24.99748288, 25.39045056, 26.21502666, 26.92475689],\n",
       "       [25.83411012, 25.52329217, 25.37707268, 25.4431436 , 23.4182796 ,\n",
       "        23.80307528, 24.39529234, 25.36327447, 26.23362058],\n",
       "       [25.8080683 , 25.02133628, 24.13387879, 23.12373895, 23.20622596,\n",
       "        22.66186347, 23.6165822 , 24.83129758, 25.6194159 ],\n",
       "       [25.11857703, 24.26400247, 24.25969596, 23.02365615, 22.69559715,\n",
       "        22.50364061, 23.32774884, 24.44075938, 25.18639365],\n",
       "       [25.12325284, 25.11109976, 24.25329461, 23.80442346, 23.53136072,\n",
       "        23.4148799 , 23.93613747, 24.6926115 , 25.11323317],\n",
       "       [25.24880694, 25.250997  , 25.24537714,  0.        , 24.66936553,\n",
       "         0.        , 25.03184278, 25.23178332, 25.38469286],\n",
       "       [25.26199833,  0.        ,  0.        , 25.25470904, 25.3774774 ,\n",
       "        25.4488595 ,  0.        ,  0.        , 25.78729622]])"
      ]
     },
     "execution_count": 12,
     "metadata": {},
     "output_type": "execute_result"
    }
   ],
   "execution_count": 12
  },
  {
   "metadata": {
    "ExecuteTime": {
     "end_time": "2024-12-11T12:59:24.613397Z",
     "start_time": "2024-12-11T12:59:23.365811Z"
    }
   },
   "cell_type": "code",
   "source": [
    "import numpy as np\n",
    "import torch\n",
    "import torch.nn as nn\n",
    "import torch.nn.functional as F\n",
    "import torch.optim as optim"
   ],
   "id": "524652b11713cf3b",
   "outputs": [],
   "execution_count": 13
  },
  {
   "metadata": {
    "ExecuteTime": {
     "end_time": "2024-12-11T12:59:24.629284Z",
     "start_time": "2024-12-11T12:59:24.613397Z"
    }
   },
   "cell_type": "code",
   "source": [
    "class cnn1(nn.Module):\n",
    "    def __init__(self):\n",
    "        super(cnn1, self).__init__()\n",
    "        \n",
    "        # 第1层卷积层，输入通道为5，输出通道为64，卷积核大小为5*5\n",
    "        self.conv1 = nn.Conv2d(in_channels=5, out_channels=64, kernel_size=5, padding=1)\n",
    " \n",
    "        # 第2层卷积层，输入通道为64，输出通道为128，卷积核大小为4*4\n",
    "        self.conv2 = nn.Conv2d(in_channels=64, out_channels=128, kernel_size=4, padding=1)\n",
    "        \n",
    "        # 第3层卷积层，输入通道为128，输出通道为256，卷积核大小为4*4\n",
    "        self.conv3 = nn.Conv2d(in_channels=128, out_channels=256, kernel_size=4, padding=1)\n",
    "        \n",
    "        # 第4层卷积层，输入通道为256，输出通道为64，卷积核大小为1*1\n",
    "        self.conv4 = nn.Conv2d(in_channels=256, out_channels=64, kernel_size=2, padding=1)\n",
    "        self.pool = nn.MaxPool2d(kernel_size=2, stride=2)\n",
    "        self.batch_norm1 = nn.BatchNorm2d(64)\n",
    "        self.batch_norm2 = nn.BatchNorm2d(128)\n",
    "        self.batch_norm3 = nn.BatchNorm2d(256)\n",
    "        self.dropout = nn.Dropout(0.2)\n",
    "        # 全连接层\n",
    "        self.fc1 = nn.Linear(64*3*3, 128)\n",
    "        # self.fc2 = nn.Linear(256, 120)\n",
    "        self.fc3 = nn.Linear(128,4)\n",
    "        self.softmax = nn.Softmax(dim=1)\n",
    "\n",
    "    def forward(self, x):\n",
    "        x = torch.relu(self.conv1(x))\n",
    "        x = self.batch_norm1(x)\n",
    "        x = self.dropout(x)\n",
    "        # print(x.shape)\n",
    "        x = torch.relu(self.conv2(x))\n",
    "        x = self.batch_norm2(x)\n",
    "        x = self.dropout(x)\n",
    "        \n",
    "        x = torch.relu(self.conv3(x))\n",
    "        x = self.batch_norm3(x)\n",
    "        x = self.dropout(x)\n",
    "        \n",
    "        x = torch.relu(self.conv4(x))\n",
    "        x = self.pool(x)\n",
    "        x = self.batch_norm1(x)\n",
    "        x = self.dropout(x)\n",
    "        \n",
    "        # print(x.shape)\n",
    "        # print(x.shape)\n",
    "        # 展平张量\n",
    "        x = x.view(-1, 64*3*3)\n",
    "        x = torch.relu(self.fc1(x))\n",
    "        # x = torch.relu(self.fc2(x))\n",
    "        x = self.fc3(x)\n",
    "        return self.softmax(x)"
   ],
   "id": "e63b47a8299dfa59",
   "outputs": [],
   "execution_count": 14
  },
  {
   "metadata": {
    "ExecuteTime": {
     "end_time": "2024-12-11T12:59:24.645438Z",
     "start_time": "2024-12-11T12:59:24.629284Z"
    }
   },
   "cell_type": "code",
   "source": [
    "label = np.ones((42))\n",
    "print(label)"
   ],
   "id": "5dcb4e63947597df",
   "outputs": [
    {
     "name": "stdout",
     "output_type": "stream",
     "text": [
      "[1. 1. 1. 1. 1. 1. 1. 1. 1. 1. 1. 1. 1. 1. 1. 1. 1. 1. 1. 1. 1. 1. 1. 1.\n",
      " 1. 1. 1. 1. 1. 1. 1. 1. 1. 1. 1. 1. 1. 1. 1. 1. 1. 1.]\n"
     ]
    }
   ],
   "execution_count": 15
  },
  {
   "metadata": {
    "ExecuteTime": {
     "end_time": "2024-12-11T12:59:25.643843Z",
     "start_time": "2024-12-11T12:59:24.647132Z"
    }
   },
   "cell_type": "code",
   "source": [
    "input1 = torch.from_numpy(a_1).float()\n",
    "y = torch.tensor(label)\n",
    "cnn = cnn1()\n",
    "loss1 = nn.CrossEntropyLoss()\n",
    "losses = []\n",
    "acces = []\n",
    "num =0\n",
    "all = 0\n",
    "for i in range(10):  \n",
    "    out = cnn(input1)\n",
    "    loss = loss1(out,y.long())\n",
    "    optimizer = optim.Adam(cnn.parameters(), lr=0.001)\n",
    "    optimizer.zero_grad()\n",
    "    loss.backward()\n",
    "    optimizer.step()\n",
    "    loss = loss.detach().numpy()\n",
    "    losses.append(loss)\n",
    "    # print(out.shape)\n",
    "    # print(y.shape)\n",
    "    # print(type(out))\n",
    "    # print(out)\n",
    "    out_p = torch.argmax(out, dim=1)\n",
    "    # print(out_p)\n",
    "    for j in range(len(out_p)):\n",
    "        all = all + 1\n",
    "        if out_p[j] == label[j]:\n",
    "            num += 1\n",
    "    acc = num/all\n",
    "    acces.append(acc)\n",
    "    print('epoch:',i,'\\tloss:',loss,'\\taccuracy:',acc,'\\t总:',all,'\\t对：',num)\n",
    "    num = 0\n",
    "    all = 0"
   ],
   "id": "a2957deeeb32aed1",
   "outputs": [
    {
     "name": "stdout",
     "output_type": "stream",
     "text": [
      "epoch: 0 \tloss: 1.4358736 \taccuracy: 0.07142857142857142 \t总: 42 \t对： 3\n",
      "epoch: 1 \tloss: 0.9072436 \taccuracy: 1.0 \t总: 42 \t对： 42\n",
      "epoch: 2 \tloss: 0.75613886 \taccuracy: 1.0 \t总: 42 \t对： 42\n",
      "epoch: 3 \tloss: 0.74587554 \taccuracy: 1.0 \t总: 42 \t对： 42\n",
      "epoch: 4 \tloss: 0.74396145 \taccuracy: 1.0 \t总: 42 \t对： 42\n",
      "epoch: 5 \tloss: 0.7437192 \taccuracy: 1.0 \t总: 42 \t对： 42\n",
      "epoch: 6 \tloss: 0.7436729 \taccuracy: 1.0 \t总: 42 \t对： 42\n",
      "epoch: 7 \tloss: 0.7436687 \taccuracy: 1.0 \t总: 42 \t对： 42\n",
      "epoch: 8 \tloss: 0.74366844 \taccuracy: 1.0 \t总: 42 \t对： 42\n",
      "epoch: 9 \tloss: 0.74366844 \taccuracy: 1.0 \t总: 42 \t对： 42\n"
     ]
    }
   ],
   "execution_count": 16
  },
  {
   "metadata": {
    "ExecuteTime": {
     "end_time": "2024-12-11T12:59:25.776234Z",
     "start_time": "2024-12-11T12:59:25.645347Z"
    }
   },
   "cell_type": "code",
   "source": [
    "import matplotlib.pyplot as plt\n",
    "plt.subplot(1,2,1)\n",
    "plt.plot(losses)\n",
    "plt.title(\"1-1:loss\")\n",
    "plt.subplot(1,2,2)\n",
    "plt.plot(acces)\n",
    "plt.title(\"1-1:accuracy\")\n",
    "plt.show()"
   ],
   "id": "11086e491fcbd98e",
   "outputs": [
    {
     "data": {
      "text/plain": [
       "<Figure size 640x480 with 2 Axes>"
      ],
      "image/png": "[encoded data removed]"
     },
     "metadata": {},
     "output_type": "display_data"
    }
   ],
   "execution_count": 17
  },
  {
   "metadata": {
    "ExecuteTime": {
     "end_time": "2024-12-11T12:59:25.918256Z",
     "start_time": "2024-12-11T12:59:25.778139Z"
    }
   },
   "cell_type": "code",
   "source": [
    "a_1 = TCHW(a1)\n",
    "a_2 = TCHW(a2)\n",
    "a_3 = TCHW(a3)\n",
    "a_4 = TCHW(a4)\n",
    "a_5 = TCHW(a5)\n",
    "a_6 = TCHW(a6)\n",
    "a_7 = TCHW(a7)\n",
    "a_8 = TCHW(a8)\n",
    "a_9 = TCHW(a9)\n",
    "a_10 = TCHW(a10)\n",
    "a_11 = TCHW(a11)\n",
    "a_12 = TCHW(a12)\n",
    "a_13 = TCHW(a13)\n",
    "a_14 = TCHW(a14)\n",
    "a_15 = TCHW(a15)\n",
    "a_16 = TCHW(a16)\n",
    "a_17 = TCHW(a17)\n",
    "a_18 = TCHW(a18)\n",
    "a_19 = TCHW(a19)\n",
    "a_20 = TCHW(a20)\n",
    "a_21 = TCHW(a21)\n",
    "a_22 = TCHW(a22)\n",
    "a_23 = TCHW(a23)\n",
    "a_24 = TCHW(a24)\n",
    "print(a_1.shape,\"\\n\",a_2.shape,\"\\n\",a_3.shape,\"\\n\",a_4.shape,\"\\n\",a_5.shape,\"\\n\",a_6.shape,\"\\n\",a_7.shape,\"\\n\",a_8.shape,\"\\n\",a_9.shape,\"\\n\",a_10.shape,\"\\n\",a_11.shape,\"\\n\",a_12.shape,\"\\n\",a_13.shape,\"\\n\",a_14.shape,\"\\n\",a_15.shape,\"\\n\",a_16.shape,\"\\n\",a_17.shape,\"\\n\",a_18.shape,\"\\n\",a_19.shape,\"\\n\",a_20.shape,\"\\n\",a_21.shape,\"\\n\",a_22.shape,\"\\n\",a_23.shape,\"\\n\",a_24.shape)\n"
   ],
   "id": "4523c917f93efe14",
   "outputs": [
    {
     "name": "stdout",
     "output_type": "stream",
     "text": [
      "(42, 5, 9, 9) \n",
      " (23, 5, 9, 9) \n",
      " (49, 5, 9, 9) \n",
      " (32, 5, 9, 9) \n",
      " (22, 5, 9, 9) \n",
      " (40, 5, 9, 9) \n",
      " (38, 5, 9, 9) \n",
      " (52, 5, 9, 9) \n",
      " (36, 5, 9, 9) \n",
      " (42, 5, 9, 9) \n",
      " (12, 5, 9, 9) \n",
      " (27, 5, 9, 9) \n",
      " (54, 5, 9, 9) \n",
      " (42, 5, 9, 9) \n",
      " (64, 5, 9, 9) \n",
      " (35, 5, 9, 9) \n",
      " (17, 5, 9, 9) \n",
      " (44, 5, 9, 9) \n",
      " (35, 5, 9, 9) \n",
      " (12, 5, 9, 9) \n",
      " (28, 5, 9, 9) \n",
      " (28, 5, 9, 9) \n",
      " (43, 5, 9, 9) \n",
      " (34, 5, 9, 9)\n"
     ]
    }
   ],
   "execution_count": 18
  },
  {
   "metadata": {
    "ExecuteTime": {
     "end_time": "2024-12-11T12:59:25.934096Z",
     "start_time": "2024-12-11T12:59:25.918256Z"
    }
   },
   "cell_type": "code",
   "source": [
    "# [1,2,3,0,2,0,0,1,0,1,2,1,1,1,2,3,2,2,3,3,0,3,0,3]\n",
    "train_x = [a_1,a_2,a_3,a_4,a_5,a_6,a_7,a_8,a_9,a_10,a_11,a_12,a_13,a_14,a_15,a_16,a_17,a_18,a_19,a_20]\n",
    "train_y = [np.repeat(1,a_1.shape[0]),\n",
    "           np.repeat(2,a_2.shape[0]),\n",
    "           np.repeat(3,a_3.shape[0]),\n",
    "           np.repeat(0,a_4.shape[0]),\n",
    "           np.repeat(2,a_5.shape[0]),\n",
    "           np.repeat(0,a_6.shape[0]),\n",
    "           np.repeat(0,a_7.shape[0]),\n",
    "           np.repeat(1,a_8.shape[0]),\n",
    "           np.repeat(0,a_9.shape[0]),\n",
    "           np.repeat(1,a_10.shape[0]),\n",
    "           np.repeat(2,a_11.shape[0]),\n",
    "           np.repeat(1,a_12.shape[0]),\n",
    "           np.repeat(1,a_13.shape[0]),\n",
    "           np.repeat(1,a_14.shape[0]),\n",
    "           np.repeat(2,a_15.shape[0]),\n",
    "           np.repeat(3,a_16.shape[0]),\n",
    "           np.repeat(2,a_17.shape[0]),\n",
    "           np.repeat(2,a_18.shape[0]),\n",
    "           np.repeat(3,a_19.shape[0]),\n",
    "           np.repeat(3,a_20.shape[0]),\n",
    "           ]\n",
    "test_x = [a_21,a_22,a_23,a_24]\n",
    "test_y = [np.repeat(0,a_21.shape[0]),\n",
    "           np.repeat(3,a_22.shape[0]),\n",
    "           np.repeat(0,a_23.shape[0]),\n",
    "           np.repeat(3,a_24.shape[0]),]"
   ],
   "id": "a09023f4304dbbee",
   "outputs": [],
   "execution_count": 19
  },
  {
   "metadata": {
    "ExecuteTime": {
     "end_time": "2024-12-11T12:59:25.950044Z",
     "start_time": "2024-12-11T12:59:25.935100Z"
    }
   },
   "cell_type": "code",
   "source": "train_x[0].shape",
   "id": "bea407d277d63b2e",
   "outputs": [
    {
     "data": {
      "text/plain": [
       "(42, 5, 9, 9)"
      ]
     },
     "execution_count": 20,
     "metadata": {},
     "output_type": "execute_result"
    }
   ],
   "execution_count": 20
  },
  {
   "metadata": {
    "ExecuteTime": {
     "end_time": "2024-12-11T12:59:25.965391Z",
     "start_time": "2024-12-11T12:59:25.950044Z"
    }
   },
   "cell_type": "code",
   "source": [
    "class train_dataset(torch.utils.data.Dataset):\n",
    "    def __init__(self):\n",
    "        pass\n",
    "    def __len__(self):\n",
    "        return len(train_x)\n",
    "    def __getitem__(self, i):\n",
    "        x = torch.from_numpy(train_x[i]).float()\n",
    "        y = torch.tensor(train_y[i])\n",
    "        return x, y"
   ],
   "id": "81e90c07f5013511",
   "outputs": [],
   "execution_count": 21
  },
  {
   "metadata": {
    "ExecuteTime": {
     "end_time": "2024-12-11T12:59:25.981417Z",
     "start_time": "2024-12-11T12:59:25.965967Z"
    }
   },
   "cell_type": "code",
   "source": [
    "train_dataset = train_dataset()\n",
    "dataloader = torch.utils.data.DataLoader(train_dataset,batch_size=1,shuffle=True)"
   ],
   "id": "2e19d25a2cb0318b",
   "outputs": [],
   "execution_count": 22
  },
  {
   "metadata": {
    "ExecuteTime": {
     "end_time": "2024-12-11T12:59:25.997219Z",
     "start_time": "2024-12-11T12:59:25.981417Z"
    }
   },
   "cell_type": "code",
   "source": [
    "# 定义超参数\n",
    "criterion = torch.nn.CrossEntropyLoss()\n",
    "epochs = 100\n",
    "loss_list =[]\n",
    "loss_history = []\n",
    "acc_history = []\n",
    "num = 0\n",
    "all = 0"
   ],
   "id": "832aa190bdfad179",
   "outputs": [],
   "execution_count": 23
  },
  {
   "metadata": {
    "ExecuteTime": {
     "end_time": "2024-12-11T13:00:09.606840Z",
     "start_time": "2024-12-11T12:59:25.997219Z"
    }
   },
   "cell_type": "code",
   "source": [
    "cnn2 = cnn1()\n",
    "\n",
    "cnn2.train()\n",
    "for epoch in range(epochs):\n",
    "    for x, y in dataloader:\n",
    "        # print(x.shape)\n",
    "        x = x.float().squeeze(0)   #对齐维度\n",
    "        y = y.squeeze(0)\n",
    "        # print(x.shape)\n",
    "        # print(y.shape)\n",
    "        output = cnn2(x)\n",
    "        # print(output.shape)\n",
    "        \n",
    "        loss = criterion(output, torch.tensor(y))\n",
    "        optimizer = optim.Adam(cnn2.parameters(), lr=0.001)\n",
    "        optimizer.zero_grad()\n",
    "        loss.backward()\n",
    "        optimizer.step()\n",
    "        loss = loss.detach().numpy()\n",
    "        loss_history.append(loss)\n",
    "        out_p = torch.argmax(output, dim=1)\n",
    "        # print(out_p)\n",
    "        \n",
    "        for j in range(len(out_p)):\n",
    "            all +=1\n",
    "            if out_p[j] == y[j]:\n",
    "                num += 1 \n",
    "        \n",
    "    loss_ave = np.mean(loss_history)   # 每轮的平均损失\n",
    "    loss_list.append(loss_ave)\n",
    "    acc = num/all    #每轮的准确率\n",
    "    acc_history.append(acc)\n",
    "    print('epoch:',epoch,'\\t','\\tloss:',loss_ave,'\\t','\\t准确率:',acc,'\\t总数：',all,'\\t对：',num)    \n",
    "    loss_ave = 0\n",
    "    acc = 0\n",
    "    num = 0\n",
    "    all = 0\n",
    "        \n"
   ],
   "id": "72cb18f74f2ce08a",
   "outputs": [
    {
     "name": "stderr",
     "output_type": "stream",
     "text": [
      "C:\\Users\\one\\AppData\\Local\\Temp\\ipykernel_7472\\585480715.py:14: UserWarning: To copy construct from a tensor, it is recommended to use sourceTensor.clone().detach() or sourceTensor.clone().detach().requires_grad_(True), rather than torch.tensor(sourceTensor).\n",
      "  loss = criterion(output, torch.tensor(y))\n"
     ]
    },
    {
     "name": "stdout",
     "output_type": "stream",
     "text": [
      "epoch: 0 \t \tloss: 1.4588802 \t \t准确率: 0.11002785515320335 \t总数： 718 \t对： 79\n",
      "epoch: 1 \t \tloss: 1.4344289 \t \t准确率: 0.318941504178273 \t总数： 718 \t对： 229\n",
      "epoch: 2 \t \tloss: 1.4309815 \t \t准确率: 0.20891364902506965 \t总数： 718 \t对： 150\n",
      "epoch: 3 \t \tloss: 1.4292086 \t \t准确率: 0.3161559888579387 \t总数： 718 \t对： 227\n",
      "epoch: 4 \t \tloss: 1.4248065 \t \t准确率: 0.2604456824512535 \t总数： 718 \t对： 187\n",
      "epoch: 5 \t \tloss: 1.4225345 \t \t准确率: 0.13370473537604458 \t总数： 718 \t对： 96\n",
      "epoch: 6 \t \tloss: 1.4205352 \t \t准确率: 0.27019498607242337 \t总数： 718 \t对： 194\n",
      "epoch: 7 \t \tloss: 1.4170069 \t \t准确率: 0.17688022284122562 \t总数： 718 \t对： 127\n",
      "epoch: 8 \t \tloss: 1.4154283 \t \t准确率: 0.1991643454038997 \t总数： 718 \t对： 143\n",
      "epoch: 9 \t \tloss: 1.413569 \t \t准确率: 0.22562674094707522 \t总数： 718 \t对： 162\n",
      "epoch: 10 \t \tloss: 1.4130461 \t \t准确率: 0.2924791086350975 \t总数： 718 \t对： 210\n",
      "epoch: 11 \t \tloss: 1.41339 \t \t准确率: 0.08913649025069638 \t总数： 718 \t对： 64\n",
      "epoch: 12 \t \tloss: 1.4131398 \t \t准确率: 0.30362116991643456 \t总数： 718 \t对： 218\n",
      "epoch: 13 \t \tloss: 1.4138694 \t \t准确率: 0.2200557103064067 \t总数： 718 \t对： 158\n",
      "epoch: 14 \t \tloss: 1.4140961 \t \t准确率: 0.1532033426183844 \t总数： 718 \t对： 110\n",
      "epoch: 15 \t \tloss: 1.4126492 \t \t准确率: 0.32590529247910865 \t总数： 718 \t对： 234\n",
      "epoch: 16 \t \tloss: 1.412644 \t \t准确率: 0.1991643454038997 \t总数： 718 \t对： 143\n",
      "epoch: 17 \t \tloss: 1.4119488 \t \t准确率: 0.22701949860724233 \t总数： 718 \t对： 163\n",
      "epoch: 18 \t \tloss: 1.4113557 \t \t准确率: 0.233983286908078 \t总数： 718 \t对： 168\n",
      "epoch: 19 \t \tloss: 1.4116434 \t \t准确率: 0.31197771587743733 \t总数： 718 \t对： 224\n",
      "epoch: 20 \t \tloss: 1.4115568 \t \t准确率: 0.10863509749303621 \t总数： 718 \t对： 78\n",
      "epoch: 21 \t \tloss: 1.4111984 \t \t准确率: 0.1991643454038997 \t总数： 718 \t对： 143\n",
      "epoch: 22 \t \tloss: 1.4096434 \t \t准确率: 0.38440111420612816 \t总数： 718 \t对： 276\n",
      "epoch: 23 \t \tloss: 1.4093645 \t \t准确率: 0.21866295264623956 \t总数： 718 \t对： 157\n",
      "epoch: 24 \t \tloss: 1.4093366 \t \t准确率: 0.21866295264623956 \t总数： 718 \t对： 157\n",
      "epoch: 25 \t \tloss: 1.409543 \t \t准确率: 0.15459610027855153 \t总数： 718 \t对： 111\n",
      "epoch: 26 \t \tloss: 1.4091653 \t \t准确率: 0.201949860724234 \t总数： 718 \t对： 145\n",
      "epoch: 27 \t \tloss: 1.4086591 \t \t准确率: 0.233983286908078 \t总数： 718 \t对： 168\n",
      "epoch: 28 \t \tloss: 1.4081355 \t \t准确率: 0.21448467966573817 \t总数： 718 \t对： 154\n",
      "epoch: 29 \t \tloss: 1.4065219 \t \t准确率: 0.4192200557103064 \t总数： 718 \t对： 301\n",
      "epoch: 30 \t \tloss: 1.4065566 \t \t准确率: 0.14484679665738162 \t总数： 718 \t对： 104\n",
      "epoch: 31 \t \tloss: 1.4053177 \t \t准确率: 0.3231197771587744 \t总数： 718 \t对： 232\n",
      "epoch: 32 \t \tloss: 1.4053619 \t \t准确率: 0.32172701949860727 \t总数： 718 \t对： 231\n",
      "epoch: 33 \t \tloss: 1.4049329 \t \t准确率: 0.2200557103064067 \t总数： 718 \t对： 158\n",
      "epoch: 34 \t \tloss: 1.4047564 \t \t准确率: 0.3231197771587744 \t总数： 718 \t对： 232\n",
      "epoch: 35 \t \tloss: 1.4046477 \t \t准确率: 0.10306406685236769 \t总数： 718 \t对： 74\n",
      "epoch: 36 \t \tloss: 1.4040884 \t \t准确率: 0.22562674094707522 \t总数： 718 \t对： 162\n",
      "epoch: 37 \t \tloss: 1.4038844 \t \t准确率: 0.3426183844011142 \t总数： 718 \t对： 246\n",
      "epoch: 38 \t \tloss: 1.4026799 \t \t准确率: 0.24373259052924792 \t总数： 718 \t对： 175\n",
      "epoch: 39 \t \tloss: 1.402673 \t \t准确率: 0.17409470752089137 \t总数： 718 \t对： 125\n",
      "epoch: 40 \t \tloss: 1.402534 \t \t准确率: 0.3147632311977716 \t总数： 718 \t对： 226\n",
      "epoch: 41 \t \tloss: 1.4023044 \t \t准确率: 0.27158774373259054 \t总数： 718 \t对： 195\n",
      "epoch: 42 \t \tloss: 1.4019523 \t \t准确率: 0.2479108635097493 \t总数： 718 \t对： 178\n",
      "epoch: 43 \t \tloss: 1.40201 \t \t准确率: 0.12952646239554316 \t总数： 718 \t对： 93\n",
      "epoch: 44 \t \tloss: 1.4016398 \t \t准确率: 0.27298050139275765 \t总数： 718 \t对： 196\n",
      "epoch: 45 \t \tloss: 1.4014715 \t \t准确率: 0.2646239554317549 \t总数： 718 \t对： 190\n",
      "epoch: 46 \t \tloss: 1.401023 \t \t准确率: 0.2966573816155989 \t总数： 718 \t对： 213\n",
      "epoch: 47 \t \tloss: 1.4007835 \t \t准确率: 0.1935933147632312 \t总数： 718 \t对： 139\n",
      "epoch: 48 \t \tloss: 1.4006203 \t \t准确率: 0.2841225626740947 \t总数： 718 \t对： 204\n",
      "epoch: 49 \t \tloss: 1.4002502 \t \t准确率: 0.2966573816155989 \t总数： 718 \t对： 213\n",
      "epoch: 50 \t \tloss: 1.3999681 \t \t准确率: 0.318941504178273 \t总数： 718 \t对： 229\n",
      "epoch: 51 \t \tloss: 1.3994883 \t \t准确率: 0.24373259052924792 \t总数： 718 \t对： 175\n",
      "epoch: 52 \t \tloss: 1.3994242 \t \t准确率: 0.1935933147632312 \t总数： 718 \t对： 139\n",
      "epoch: 53 \t \tloss: 1.3991059 \t \t准确率: 0.2562674094707521 \t总数： 718 \t对： 184\n",
      "epoch: 54 \t \tloss: 1.3990701 \t \t准确率: 0.1894150417827298 \t总数： 718 \t对： 136\n",
      "epoch: 55 \t \tloss: 1.3989722 \t \t准确率: 0.1894150417827298 \t总数： 718 \t对： 136\n",
      "epoch: 56 \t \tloss: 1.3988967 \t \t准确率: 0.17548746518105848 \t总数： 718 \t对： 126\n",
      "epoch: 57 \t \tloss: 1.3988154 \t \t准确率: 0.23119777158774374 \t总数： 718 \t对： 166\n",
      "epoch: 58 \t \tloss: 1.3988897 \t \t准确率: 0.14623955431754876 \t总数： 718 \t对： 105\n",
      "epoch: 59 \t \tloss: 1.398775 \t \t准确率: 0.20891364902506965 \t总数： 718 \t对： 150\n",
      "epoch: 60 \t \tloss: 1.3986436 \t \t准确率: 0.28551532033426186 \t总数： 718 \t对： 205\n",
      "epoch: 61 \t \tloss: 1.398507 \t \t准确率: 0.149025069637883 \t总数： 718 \t对： 107\n",
      "epoch: 62 \t \tloss: 1.398304 \t \t准确率: 0.28133704735376047 \t总数： 718 \t对： 202\n",
      "epoch: 63 \t \tloss: 1.3979781 \t \t准确率: 0.403899721448468 \t总数： 718 \t对： 290\n",
      "epoch: 64 \t \tloss: 1.3980689 \t \t准确率: 0.16852367688022285 \t总数： 718 \t对： 121\n",
      "epoch: 65 \t \tloss: 1.3979485 \t \t准确率: 0.29526462395543174 \t总数： 718 \t对： 212\n",
      "epoch: 66 \t \tloss: 1.3978609 \t \t准确率: 0.21866295264623956 \t总数： 718 \t对： 157\n",
      "epoch: 67 \t \tloss: 1.3976512 \t \t准确率: 0.3245125348189415 \t总数： 718 \t对： 233\n",
      "epoch: 68 \t \tloss: 1.3976486 \t \t准确率: 0.23119777158774374 \t总数： 718 \t对： 166\n",
      "epoch: 69 \t \tloss: 1.3976171 \t \t准确率: 0.24373259052924792 \t总数： 718 \t对： 175\n",
      "epoch: 70 \t \tloss: 1.3976543 \t \t准确率: 0.20612813370473537 \t总数： 718 \t对： 148\n",
      "epoch: 71 \t \tloss: 1.3975626 \t \t准确率: 0.27715877437325903 \t总数： 718 \t对： 199\n",
      "epoch: 72 \t \tloss: 1.3974061 \t \t准确率: 0.2576601671309192 \t总数： 718 \t对： 185\n",
      "epoch: 73 \t \tloss: 1.3973755 \t \t准确率: 0.1977715877437326 \t总数： 718 \t对： 142\n",
      "epoch: 74 \t \tloss: 1.3972254 \t \t准确率: 0.2604456824512535 \t总数： 718 \t对： 187\n",
      "epoch: 75 \t \tloss: 1.3970957 \t \t准确率: 0.3203342618384401 \t总数： 718 \t对： 230\n",
      "epoch: 76 \t \tloss: 1.396839 \t \t准确率: 0.2200557103064067 \t总数： 718 \t对： 158\n",
      "epoch: 77 \t \tloss: 1.3966501 \t \t准确率: 0.3147632311977716 \t总数： 718 \t对： 226\n",
      "epoch: 78 \t \tloss: 1.3964105 \t \t准确率: 0.18523676880222842 \t总数： 718 \t对： 133\n",
      "epoch: 79 \t \tloss: 1.3963836 \t \t准确率: 0.16573816155988857 \t总数： 718 \t对： 119\n",
      "epoch: 80 \t \tloss: 1.3963675 \t \t准确率: 0.2562674094707521 \t总数： 718 \t对： 184\n",
      "epoch: 81 \t \tloss: 1.3963726 \t \t准确率: 0.233983286908078 \t总数： 718 \t对： 168\n",
      "epoch: 82 \t \tloss: 1.3960992 \t \t准确率: 0.28969359331476324 \t总数： 718 \t对： 208\n",
      "epoch: 83 \t \tloss: 1.396063 \t \t准确率: 0.22701949860724233 \t总数： 718 \t对： 163\n",
      "epoch: 84 \t \tloss: 1.3959694 \t \t准确率: 0.31058495821727017 \t总数： 718 \t对： 223\n",
      "epoch: 85 \t \tloss: 1.3959844 \t \t准确率: 0.21448467966573817 \t总数： 718 \t对： 154\n",
      "epoch: 86 \t \tloss: 1.3958973 \t \t准确率: 0.27715877437325903 \t总数： 718 \t对： 199\n",
      "epoch: 87 \t \tloss: 1.395805 \t \t准确率: 0.25348189415041783 \t总数： 718 \t对： 182\n",
      "epoch: 88 \t \tloss: 1.3957412 \t \t准确率: 0.2116991643454039 \t总数： 718 \t对： 152\n",
      "epoch: 89 \t \tloss: 1.3957555 \t \t准确率: 0.2479108635097493 \t总数： 718 \t对： 178\n",
      "epoch: 90 \t \tloss: 1.395693 \t \t准确率: 0.383008356545961 \t总数： 718 \t对： 275\n",
      "epoch: 91 \t \tloss: 1.3956952 \t \t准确率: 0.25348189415041783 \t总数： 718 \t对： 182\n",
      "epoch: 92 \t \tloss: 1.3956187 \t \t准确率: 0.24651810584958217 \t总数： 718 \t对： 177\n",
      "epoch: 93 \t \tloss: 1.395553 \t \t准确率: 0.2757660167130919 \t总数： 718 \t对： 198\n",
      "epoch: 94 \t \tloss: 1.3953799 \t \t准确率: 0.3203342618384401 \t总数： 718 \t对： 230\n",
      "epoch: 95 \t \tloss: 1.3951548 \t \t准确率: 0.2938718662952646 \t总数： 718 \t对： 211\n",
      "epoch: 96 \t \tloss: 1.395172 \t \t准确率: 0.20612813370473537 \t总数： 718 \t对： 148\n",
      "epoch: 97 \t \tloss: 1.3948292 \t \t准确率: 0.38857938718662954 \t总数： 718 \t对： 279\n",
      "epoch: 98 \t \tloss: 1.3948518 \t \t准确率: 0.3147632311977716 \t总数： 718 \t对： 226\n",
      "epoch: 99 \t \tloss: 1.3947415 \t \t准确率: 0.2883008356545961 \t总数： 718 \t对： 207\n"
     ]
    }
   ],
   "execution_count": 24
  },
  {
   "metadata": {
    "ExecuteTime": {
     "end_time": "2024-12-11T13:00:09.670896Z",
     "start_time": "2024-12-11T13:00:09.606840Z"
    }
   },
   "cell_type": "code",
   "source": [
    "plt.plot(loss_list)\n",
    "plt.title('loss')\n",
    "plt.show()"
   ],
   "id": "b50328077bfd8086",
   "outputs": [
    {
     "data": {
      "text/plain": [
       "<Figure size 640x480 with 1 Axes>"
      ],
      "image/png": "[encoded data removed]"
     },
     "metadata": {},
     "output_type": "display_data"
    }
   ],
   "execution_count": 25
  },
  {
   "metadata": {
    "ExecuteTime": {
     "end_time": "2024-12-11T13:00:09.768574Z",
     "start_time": "2024-12-11T13:00:09.670896Z"
    }
   },
   "cell_type": "code",
   "source": [
    "plt.plot(acc_history)\n",
    "plt.title('acc')\n",
    "plt.show()"
   ],
   "id": "ef8d40af82032fcc",
   "outputs": [
    {
     "data": {
      "text/plain": [
       "<Figure size 640x480 with 1 Axes>"
      ],
      "image/png": "[encoded data removed]"
     },
     "metadata": {},
     "output_type": "display_data"
    }
   ],
   "execution_count": 26
  },
  {
   "metadata": {},
   "cell_type": "markdown",
   "source": "### 准确率低的原因：数据量太少，只是一个被试的24个片段。",
   "id": "e6d5c1e0cd7e2392"
  }
 ],
 "metadata": {
  "kernelspec": {
   "display_name": "Python 3",
   "language": "python",
   "name": "python3"
  },
  "language_info": {
   "codemirror_mode": {
    "name": "ipython",
    "version": 2
   },
   "file_extension": ".py",
   "mimetype": "text/x-python",
   "name": "python",
   "nbconvert_exporter": "python",
   "pygments_lexer": "ipython2",
   "version": "2.7.6"
  }
 },
 "nbformat": 4,
 "nbformat_minor": 5
}
