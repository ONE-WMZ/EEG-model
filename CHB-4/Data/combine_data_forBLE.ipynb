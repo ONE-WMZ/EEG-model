{
 "cells": [
  {
   "cell_type": "code",
   "id": "initial_id",
   "metadata": {
    "collapsed": true,
    "ExecuteTime": {
     "end_time": "2025-05-18T06:59:14.994600Z",
     "start_time": "2025-05-18T06:59:14.854419Z"
    }
   },
   "source": [
    "import numpy as np\n",
    "ble_data_1 = 'train/label_1/chb01.npy'\n",
    "ble_data_0 = 'train/label_0/chb01.npy'"
   ],
   "outputs": [],
   "execution_count": 1
  },
  {
   "metadata": {
    "ExecuteTime": {
     "end_time": "2025-05-18T07:00:24.711902Z",
     "start_time": "2025-05-18T07:00:24.696254Z"
    }
   },
   "cell_type": "code",
   "source": [
    "data_1 = np.load('train/label_1/chb01.npy')\n",
    "data_0 = np.load('train/label_0/chb01.npy')"
   ],
   "id": "455e467ecdd0ada6",
   "outputs": [],
   "execution_count": 2
  },
  {
   "metadata": {
    "ExecuteTime": {
     "end_time": "2025-05-18T07:01:49.688832Z",
     "start_time": "2025-05-18T07:01:49.682138Z"
    }
   },
   "cell_type": "code",
   "source": [
    "print(data_0.shape)\n",
    "print(data_1.shape)"
   ],
   "id": "8308cf40b4ea07c1",
   "outputs": [
    {
     "name": "stdout",
     "output_type": "stream",
     "text": [
      "(6, 240000)\n",
      "(6, 88400)\n"
     ]
    }
   ],
   "execution_count": 3
  },
  {
   "metadata": {
    "ExecuteTime": {
     "end_time": "2025-05-18T07:01:57.212018Z",
     "start_time": "2025-05-18T07:01:57.195553Z"
    }
   },
   "cell_type": "code",
   "source": "combined_data = np.concatenate((data_0, data_1), axis=1)",
   "id": "59dfc91ce9eb8592",
   "outputs": [],
   "execution_count": 4
  },
  {
   "metadata": {
    "ExecuteTime": {
     "end_time": "2025-05-18T07:02:11.823002Z",
     "start_time": "2025-05-18T07:02:11.812824Z"
    }
   },
   "cell_type": "code",
   "source": "print(combined_data.shape)",
   "id": "6fa84d057a940082",
   "outputs": [
    {
     "name": "stdout",
     "output_type": "stream",
     "text": [
      "(6, 328400)\n"
     ]
    }
   ],
   "execution_count": 5
  },
  {
   "metadata": {
    "ExecuteTime": {
     "end_time": "2025-05-18T07:03:12.380914Z",
     "start_time": "2025-05-18T07:03:12.358877Z"
    }
   },
   "cell_type": "code",
   "source": "# np.save('combined_data.npy', combined_data)  # 保存合并后的数据",
   "id": "bff5376f2bfb6635",
   "outputs": [],
   "execution_count": 6
  }
 ],
 "metadata": {
  "kernelspec": {
   "display_name": "Python 3",
   "language": "python",
   "name": "python3"
  },
  "language_info": {
   "codemirror_mode": {
    "name": "ipython",
    "version": 2
   },
   "file_extension": ".py",
   "mimetype": "text/x-python",
   "name": "python",
   "nbconvert_exporter": "python",
   "pygments_lexer": "ipython2",
   "version": "2.7.6"
  }
 },
 "nbformat": 4,
 "nbformat_minor": 5
}
