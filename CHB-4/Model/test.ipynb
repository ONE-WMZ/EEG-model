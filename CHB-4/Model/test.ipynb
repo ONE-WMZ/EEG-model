{
 "cells": [
  {
   "cell_type": "code",
   "id": "initial_id",
   "metadata": {
    "collapsed": true,
    "ExecuteTime": {
     "end_time": "2025-05-22T12:39:36.602295Z",
     "start_time": "2025-05-22T12:39:35.355563Z"
    }
   },
   "source": [
    "import torch\n",
    "from tqdm import tqdm\n",
    "from Datasets_Test import test_dataloader\n",
    "from model_seizure import EEGLightNet"
   ],
   "outputs": [],
   "execution_count": 1
  },
  {
   "metadata": {
    "ExecuteTime": {
     "end_time": "2025-05-22T12:39:36.614570Z",
     "start_time": "2025-05-22T12:39:36.604898Z"
    }
   },
   "cell_type": "code",
   "source": [
    "def test_model(model, dataloader, device):\n",
    "    \"\"\"\n",
    "    测试模型在给定测试集上的表现:\n",
    "    参数:\n",
    "    - model: 已经训练好的模型。\n",
    "    - dataloader: 测试数据集的数据加载器。\n",
    "    - device: 训练设备(cpu/cuda)。\n",
    "    \"\"\"\n",
    "    # 切换模型到评估模式\n",
    "    model.eval()\n",
    "    model.to(device)\n",
    "    \n",
    "    correct_predictions = 0\n",
    "    total_predictions = 0\n",
    "    \n",
    "    # 使用 tqdm 包裹 dataloader 来显示进度条\n",
    "    progress_bar = tqdm(dataloader, desc='Testing', unit='batch')\n",
    "    \n",
    "    # 在不计算梯度的情况下进行前向传播\n",
    "    with torch.no_grad():\n",
    "        for inputs, labels in progress_bar:\n",
    "            inputs, labels = inputs.to(device), labels.to(device)\n",
    "            \n",
    "            outputs = model(inputs)\n",
    "            _, predicted = torch.max(outputs, 1)\n",
    "            \n",
    "            total_predictions += labels.size(0)\n",
    "            correct_predictions += (predicted == labels).sum().item()\n",
    "\n",
    "            # 更新进度条的信息，显示当前的准确率\n",
    "            progress_bar.set_postfix({'accuracy': correct_predictions / total_predictions})\n",
    "    \n",
    "    accuracy = correct_predictions / total_predictions\n",
    "    print(f\"\\nTest Accuracy: {accuracy:.4f}\")"
   ],
   "id": "e6cd0fc300cebbe4",
   "outputs": [],
   "execution_count": 2
  },
  {
   "metadata": {
    "ExecuteTime": {
     "end_time": "2025-05-22T12:39:36.760497Z",
     "start_time": "2025-05-22T12:39:36.615688Z"
    }
   },
   "cell_type": "code",
   "source": [
    "model = EEGLightNet()\n",
    "model_path = \"model_seizure_5(92.2).pth\"\n",
    "# 加载已保存的模型参数\n",
    "device = torch.device(\"cuda\" if torch.cuda.is_available() else \"cpu\")\n",
    "model.load_state_dict(torch.load(model_path, weights_only=True, map_location=device))\n",
    "model.eval()"
   ],
   "id": "810af0b21b83d9b0",
   "outputs": [
    {
     "data": {
      "text/plain": [
       "EEGLightNet(\n",
       "  (input_block): Sequential(\n",
       "    (0): Conv1d(6, 16, kernel_size=(1,), stride=(1,))\n",
       "    (1): BatchNorm1d(16, eps=1e-05, momentum=0.1, affine=True, track_running_stats=True)\n",
       "    (2): ReLU()\n",
       "  )\n",
       "  (feature_extractor): Sequential(\n",
       "    (0): LightweightMultiScaleConv(\n",
       "      (conv3): Conv1d(16, 21, kernel_size=(3,), stride=(1,), padding=(1,))\n",
       "      (conv5): Conv1d(16, 21, kernel_size=(5,), stride=(1,), padding=(2,))\n",
       "      (conv7): Conv1d(16, 21, kernel_size=(7,), stride=(1,), padding=(3,))\n",
       "      (attention): Sequential(\n",
       "        (0): AdaptiveAvgPool1d(output_size=1)\n",
       "        (1): Flatten(start_dim=1, end_dim=-1)\n",
       "        (2): Linear(in_features=63, out_features=15, bias=True)\n",
       "        (3): ReLU()\n",
       "        (4): Linear(in_features=15, out_features=3, bias=True)\n",
       "        (5): Softmax(dim=1)\n",
       "      )\n",
       "      (bn): BatchNorm1d(63, eps=1e-05, momentum=0.1, affine=True, track_running_stats=True)\n",
       "      (act): Mish()\n",
       "    )\n",
       "    (1): MaxPool1d(kernel_size=2, stride=2, padding=0, dilation=1, ceil_mode=False)\n",
       "    (2): Dropout1d(p=0.5, inplace=False)\n",
       "    (3): LightweightMultiScaleConv(\n",
       "      (conv3): Conv1d(63, 42, kernel_size=(3,), stride=(1,), padding=(1,))\n",
       "      (conv5): Conv1d(63, 42, kernel_size=(5,), stride=(1,), padding=(2,))\n",
       "      (conv7): Conv1d(63, 42, kernel_size=(7,), stride=(1,), padding=(3,))\n",
       "      (attention): Sequential(\n",
       "        (0): AdaptiveAvgPool1d(output_size=1)\n",
       "        (1): Flatten(start_dim=1, end_dim=-1)\n",
       "        (2): Linear(in_features=126, out_features=31, bias=True)\n",
       "        (3): ReLU()\n",
       "        (4): Linear(in_features=31, out_features=3, bias=True)\n",
       "        (5): Softmax(dim=1)\n",
       "      )\n",
       "      (bn): BatchNorm1d(126, eps=1e-05, momentum=0.1, affine=True, track_running_stats=True)\n",
       "      (act): Mish()\n",
       "    )\n",
       "    (4): MaxPool1d(kernel_size=2, stride=2, padding=0, dilation=1, ceil_mode=False)\n",
       "    (5): Dropout1d(p=0.5, inplace=False)\n",
       "    (6): LightweightMultiScaleConv(\n",
       "      (conv3): Conv1d(126, 84, kernel_size=(3,), stride=(1,), padding=(1,))\n",
       "      (conv5): Conv1d(126, 84, kernel_size=(5,), stride=(1,), padding=(2,))\n",
       "      (conv7): Conv1d(126, 84, kernel_size=(7,), stride=(1,), padding=(3,))\n",
       "      (attention): Sequential(\n",
       "        (0): AdaptiveAvgPool1d(output_size=1)\n",
       "        (1): Flatten(start_dim=1, end_dim=-1)\n",
       "        (2): Linear(in_features=252, out_features=63, bias=True)\n",
       "        (3): ReLU()\n",
       "        (4): Linear(in_features=63, out_features=3, bias=True)\n",
       "        (5): Softmax(dim=1)\n",
       "      )\n",
       "      (bn): BatchNorm1d(252, eps=1e-05, momentum=0.1, affine=True, track_running_stats=True)\n",
       "      (act): Mish()\n",
       "    )\n",
       "    (7): AdaptiveAvgPool1d(output_size=1)\n",
       "  )\n",
       "  (classifier): Sequential(\n",
       "    (0): Flatten(start_dim=1, end_dim=-1)\n",
       "    (1): Linear(in_features=252, out_features=64, bias=True)\n",
       "    (2): Dropout(p=0.6, inplace=False)\n",
       "    (3): Mish()\n",
       "    (4): Linear(in_features=64, out_features=2, bias=True)\n",
       "  )\n",
       ")"
      ]
     },
     "execution_count": 3,
     "metadata": {},
     "output_type": "execute_result"
    }
   ],
   "execution_count": 3
  },
  {
   "metadata": {
    "ExecuteTime": {
     "end_time": "2025-05-22T12:39:51.727456Z",
     "start_time": "2025-05-22T12:39:36.760497Z"
    }
   },
   "cell_type": "code",
   "source": "test_model(model, test_dataloader, device)",
   "id": "9c5f4c784754be3b",
   "outputs": [
    {
     "name": "stderr",
     "output_type": "stream",
     "text": [
      "Testing: 100%|██████████| 2474/2474 [00:14<00:00, 165.40batch/s, accuracy=0.922]"
     ]
    },
    {
     "name": "stdout",
     "output_type": "stream",
     "text": [
      "\n",
      "Test Accuracy: 0.9219\n"
     ]
    },
    {
     "name": "stderr",
     "output_type": "stream",
     "text": [
      "\n"
     ]
    }
   ],
   "execution_count": 4
  }
 ],
 "metadata": {
  "kernelspec": {
   "display_name": "Python 3",
   "language": "python",
   "name": "python3"
  },
  "language_info": {
   "codemirror_mode": {
    "name": "ipython",
    "version": 2
   },
   "file_extension": ".py",
   "mimetype": "text/x-python",
   "name": "python",
   "nbconvert_exporter": "python",
   "pygments_lexer": "ipython2",
   "version": "2.7.6"
  }
 },
 "nbformat": 4,
 "nbformat_minor": 5
}
