{
 "cells": [
  {
   "cell_type": "code",
   "id": "initial_id",
   "metadata": {
    "collapsed": true,
    "ExecuteTime": {
     "end_time": "2025-04-20T12:40:52.364956Z",
     "start_time": "2025-04-20T12:40:52.348997Z"
    }
   },
   "source": [
    "from UNet import MaskedAE\n",
    "import torch\n",
    "import torch.nn.functional as F"
   ],
   "outputs": [],
   "execution_count": 3
  },
  {
   "metadata": {
    "ExecuteTime": {
     "end_time": "2025-04-20T12:40:55.368681Z",
     "start_time": "2025-04-20T12:40:54.479271Z"
    }
   },
   "cell_type": "code",
   "source": [
    "# 初始化\n",
    "model = MaskedAE(mask_type=\"block\")\n",
    "optimizer = torch.optim.AdamW(model.parameters(), lr=3e-4, weight_decay=1e-5)\n",
    "scheduler = torch.optim.lr_scheduler.CosineAnnealingLR(optimizer, T_max=100)\n",
    "# 模拟数据加载\n",
    "train_loader = torch.utils.data.DataLoader(\n",
    "    torch.randn(1000, 22, 64),  # 模拟1000个样本\n",
    "    batch_size=8,\n",
    "    shuffle=True\n",
    ")"
   ],
   "id": "efb6329f21232adf",
   "outputs": [],
   "execution_count": 4
  },
  {
   "metadata": {
    "ExecuteTime": {
     "end_time": "2025-04-20T12:43:33.343681Z",
     "start_time": "2025-04-20T12:40:58.051608Z"
    }
   },
   "cell_type": "code",
   "source": [
    "# 训练循环\n",
    "for epoch in range(100):\n",
    "    model.train()\n",
    "    total_loss = 0\n",
    "    for batch in train_loader:\n",
    "        optimizer.zero_grad()\n",
    "        # 动态调整掩码比例 (20% -> 60%)\n",
    "        curr_mask_ratio = 0.2 + 0.4 * (epoch / 100)\n",
    "        outputs = model(batch, mask_ratio=curr_mask_ratio)\n",
    "        loss = outputs['loss']\n",
    "        loss.backward()\n",
    "        optimizer.step()\n",
    "        total_loss += loss.item()\n",
    "    scheduler.step()\n",
    "    # 验证重建效果\n",
    "    if epoch % 10 == 0:\n",
    "        model.eval()\n",
    "        with torch.no_grad():\n",
    "            test_sample = next(iter(train_loader))\n",
    "            out = model(test_sample)\n",
    "            # 计算可见区域的PSNR\n",
    "            mse = F.mse_loss(out['reconstructed'], test_sample)\n",
    "            psnr = -10 * torch.log10(mse)\n",
    "            print(f\"Epoch {epoch} | Loss: {total_loss/len(train_loader):.4f} | \"\n",
    "                  f\"PSNR: {psnr:.2f} dB\")"
   ],
   "id": "41909d779b9580c0",
   "outputs": [
    {
     "name": "stdout",
     "output_type": "stream",
     "text": [
      "Epoch 0 | Loss: 0.8209 | PSNR: 0.06 dB\n",
      "Epoch 10 | Loss: 0.6134 | PSNR: 0.69 dB\n",
      "Epoch 20 | Loss: 0.5645 | PSNR: 0.78 dB\n",
      "Epoch 30 | Loss: 0.5149 | PSNR: 0.74 dB\n",
      "Epoch 40 | Loss: 0.4712 | PSNR: 0.84 dB\n",
      "Epoch 50 | Loss: 0.4441 | PSNR: 0.94 dB\n",
      "Epoch 60 | Loss: 0.4061 | PSNR: 0.96 dB\n",
      "Epoch 70 | Loss: 0.3802 | PSNR: 1.05 dB\n",
      "Epoch 80 | Loss: 0.3457 | PSNR: 0.91 dB\n",
      "Epoch 90 | Loss: 0.3225 | PSNR: 0.85 dB\n"
     ]
    }
   ],
   "execution_count": 5
  }
 ],
 "metadata": {
  "kernelspec": {
   "display_name": "Python 3",
   "language": "python",
   "name": "python3"
  },
  "language_info": {
   "codemirror_mode": {
    "name": "ipython",
    "version": 2
   },
   "file_extension": ".py",
   "mimetype": "text/x-python",
   "name": "python",
   "nbconvert_exporter": "python",
   "pygments_lexer": "ipython2",
   "version": "2.7.6"
  }
 },
 "nbformat": 4,
 "nbformat_minor": 5
}
